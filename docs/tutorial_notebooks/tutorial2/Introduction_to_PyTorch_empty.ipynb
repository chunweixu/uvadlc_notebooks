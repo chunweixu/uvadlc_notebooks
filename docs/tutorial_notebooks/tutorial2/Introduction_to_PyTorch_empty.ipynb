{
  "cells": [
    {
      "cell_type": "markdown",
      "metadata": {
        "id": "cyCQ6OPEOlEv"
      },
      "source": [
        "# Tutorial 2: Introduction to PyTorch\n",
        "\n",
        "![Status](https://img.shields.io/static/v1.svg?label=Status&message=Finished&color=green)\n",
        "\n",
        "**Filled notebook:** \n",
        "[![View on Github](https://img.shields.io/static/v1.svg?logo=github&label=Repo&message=View%20On%20Github&color=lightgrey)](https://github.com/phlippe/uvadlc_notebooks/blob/master/docs/tutorial_notebooks/tutorial2/Introduction_to_PyTorch.ipynb)\n",
        "[![Open In Collab](https://colab.research.google.com/assets/colab-badge.svg)](https://colab.research.google.com/github/phlippe/uvadlc_notebooks/blob/master/docs/tutorial_notebooks/tutorial2/Introduction_to_PyTorch.ipynb)  \n",
        "**Empty notebook:** \n",
        "[![View on Github](https://img.shields.io/static/v1.svg?logo=github&label=Repo&message=View%20On%20Github&color=lightgrey)](https://github.com/phlippe/uvadlc_notebooks/blob/master/docs/tutorial_notebooks/tutorial2/Introduction_to_PyTorch_empty.ipynb)\n",
        "[![Open In Collab](https://colab.research.google.com/assets/colab-badge.svg)](https://colab.research.google.com/github/phlippe/uvadlc_notebooks/blob/master/docs/tutorial_notebooks/tutorial2/Introduction_to_PyTorch_empty.ipynb)\n",
        "\n",
        "*This is an empty version of the notebook. Try to fill in the blanks indicated by `## TODO` comments and `...` parts in the code*"
      ]
    },
    {
      "cell_type": "markdown",
      "metadata": {
        "id": "_2CayG6wOlEx"
      },
      "source": [
        "Welcome to our PyTorch tutorial for the Deep Learning course 2020 at the University of Amsterdam! The following notebook is meant to give a short introduction to PyTorch basics, and get you setup for writing your own neural networks. PyTorch is an open source machine learning framework that allows you to write your own neural networks and optimize them efficiently. However, PyTorch is not the only framework of its kind. Alternatives to PyTorch include [TensorFlow](https://www.tensorflow.org/), [JAX](https://github.com/google/jax#quickstart-colab-in-the-cloud) and [Caffe](http://caffe.berkeleyvision.org/). We choose to teach PyTorch at the University of Amsterdam because it is well established, has a huge developer community (originally developed by Facebook), is very flexible and especially used in research. Many current papers publish their code in PyTorch, and thus it is good to be familiar with PyTorch as well. \n",
        "Meanwhile, TensorFlow (developed by Google) is usually known for being a production-grade deep learning library. Still, if you know one machine learning framework in depth, it is very easy to learn another one because many of them use the same concepts and ideas. For instance, TensorFlow's version 2 was heavily inspired by the most popular features of PyTorch, making the frameworks even more similar. \n",
        "If you are already familiar with PyTorch and have created your own neural network projects, feel free to just skim this notebook.\n",
        "\n",
        "We are of course not the first ones to create a PyTorch tutorial. There are many great tutorials online, including the [\"60-min blitz\"](https://pytorch.org/tutorials/beginner/deep_learning_60min_blitz.html) on the official [PyTorch website](https://pytorch.org/tutorials/). Yet, we choose to create our own tutorial which is designed to give you the basics particularly necessary for the practicals, but still understand how PyTorch works under the hood. Over the next few weeks, we will also keep exploring new PyTorch features in the series of Jupyter notebook tutorials about deep learning. \n",
        "\n",
        "We will use a set of standard libraries that are often used in machine learning projects. If you are running this notebook on Google Colab, all libraries should be pre-installed. If you are running this notebook locally, make sure you have installed our `dl2020` environment and have activated it."
      ]
    },
    {
      "cell_type": "code",
      "execution_count": 1,
      "metadata": {
        "id": "oxgNF2ztOlEy"
      },
      "outputs": [],
      "source": [
        "## Standard libraries\n",
        "import os\n",
        "import math\n",
        "import numpy as np \n",
        "import time\n",
        "\n",
        "## Imports for plotting\n",
        "import matplotlib.pyplot as plt\n",
        "%matplotlib inline \n",
        "from IPython.display import set_matplotlib_formats\n",
        "set_matplotlib_formats('svg', 'pdf') # For export\n",
        "from matplotlib.colors import to_rgba\n",
        "import seaborn as sns\n",
        "sns.set()\n",
        "\n",
        "## Progress bar\n",
        "from tqdm.notebook import tqdm"
      ]
    },
    {
      "cell_type": "markdown",
      "metadata": {
        "id": "kem0r_iZOlE0"
      },
      "source": [
        "## The Basics of PyTorch\n",
        "\n",
        "We will start with reviewing the very basic concepts of PyTorch. As a prerequisite, we recommend to be familiar with the `numpy` package as most machine learning frameworks are based on very similar concepts. If you are not familiar with numpy yet, don't worry: here is a [tutorial](https://numpy.org/devdocs/user/quickstart.html) to go through. \n",
        "\n",
        "So, let's start with importing PyTorch. The package is called `torch`, based on its original framework [Torch](http://torch.ch/). As a first step, we can check its version:"
      ]
    },
    {
      "cell_type": "code",
      "execution_count": 2,
      "metadata": {
        "id": "zTCniNkhOlE0",
        "outputId": "e9d13a0f-4b41-4770-b28c-1cb74a4b850e",
        "colab": {
          "base_uri": "https://localhost:8080/"
        }
      },
      "outputs": [
        {
          "output_type": "stream",
          "name": "stdout",
          "text": [
            "Using torch 1.12.1+cu113\n"
          ]
        }
      ],
      "source": [
        "import torch\n",
        "print(\"Using torch\", torch.__version__)"
      ]
    },
    {
      "cell_type": "markdown",
      "metadata": {
        "id": "X-hQ7Z-WOlE1"
      },
      "source": [
        "At the time of writing this tutorial (mid of October 2020), the current stable version is 1.6. You should therefore see the output `Using torch 1.6.0`. If you see a lower version number, make sure you have installed the correct the environment, or ask one of your TAs. In case PyTorch 1.7 or newer will be published during the time of the course, don't worry. The interface between PyTorch versions doesn't change too much, and hence all code should also be runnable with newer versions.\n",
        "\n",
        "As in every machine learning framework, PyTorch provides functions that are stochastic like generating random numbers. However, a very good practice is to setup your code to be reproducible with the exact same random numbers. This is why we set a seed below. "
      ]
    },
    {
      "cell_type": "code",
      "execution_count": 3,
      "metadata": {
        "id": "YZ74eId5OlE1",
        "outputId": "712fa3d5-c148-4cc0-d173-29369b3b1f77",
        "colab": {
          "base_uri": "https://localhost:8080/"
        }
      },
      "outputs": [
        {
          "output_type": "execute_result",
          "data": {
            "text/plain": [
              "<torch._C.Generator at 0x7f7ea82c6110>"
            ]
          },
          "metadata": {},
          "execution_count": 3
        }
      ],
      "source": [
        "torch.manual_seed(42) # Setting the seed"
      ]
    },
    {
      "cell_type": "markdown",
      "metadata": {
        "id": "u0sN0XgMOlE2"
      },
      "source": [
        "### Tensors\n",
        "\n",
        "Tensors are the PyTorch equivalent to Numpy arrays, with the addition to also have support for GPU acceleration (more on that later).\n",
        "The name \"tensor\" is a generalization of concepts you already know. For instance, a vector is a 1-D tensor, and a matrix a 2-D tensor. When working with neural networks, we will use tensors of various shapes and number of dimensions.\n",
        "\n",
        "Most common functions you know from numpy can be used on tensors as well. Actually, since numpy arrays are so similar to tensors, we can convert most tensors to numpy arrays (and back) but we don't need it too often.\n",
        "\n",
        "#### Initialization\n",
        "\n",
        "Let's first start by looking at different ways of creating a tensor. There are many possible options, the most simple one is to call `torch.Tensor` passing the desired shape as input argument:"
      ]
    },
    {
      "cell_type": "code",
      "execution_count": 4,
      "metadata": {
        "id": "7smpYCspOlE2",
        "outputId": "0b95e86e-e2dc-4c02-8ec5-268a9078f099",
        "colab": {
          "base_uri": "https://localhost:8080/"
        }
      },
      "outputs": [
        {
          "output_type": "stream",
          "name": "stdout",
          "text": [
            "tensor([[[3.3162e-34, 0.0000e+00, 0.0000e+00, 0.0000e+00],\n",
            "         [0.0000e+00, 0.0000e+00, 0.0000e+00, 0.0000e+00],\n",
            "         [0.0000e+00, 0.0000e+00, 0.0000e+00, 0.0000e+00]],\n",
            "\n",
            "        [[0.0000e+00, 0.0000e+00, 0.0000e+00, 0.0000e+00],\n",
            "         [0.0000e+00, 0.0000e+00, 0.0000e+00, 0.0000e+00],\n",
            "         [0.0000e+00, 0.0000e+00, 0.0000e+00, 0.0000e+00]]])\n"
          ]
        }
      ],
      "source": [
        "x = torch.Tensor(2, 3, 4)\n",
        "print(x)"
      ]
    },
    {
      "cell_type": "markdown",
      "metadata": {
        "id": "56iM1uyjOlE3"
      },
      "source": [
        "The function `torch.Tensor` allocates memory for the desired tensor, but reuses any values that have already been in the memory. To directly assign values to the tensor during initialization, there are many alternatives including:\n",
        "\n",
        "* `torch.zeros`: Creates a tensor filled with zeros\n",
        "* `torch.ones`: Creates a tensor filled with ones\n",
        "* `torch.rand`: Creates a tensor with random values uniformly sampled between 0 and 1\n",
        "* `torch.randn`: Creates a tensor with random values sampled from a normal distribution with mean 0 and variance 1\n",
        "* `torch.arange`: Creates a tensor containing the values $N,N+1,N+2,...,M$\n",
        "* `torch.Tensor` (input list): Creates a tensor from the list elements you provide\n",
        "* `torch.from_numpy`: Converts a numpy array into a PyTorch tensor"
      ]
    },
    {
      "cell_type": "code",
      "execution_count": 5,
      "metadata": {
        "id": "K-p-UOzrOlE3",
        "outputId": "5d64896e-fc45-474c-b471-0f0809118e48",
        "colab": {
          "base_uri": "https://localhost:8080/"
        }
      },
      "outputs": [
        {
          "output_type": "stream",
          "name": "stdout",
          "text": [
            "tensor([[1., 2.],\n",
            "        [3., 4.]])\n"
          ]
        }
      ],
      "source": [
        "## TODO: Create a tensor from the list [[1, 2], [3, 4]]\n",
        "x = torch.Tensor([[1,2],[3,4]])\n",
        "print(x)"
      ]
    },
    {
      "cell_type": "code",
      "execution_count": 6,
      "metadata": {
        "id": "ExNMrH_2OlE4",
        "outputId": "4db9b94f-0f46-4d8f-b6aa-749bf68a7f9b",
        "colab": {
          "base_uri": "https://localhost:8080/"
        }
      },
      "outputs": [
        {
          "output_type": "stream",
          "name": "stdout",
          "text": [
            "tensor([[[0.8823, 0.9150, 0.3829, 0.9593],\n",
            "         [0.3904, 0.6009, 0.2566, 0.7936],\n",
            "         [0.9408, 0.1332, 0.9346, 0.5936]],\n",
            "\n",
            "        [[0.8694, 0.5677, 0.7411, 0.4294],\n",
            "         [0.8854, 0.5739, 0.2666, 0.6274],\n",
            "         [0.2696, 0.4414, 0.2969, 0.8317]]])\n"
          ]
        }
      ],
      "source": [
        "## TODO: Create a tensor with random values between 0 and 1 with the shape [2, 3, 4]\n",
        "x = torch.rand(2, 3, 4)\n",
        "print(x)"
      ]
    },
    {
      "cell_type": "markdown",
      "metadata": {
        "id": "AQCtGQTSOlE4"
      },
      "source": [
        "You can obtain the shape of a tensor in the same way as in numpy (`x.shape`), or using the `.size` method:"
      ]
    },
    {
      "cell_type": "code",
      "execution_count": 7,
      "metadata": {
        "id": "r7L0NRMzOlE4",
        "outputId": "1f6d719b-16c6-42de-d5d5-d82e5c0caad2",
        "colab": {
          "base_uri": "https://localhost:8080/"
        }
      },
      "outputs": [
        {
          "output_type": "stream",
          "name": "stdout",
          "text": [
            "Shape: torch.Size([2, 3, 4])\n",
            "Size: torch.Size([2, 3, 4])\n",
            "Size: 2 3 4\n"
          ]
        }
      ],
      "source": [
        "shape = x.shape\n",
        "print(\"Shape:\", x.shape)\n",
        "\n",
        "size = x.size()\n",
        "print(\"Size:\", size)\n",
        "\n",
        "dim1, dim2, dim3 = x.size()\n",
        "print(\"Size:\", dim1, dim2, dim3)"
      ]
    },
    {
      "cell_type": "markdown",
      "metadata": {
        "id": "za_p7qXZOlE4"
      },
      "source": [
        "#### Operations\n",
        "\n",
        "Most operations that exist in numpy, also exist in PyTorch. A full list of operations can be found in the [PyTorch documentation](https://pytorch.org/docs/stable/tensors.html#), but we will review the most important ones here.\n",
        "\n",
        "The simplest operation is to add two tensors:"
      ]
    },
    {
      "cell_type": "code",
      "execution_count": 9,
      "metadata": {
        "id": "F9D5-OSwOlE4",
        "outputId": "ed05d9aa-16d9-4b09-9b58-279a63d32916",
        "colab": {
          "base_uri": "https://localhost:8080/"
        }
      },
      "outputs": [
        {
          "output_type": "stream",
          "name": "stdout",
          "text": [
            "X1 tensor([[1.0569, 0.3448, 1.2448],\n",
            "        [0.7826, 0.8848, 0.8151]])\n",
            "X2 tensor([[0.9516, 0.0753, 0.8860],\n",
            "        [0.5832, 0.3376, 0.8090]])\n",
            "Y tensor([[1.0569, 0.3448, 1.2448],\n",
            "        [0.7826, 0.8848, 0.8151]])\n",
            "X1 tensor([[0.5779, 0.9040, 0.5547],\n",
            "        [0.3423, 0.6343, 0.3644]])\n",
            "X2 tensor([[0.7104, 0.9464, 0.7890],\n",
            "        [0.2814, 0.7886, 0.5895]])\n",
            "Y tensor([[1.2884, 1.8504, 1.3437],\n",
            "        [0.6237, 1.4230, 0.9539]])\n"
          ]
        }
      ],
      "source": [
        "x1 = torch.rand(2, 3)\n",
        "x2 = torch.rand(2, 3)\n",
        "\n",
        "## TODO: Sum up the tensors x1 and x2, and store the result in y\n",
        "y = x1 + x2\n",
        "\n",
        "print(\"X1\", x1)\n",
        "print(\"X2\", x2)\n",
        "print(\"Y\", y)"
      ]
    },
    {
      "cell_type": "markdown",
      "metadata": {
        "id": "78-l_ozyOlE4"
      },
      "source": [
        "Calling `x1 + x2` creates a new tensor containing the sum of the two inputs. However, we can also use in-place operations that are applied directly on the memory of a tensor. We therefore change the values of `x2` without the chance to re-accessing the values of `x2` before the operation. An example is shown below:"
      ]
    },
    {
      "cell_type": "code",
      "execution_count": 10,
      "metadata": {
        "id": "q2f7Xv78OlE4",
        "outputId": "da335170-5e54-4467-942b-b2443d8d8bd0",
        "colab": {
          "base_uri": "https://localhost:8080/"
        }
      },
      "outputs": [
        {
          "output_type": "stream",
          "name": "stdout",
          "text": [
            "X1 (before) tensor([[0.7539, 0.1952, 0.0050],\n",
            "        [0.3068, 0.1165, 0.9103]])\n",
            "X2 (before) tensor([[0.6440, 0.7071, 0.6581],\n",
            "        [0.4913, 0.8913, 0.1447]])\n",
            "X1 (after) tensor([[0.7539, 0.1952, 0.0050],\n",
            "        [0.3068, 0.1165, 0.9103]])\n",
            "X2 (after) tensor([[1.3979, 0.9024, 0.6632],\n",
            "        [0.7981, 1.0078, 1.0550]])\n"
          ]
        }
      ],
      "source": [
        "x1 = torch.rand(2, 3)\n",
        "x2 = torch.rand(2, 3)\n",
        "print(\"X1 (before)\", x1)\n",
        "print(\"X2 (before)\", x2)\n",
        "\n",
        "x2.add_(x1)\n",
        "print(\"X1 (after)\", x1)\n",
        "print(\"X2 (after)\", x2)"
      ]
    },
    {
      "cell_type": "markdown",
      "metadata": {
        "id": "KiLqd5F5OlE4"
      },
      "source": [
        "In-place operations are usually marked with a underscore postfix (e.g. \"add_\" instead of \"add\").\n",
        "\n",
        "Another common operation aims at changing the shape of a tensor. A tensor of size (2,3) can be re-organized to any other shape with the same number of elements (e.g. a tensor of size (6), or (3,2), ...). In PyTorch, this operation is called `view`:"
      ]
    },
    {
      "cell_type": "code",
      "execution_count": 11,
      "metadata": {
        "id": "JxbR6cS4OlE5",
        "outputId": "9b7d8e0f-7d80-4135-fb8c-ea9acf5d8f1a",
        "colab": {
          "base_uri": "https://localhost:8080/"
        }
      },
      "outputs": [
        {
          "output_type": "stream",
          "name": "stdout",
          "text": [
            "X tensor([0., 1., 2., 3., 4., 5.])\n"
          ]
        }
      ],
      "source": [
        "## TODO: Create a tensor with the input values [0, .., 5] (i.e. a range to 6)\n",
        "x = torch.Tensor([0,1,2,3,4,5])\n",
        "print(\"X\", x)"
      ]
    },
    {
      "cell_type": "code",
      "execution_count": 12,
      "metadata": {
        "id": "woZgdcMhOlE5",
        "outputId": "320f0141-6aa0-4b1f-f672-84152ca88ad1",
        "colab": {
          "base_uri": "https://localhost:8080/"
        }
      },
      "outputs": [
        {
          "output_type": "stream",
          "name": "stdout",
          "text": [
            "X tensor([[0., 1., 2.],\n",
            "        [3., 4., 5.]])\n"
          ]
        }
      ],
      "source": [
        "x = x.view(2, 3)\n",
        "print(\"X\", x)"
      ]
    },
    {
      "cell_type": "code",
      "execution_count": 13,
      "metadata": {
        "id": "sfrgO330OlE5",
        "outputId": "a32bbf28-b721-4096-eba9-c5bec6952922",
        "colab": {
          "base_uri": "https://localhost:8080/"
        }
      },
      "outputs": [
        {
          "output_type": "stream",
          "name": "stdout",
          "text": [
            "X tensor([[0., 3.],\n",
            "        [1., 4.],\n",
            "        [2., 5.]])\n"
          ]
        }
      ],
      "source": [
        "x = x.permute(1, 0) # Swapping dimension 0 and 1\n",
        "print(\"X\", x)"
      ]
    },
    {
      "cell_type": "markdown",
      "metadata": {
        "id": "J95IZG_kOlE5"
      },
      "source": [
        "Other commonly used operations include matrix multiplications, which are essential for neural networks. Quite often, we have an input vector $\\mathbf{x}$, which is transformed using a learned weight matrix $\\mathbf{W}$. There are multiple ways and functions to perform matrix multiplication, some of which we list below:\n",
        "\n",
        "* `torch.matmul`: Performs the matrix product over two tensors, where the specific behavior depends on the dimensions. If both inputs are matrices (2-dimensional tensors), it performs the standard matrix product. For higher dimensional inputs, the function supports broadcasting (for details see the [documentation](https://pytorch.org/docs/stable/generated/torch.matmul.html?highlight=matmul#torch.matmul)). Can also be written as `a @ b`, similar to numpy. \n",
        "* `torch.mm`: Performs the matrix product over two matrices, but doesn't support broadcasting (see [documentation](https://pytorch.org/docs/stable/generated/torch.mm.html?highlight=torch%20mm#torch.mm))\n",
        "* `torch.bmm`: Performs the matrix product with a support batch dimension. If the first tensor $T$ is of shape ($b\\times n\\times m$), and the second tensor $R$ ($b\\times m\\times p$), the output $O$ is of shape ($b\\times n\\times p$), and has been calculated by performing $b$ matrix multiplications of the submatrices of $T$ and $R$: $O_i = T_i @ R_i$\n",
        "* `torch.einsum`: Performs matrix multiplications and more (i.e. sums of products) using the Einstein summation convention. Explanation of the Einstein sum can be found in assignment 1.\n",
        "\n",
        "Usually, we use `torch.matmul` or `torch.bmm`. We can try a matrix multiplication with `torch.matmul` below."
      ]
    },
    {
      "cell_type": "code",
      "execution_count": 14,
      "metadata": {
        "id": "F4fsctMDOlE5",
        "outputId": "d04fbce9-0fde-4f4f-f6d3-bf46cd05e35a",
        "colab": {
          "base_uri": "https://localhost:8080/"
        }
      },
      "outputs": [
        {
          "output_type": "stream",
          "name": "stdout",
          "text": [
            "X tensor([[0, 1, 2],\n",
            "        [3, 4, 5]])\n"
          ]
        }
      ],
      "source": [
        "x = torch.arange(6)\n",
        "x = x.view(2, 3)\n",
        "print(\"X\", x)"
      ]
    },
    {
      "cell_type": "code",
      "execution_count": 15,
      "metadata": {
        "id": "rVqeY5-DOlE5",
        "outputId": "e675a7a0-4092-4e0f-d11f-3085ddf6ad74",
        "colab": {
          "base_uri": "https://localhost:8080/"
        }
      },
      "outputs": [
        {
          "output_type": "stream",
          "name": "stdout",
          "text": [
            "W tensor([[0, 1, 2],\n",
            "        [3, 4, 5],\n",
            "        [6, 7, 8]])\n"
          ]
        }
      ],
      "source": [
        "W = torch.arange(9).view(3, 3) # We can also stack multiple operations in a single line\n",
        "print(\"W\", W)"
      ]
    },
    {
      "cell_type": "code",
      "execution_count": 16,
      "metadata": {
        "id": "apfmEayGOlE5",
        "outputId": "9eb6f2f5-8125-4634-be17-026637886e55",
        "colab": {
          "base_uri": "https://localhost:8080/"
        }
      },
      "outputs": [
        {
          "output_type": "stream",
          "name": "stdout",
          "text": [
            "h tensor([[15, 18, 21],\n",
            "        [42, 54, 66]])\n"
          ]
        }
      ],
      "source": [
        "## TODO: Perform a matrix multiplication between x and W\n",
        "h = torch.matmul(x, W)\n",
        "print(\"h\", h)\n",
        "# Verify the result by calculating it by hand too!"
      ]
    },
    {
      "cell_type": "markdown",
      "metadata": {
        "id": "BQJoKldSOlE5"
      },
      "source": [
        "#### Indexing\n",
        "\n",
        "We often have the situation where we need to select a part of a tensor. Indexing works just like in numpy, so let's try it:"
      ]
    },
    {
      "cell_type": "code",
      "execution_count": 17,
      "metadata": {
        "id": "m1u-D1OZOlE6",
        "outputId": "002cb2ae-a894-40cf-e113-e124136c003d",
        "colab": {
          "base_uri": "https://localhost:8080/"
        }
      },
      "outputs": [
        {
          "output_type": "stream",
          "name": "stdout",
          "text": [
            "X tensor([[ 0,  1,  2,  3],\n",
            "        [ 4,  5,  6,  7],\n",
            "        [ 8,  9, 10, 11]])\n"
          ]
        }
      ],
      "source": [
        "x = torch.arange(12).view(3, 4)\n",
        "print(\"X\", x)"
      ]
    },
    {
      "cell_type": "code",
      "execution_count": 23,
      "metadata": {
        "id": "XWWFEa8_OlE6",
        "outputId": "151cbfb5-6158-4a24-dcf1-b8c49c438dc4",
        "colab": {
          "base_uri": "https://localhost:8080/"
        }
      },
      "outputs": [
        {
          "output_type": "stream",
          "name": "stdout",
          "text": [
            "tensor([1, 5, 9])\n"
          ]
        }
      ],
      "source": [
        "## TODO: Print the second column of the tensor x\n",
        "print(x[:, 1]) "
      ]
    },
    {
      "cell_type": "code",
      "execution_count": 19,
      "metadata": {
        "id": "29vfCdo-OlE6",
        "outputId": "de600d90-0d13-470b-f3b2-ce39e88932b7",
        "colab": {
          "base_uri": "https://localhost:8080/"
        }
      },
      "outputs": [
        {
          "output_type": "stream",
          "name": "stdout",
          "text": [
            "tensor([0, 1, 2, 3])\n"
          ]
        }
      ],
      "source": [
        "## TODO: Print the first row of the tensor x\n",
        "print(x[0])"
      ]
    },
    {
      "cell_type": "code",
      "execution_count": 21,
      "metadata": {
        "id": "w3sJiSV5OlE7",
        "outputId": "bdce9162-f6d5-494c-96bc-1461e1a38bf2",
        "colab": {
          "base_uri": "https://localhost:8080/"
        }
      },
      "outputs": [
        {
          "output_type": "stream",
          "name": "stdout",
          "text": [
            "tensor([[3],\n",
            "        [7]])\n"
          ]
        }
      ],
      "source": [
        "## TODO: Print the elements of the tensor x that are both in first two rows and the last column \n",
        "print(x[:2, -1])"
      ]
    },
    {
      "cell_type": "code",
      "execution_count": 22,
      "metadata": {
        "id": "ZrAfIqdoOlE7",
        "outputId": "1f8c3aec-b3ee-42ae-d030-5643467b879e",
        "colab": {
          "base_uri": "https://localhost:8080/"
        }
      },
      "outputs": [
        {
          "output_type": "stream",
          "name": "stdout",
          "text": [
            "tensor([[ 4,  5,  6,  7],\n",
            "        [ 8,  9, 10, 11]])\n"
          ]
        }
      ],
      "source": [
        "## TODO: Print the middle two rows of tensor x\n",
        "print(x[1:3, :])"
      ]
    },
    {
      "cell_type": "markdown",
      "metadata": {
        "id": "tBaz8mq8OlE7"
      },
      "source": [
        "### Dynamic Computation Graph and Backpropagation\n",
        "\n",
        "One of the main reasons for using PyTorch in Deep Learning projects is that we can automatically get **gradients/derivatives** of functions that we define. We will mainly use PyTorch for implementing neural networks, and they are just fancy functions. If we use weight matrices in our function that we want to learn, then those are called the **parameters** or simply the **weights**.\n",
        "\n",
        "If our neural network would output a single scalar value, we would talk about taking the **derivative**, but you will see that quite often we will have **multiple** output variables (\"values\"); in that case we talk about **gradients**. It's a more general term.\n",
        "\n",
        "Given an input $\\mathbf{x}$, we define our function by **manipulating** that input, usually by matrix-multiplications with weight matrices and additions with so-called bias vectors. As we manipulate our input, we are automatically creating a **computational graph**. This graph shows how to arrive at our output from our input. \n",
        "PyTorch is a **define-by-run** framework; this means that we can just do our manipulations, and PyTorch will keep track of that graph for us. Thus, we create a dynamic computation graph along the way.\n",
        "\n",
        "So, to recap: the only thing we have to do is to compute the **output**, and then we can ask PyTorch to automatically get the **gradients**. \n",
        "\n",
        "> **Note:  Why do we want gradients?** Consider that we have defined a function, a neural net, that is supposed to compute a certain output $y$ for an input vector $\\mathbf{x}$. We then define an **error measure** that tells us how wrong our network is; how bad it is in predicting output $y$ from input $\\mathbf{x}$. Based on this error measure, we can use the gradients to **update** the weights $\\mathbf{W}$ that were responsible for the output, so that the next time we present input $\\mathbf{x}$ to our network, the output will be closer to what we want.\n",
        "\n",
        "The first thing we have to do is to specify which tensors require gradients. By default, when we create a tensor, it does not require gradients."
      ]
    },
    {
      "cell_type": "code",
      "execution_count": 24,
      "metadata": {
        "id": "jP6ACSNZOlE7",
        "outputId": "4967006a-86a7-4ca3-c38d-a2a80c1b0152",
        "colab": {
          "base_uri": "https://localhost:8080/"
        }
      },
      "outputs": [
        {
          "output_type": "stream",
          "name": "stdout",
          "text": [
            "False\n"
          ]
        }
      ],
      "source": [
        "x = torch.ones((3,))\n",
        "print(x.requires_grad)"
      ]
    },
    {
      "cell_type": "markdown",
      "metadata": {
        "id": "8qYxb7JlOlE7"
      },
      "source": [
        "We can change this for an existing tensor using the function `requires_grad_()` (underscore indicating that this is a in-place operation). Alternatively, when creating a tensor, you can pass the argument `requires_grad=True` to most initializers we have seen above."
      ]
    },
    {
      "cell_type": "code",
      "execution_count": 25,
      "metadata": {
        "id": "QnLtKgqmOlE8",
        "outputId": "a44e6388-790f-45ec-9286-4f798836a0b5",
        "colab": {
          "base_uri": "https://localhost:8080/"
        }
      },
      "outputs": [
        {
          "output_type": "stream",
          "name": "stdout",
          "text": [
            "True\n"
          ]
        }
      ],
      "source": [
        "x.requires_grad_(True)\n",
        "print(x.requires_grad)"
      ]
    },
    {
      "cell_type": "markdown",
      "metadata": {
        "id": "jF9_dG91OlE8"
      },
      "source": [
        "In order to get familiar with the concept of a computation graph, we will create one for the following function:\n",
        "\n",
        "$$y = \\frac{1}{|x|}\\sum_i \\left[(x_i + 2)^2 + 3\\right]$$\n",
        "\n",
        "You could imagine that $x$ are our parameters, and we want to optimize (either maximize or minimize) the output $y$. For this, we want to obtain the gradients $\\partial y / \\partial \\mathbf{x}$. For our example, we'll use $\\mathbf{x}=[0,1,2]$ as our input."
      ]
    },
    {
      "cell_type": "code",
      "execution_count": 31,
      "metadata": {
        "id": "U6IP2OXlOlE8",
        "outputId": "2b73d8b5-5bb3-4477-f467-606cdbd25b7a",
        "colab": {
          "base_uri": "https://localhost:8080/"
        }
      },
      "outputs": [
        {
          "output_type": "stream",
          "name": "stdout",
          "text": [
            "X tensor([0., 1., 2.], requires_grad=True)\n"
          ]
        }
      ],
      "source": [
        "## TODO: Create a tensor with values [0.0, 1.0, 2.0] which is requires gradients\n",
        "# Note that only float tensors can have gradients\n",
        "x = torch.arange(3, dtype=torch.float32, requires_grad=True)\n",
        "print(\"X\", x)"
      ]
    },
    {
      "cell_type": "markdown",
      "metadata": {
        "id": "tWe0_AS5OlE8"
      },
      "source": [
        "Now let's build the computation graph step by step. You can combine multiple operations in a single line, but we will separate them here to get a better understanding of how each operation is added to the computation graph."
      ]
    },
    {
      "cell_type": "code",
      "execution_count": 33,
      "metadata": {
        "id": "k27CI9_KOlE8",
        "outputId": "05ac87ee-efe3-4f51-86ed-fdc027f088a0",
        "colab": {
          "base_uri": "https://localhost:8080/"
        }
      },
      "outputs": [
        {
          "output_type": "stream",
          "name": "stdout",
          "text": [
            "Y tensor([ 7., 12., 19.], grad_fn=<AddBackward0>)\n",
            "Y tensor(12.6667, grad_fn=<MeanBackward0>)\n"
          ]
        }
      ],
      "source": [
        "## TODO: Implement the function above in four steps, each representing one single operation (add -> a, square -> b, add -> c, mean -> y)\n",
        "a = x + 2\n",
        "b = a ** 2\n",
        "c = b + 3\n",
        "y = c.mean()\n",
        "print(\"Y\", y)"
      ]
    },
    {
      "cell_type": "markdown",
      "metadata": {
        "id": "lEYNB6aWOlE8"
      },
      "source": [
        "Using the statements above, we have created a computation graph that looks similar to the figure below:\n",
        "\n",
        "<center style=\"width: 100%\"><img src=\"https://github.com/phlippe/uvadlc_notebooks/blob/master/docs/tutorial_notebooks/tutorial2/pytorch_computation_graph.svg?raw=1\" width=\"200px\"></center>\n",
        "\n",
        "We calculate $a$ based on the inputs $x$ and the constant $2$, $b$ is $a$ squared, and so on. The visualization is an abstraction of the dependencies between inputs and outputs of the operations we have applied.\n",
        "Each node of the computation graph has automatically defined a function for calculating the gradients with respect to its inputs, `grad_fn`. You can see this when we printed the output tensor $y$. This is why the computation graph is usually visualized in the reverse direction (arrows point from the result to the inputs). We can perform backpropagation on the computation graph by calling the function `backward()` on the last output, which effectively calculates the gradients for each tensor that has the property `requires_grad=True`:"
      ]
    },
    {
      "cell_type": "code",
      "execution_count": 34,
      "metadata": {
        "id": "nS2N_0WEOlE8"
      },
      "outputs": [],
      "source": [
        "y.backward()"
      ]
    },
    {
      "cell_type": "markdown",
      "metadata": {
        "id": "KqAdQWHDOlE8"
      },
      "source": [
        "`x.grad` will now contain the gradient $\\partial y/ \\partial \\mathcal{x}$, and this gradient indicates how a change in $\\mathbf{x}$ will affect output $y$ given the current input $\\mathbf{x}=[0,1,2]$:"
      ]
    },
    {
      "cell_type": "code",
      "execution_count": 35,
      "metadata": {
        "id": "MQvPqnS4OlE8",
        "outputId": "943789ae-fd57-4cc3-efe7-ce7038d68a17",
        "colab": {
          "base_uri": "https://localhost:8080/"
        }
      },
      "outputs": [
        {
          "output_type": "stream",
          "name": "stdout",
          "text": [
            "tensor([1.3333, 2.0000, 2.6667])\n"
          ]
        }
      ],
      "source": [
        "print(x.grad)"
      ]
    },
    {
      "cell_type": "markdown",
      "metadata": {
        "id": "MJliOlTQOlE8"
      },
      "source": [
        "We can also verify these gradients by hand. We will calculate the gradients using the chain rule, in the same way as PyTorch did it:\n",
        "\n",
        "$$\\frac{\\partial y}{\\partial x_i} = \\frac{\\partial y}{\\partial c_i}\\frac{\\partial c_i}{\\partial b_i}\\frac{\\partial b_i}{\\partial a_i}\\frac{\\partial a_i}{\\partial x_i}$$\n",
        "\n",
        "Note that we have simplified this equation to index notation, and by using the fact that all operation besides the mean do not combine the elements in the tensor. The partial derivatives are:\n",
        "\n",
        "$$\n",
        "\\frac{\\partial a_i}{\\partial x_i} = 1,\\hspace{1cm}\n",
        "\\frac{\\partial b_i}{\\partial a_i} = 2\\cdot a_i\\hspace{1cm}\n",
        "\\frac{\\partial c_i}{\\partial b_i} = 1\\hspace{1cm}\n",
        "\\frac{\\partial y}{\\partial c_i} = \\frac{1}{3}\n",
        "$$\n",
        "\n",
        "Hence, with the input being $\\mathbf{x}=[0,1,2]$, our gradients are $\\partial y/\\partial \\mathbf{x}=[4/3,2,8/3]$. The previous code cell should have printed the same result."
      ]
    },
    {
      "cell_type": "markdown",
      "metadata": {
        "id": "07mNaUU7OlE9"
      },
      "source": [
        "### GPU support\n",
        "\n",
        "A crucial feature of PyTorch is the support of GPUs, short for Graphics Processing Unit. A GPU can perform many thousands of small operations in parallel, making it very well suitable for performing large matrix operations in neural networks. When comparing GPUs to CPUs, we can list the following main differences (credit: [Kevin Krewell, 2009](https://blogs.nvidia.com/blog/2009/12/16/whats-the-difference-between-a-cpu-and-a-gpu/)) \n",
        "\n",
        "<center style=\"width: 100%\"><img src=\"https://github.com/phlippe/uvadlc_notebooks/blob/master/docs/tutorial_notebooks/tutorial2/comparison_CPU_GPU.png?raw=1\" width=\"700px\"></center>\n",
        "\n",
        "CPUs and GPUs have both different advantages and disadvantages, which is why many computers contain both components and use them for different tasks. In case you are not familiar with GPUs, you can read up more details in this [NVIDIA blog post](https://blogs.nvidia.com/blog/2009/12/16/whats-the-difference-between-a-cpu-and-a-gpu/) or [here](https://www.intel.com/content/www/us/en/products/docs/processors/what-is-a-gpu.html). \n",
        "\n",
        "GPUs can accelerate the training of your network up to a factor of $100$ which is essential for large neural networks. PyTorch implements a lot of functionality for supporting GPUs (mostly those of NVIDIA due to the libraries [CUDA](https://developer.nvidia.com/cuda-zone) and [cuDNN](https://developer.nvidia.com/cudnn)). First, let's check whether you have a GPU available:"
      ]
    },
    {
      "cell_type": "code",
      "execution_count": 36,
      "metadata": {
        "id": "wjxIHS_vOlE9",
        "outputId": "4d998e65-2b94-4c73-c394-f5d758648859",
        "colab": {
          "base_uri": "https://localhost:8080/"
        }
      },
      "outputs": [
        {
          "output_type": "stream",
          "name": "stdout",
          "text": [
            "Is the GPU available? False\n"
          ]
        }
      ],
      "source": [
        "gpu_avail = torch.cuda.is_available()\n",
        "print(\"Is the GPU available? %s\" % str(gpu_avail))"
      ]
    },
    {
      "cell_type": "markdown",
      "metadata": {
        "id": "0vcXJd8-OlE9"
      },
      "source": [
        "If you have a GPU on your computer but the command above returns False, make sure you have the correct CUDA-version installed. The `dl2020` environment comes with the CUDA-toolkit 10.1, which is selected for the Lisa supercomputer. Please change it if necessary (CUDA 10.2 is currently common). On Google Colab, make sure that you have selected a GPU in your runtime setup (in the menu, check under `Runtime -> Change runtime type`). \n",
        "\n",
        "By default, all tensors you create are stored on the CPU. We can push a tensor to the GPU by using the function `.to(...)`, or `.cuda()`. However, it is often a good practice to define a `device` object in your code which points to the GPU if you have one, and otherwise to the CPU. Then, you can write your code with respect to this device object, and it allows you to run the same code on both a CPU-only system, and one with a GPU. Let's try it below. We can specify the device as follows: "
      ]
    },
    {
      "cell_type": "code",
      "execution_count": 37,
      "metadata": {
        "id": "y3p68Oz0OlE9",
        "outputId": "19d16f16-0291-4f56-e5a9-b2d67c7f7b39",
        "colab": {
          "base_uri": "https://localhost:8080/"
        }
      },
      "outputs": [
        {
          "output_type": "stream",
          "name": "stdout",
          "text": [
            "Device cpu\n"
          ]
        }
      ],
      "source": [
        "device = torch.device(\"cuda\") if torch.cuda.is_available() else torch.device(\"cpu\")\n",
        "print(\"Device\", device)"
      ]
    },
    {
      "cell_type": "markdown",
      "metadata": {
        "id": "BuhfLPLYOlE9"
      },
      "source": [
        "Now let's create a tensor and push it to the device:"
      ]
    },
    {
      "cell_type": "code",
      "execution_count": 38,
      "metadata": {
        "id": "1_g05FqjOlE9",
        "outputId": "d96d0dda-12c5-4fe0-81cb-896fdac9957b",
        "colab": {
          "base_uri": "https://localhost:8080/"
        }
      },
      "outputs": [
        {
          "output_type": "stream",
          "name": "stdout",
          "text": [
            "X tensor([[0., 0., 0.],\n",
            "        [0., 0., 0.]])\n"
          ]
        }
      ],
      "source": [
        "x = torch.zeros(2, 3)\n",
        "\n",
        "## TODO: Push the tensor to \"device\"\n",
        "x = x.to(device)\n",
        "print(\"X\", x)"
      ]
    },
    {
      "cell_type": "markdown",
      "metadata": {
        "id": "utjiPcCkOlE9"
      },
      "source": [
        "In case you have a GPU, you should now see the attribute `device='cuda:0'` being printed next to your tensor. The zero next to cuda indicates that this is the zero-th GPU device on your computer. PyTorch also supports multi-GPU systems, but this you will only need once you have very big networks to train (if interested, see the [PyTorch documentation](https://pytorch.org/docs/stable/distributed.html#distributed-basics)). We can also compare the runtime of a large matrix multiplication on the CPU with a operation on the GPU:"
      ]
    },
    {
      "cell_type": "code",
      "execution_count": 39,
      "metadata": {
        "id": "5VE0TweOOlE9",
        "outputId": "72a96646-90df-4ad1-acf6-8311c089a77f",
        "colab": {
          "base_uri": "https://localhost:8080/"
        }
      },
      "outputs": [
        {
          "output_type": "stream",
          "name": "stdout",
          "text": [
            "CPU time: 3.72284s\n",
            "GPU time: 3.69353s\n"
          ]
        }
      ],
      "source": [
        "x = torch.randn(5000, 5000)\n",
        "\n",
        "## CPU version\n",
        "start_time = time.time()\n",
        "_ = torch.matmul(x, x)\n",
        "end_time = time.time()\n",
        "print(\"CPU time: %6.5fs\" % (end_time - start_time))\n",
        "\n",
        "## GPU version\n",
        "x = x.to(device)\n",
        "# The first operation on a CUDA device can be slow as it has to establish a CPU-GPU communication first. \n",
        "# Hence, we run an arbitrary command first without timing it for a fair comparison.\n",
        "if torch.cuda.is_available():\n",
        "    _ = torch.matmul(x*0.0, x)\n",
        "start_time = time.time()\n",
        "_ = torch.matmul(x, x)\n",
        "end_time = time.time()\n",
        "print(\"GPU time: %6.5fs\" % (end_time - start_time))"
      ]
    },
    {
      "cell_type": "markdown",
      "metadata": {
        "id": "neOXKMIIOlE9"
      },
      "source": [
        "Depending on the size of the operation and the CPU/GPU in your system, the speedup of this operation can be >500x. As `matmul` operations are very common in neural networks, we can already see the great benefit of training a NN on a GPU. The time estimate can be relatively noisy here because we haven't run it for multiple times. Feel free to extend this, but it also takes longer to run.\n",
        "\n",
        "When generating random numbers, the seed between CPU and GPU is not synchronized. Hence, we need to set the seed on the GPU separately to ensure a reproducible code. Note that due to different GPU architectures, running the same code on different GPUs does not guarantee the same random numbers. Still, we don't want that our code gives us a different output every time we run it on the exact same hardware. Hence, we also set the seed on the GPU:"
      ]
    },
    {
      "cell_type": "code",
      "execution_count": 40,
      "metadata": {
        "id": "puOjfvJPOlE9"
      },
      "outputs": [],
      "source": [
        "# GPU operations have a separate seed we also want to set\n",
        "if torch.cuda.is_available(): \n",
        "    torch.cuda.manual_seed(42)\n",
        "    torch.cuda.manual_seed_all(42)\n",
        "    \n",
        "# Additionally, some operations on a GPU are implemented stochastic for efficiency\n",
        "# We want to ensure that all operations are deterministic on GPU (if used) for reproducibility\n",
        "torch.backends.cudnn.deterministic = True\n",
        "torch.backends.cudnn.benchmark = False"
      ]
    },
    {
      "cell_type": "markdown",
      "metadata": {
        "id": "GqcEPsMoOlE9"
      },
      "source": [
        "## Learning by example: Continuous XOR\n",
        "\n",
        "If we want to build a neural network in PyTorch, we could specify all our parameters (weight matrices, bias vectors) using `Tensors` (with `requires_grad=True`), ask PyTorch to calculate the gradients and then adjust the parameters. But things can quickly get cumbersome if we have a lot of parameters. In PyTorch, there is a package called `torch.nn` that makes building neural networks more convenient. \n",
        "\n",
        "We will introduce the libraries and all additional parts you might need to train a neural network in PyTorch, using a simple example classifier on a simple yet well known example: XOR. Given two binary inputs $x_1$ and $x_2$, the label to predict is $1$ if either $x_1$ or $x_2$ is $1$ while the other is $0$, or the label is $0$ in all other cases. The example became famous by the fact that a single neuron, i.e. a linear classifier, cannot learn this simple function.\n",
        "Hence, we will learn how to build a small neural network that can learn this function. \n",
        "To make it a little bit more interesting, we move the XOR into continuous space and introduce some gaussian noise on the binary inputs. Our desired separation of an XOR dataset could look as follows:\n",
        "\n",
        "<center style=\"width: 100%\"><img src=\"https://github.com/phlippe/uvadlc_notebooks/blob/master/docs/tutorial_notebooks/tutorial2/continuous_xor.svg?raw=1\" width=\"350px\"></center>"
      ]
    },
    {
      "cell_type": "markdown",
      "metadata": {
        "id": "mjnzzGZ1OlE9"
      },
      "source": [
        "### The model\n",
        "\n",
        "The package `torch.nn` defines a series of useful classes like linear networks layers, activation functions, loss functions etc. A full list can be found [here](https://pytorch.org/docs/stable/nn.html). In case you need a certain network layer, check the documentation of the package first before writing the layer yourself as the package likely contains the code for it already. We import it below:"
      ]
    },
    {
      "cell_type": "code",
      "execution_count": 41,
      "metadata": {
        "id": "aIIUxhlDOlE-"
      },
      "outputs": [],
      "source": [
        "import torch.nn as nn"
      ]
    },
    {
      "cell_type": "markdown",
      "metadata": {
        "id": "DQ9Y6S6vOlE-"
      },
      "source": [
        "Additionally to `torch.nn`, there is also `torch.nn.functional`. It contains functions that are used in network layers. This is in contrast to `torch.nn` which defines them as `nn.Modules` (more on it below), and `torch.nn` actually uses a lot of functionalities from `torch.nn.functional`. Hence, the functional package is useful in many situations, and so we import it as well here."
      ]
    },
    {
      "cell_type": "code",
      "execution_count": 42,
      "metadata": {
        "id": "5-2rKl4WOlE-"
      },
      "outputs": [],
      "source": [
        "import torch.nn.functional as F"
      ]
    },
    {
      "cell_type": "markdown",
      "metadata": {
        "id": "d6bTSsY9OlE-"
      },
      "source": [
        "#### nn.Module\n",
        "\n",
        "In PyTorch, a neural network is build up out of modules. Modules can contain other modules, and a neural network is considered to be a module itself as well. The basic template of a module is as follows:"
      ]
    },
    {
      "cell_type": "code",
      "execution_count": 43,
      "metadata": {
        "id": "S4CBRLptOlE-"
      },
      "outputs": [],
      "source": [
        "class MyModule(nn.Module):\n",
        "    \n",
        "    def __init__(self):\n",
        "        super().__init__()\n",
        "        # Some init for my module\n",
        "        \n",
        "    def forward(self, x):\n",
        "        # Function for performing the calculation of the module.\n",
        "        pass"
      ]
    },
    {
      "cell_type": "markdown",
      "metadata": {
        "id": "6CW-ggfNOlE-"
      },
      "source": [
        "The forward function is where the computation of the module is taken place, and is executed when you call the module (`nn = MyModule(); nn(x)`). In the init function, we usually create the parameters of the module, using `nn.Parameter`, or defining other modules that are used in the forward function. The backward calculation is done automatically, but could be overwritten as well if wanted.\n",
        "\n",
        "#### Simple classifier\n",
        "We can now make use of the pre-defined modules in the `torch.nn` package, and define our own small neural network. We will use a minimal network with a input layer, one hidden layer with tanh as activation function, and a output layer. In other words, our networks should look something like this:\n",
        "\n",
        "<center width=\"100%\"><img src=\"https://github.com/phlippe/uvadlc_notebooks/blob/master/docs/tutorial_notebooks/tutorial2/small_neural_network.svg?raw=1\" width=\"300px\"></center>\n",
        "\n",
        "The input neurons are shown in blue, which represent the coordinates $x_1$ and $x_2$ of a data point. The hidden neurons including a tanh activation are shown in white, and the output neuron in red.\n",
        "In PyTorch, we can define this as follows:"
      ]
    },
    {
      "cell_type": "code",
      "execution_count": 44,
      "metadata": {
        "id": "0ax7fqhsOlE-"
      },
      "outputs": [],
      "source": [
        "class SimpleClassifier(nn.Module):\n",
        "    \n",
        "    def __init__(self, num_inputs, num_hidden, num_outputs):\n",
        "        super().__init__()\n",
        "        # Initialize the modules we need to build the network\n",
        "        ## TODO: Implement the linear layers using nn.Linear(input_neurons, output_neurons)\n",
        "        self.linear1 = nn.Linear(num_inputs, num_hidden)\n",
        "        self.linear2 = nn.Linear(num_hidden, num_outputs)\n",
        "        ## TODO: Implement the activation function using nn.Tanh\n",
        "        self.act_fn = nn.Tanh()\n",
        "        \n",
        "        \n",
        "    def forward(self, x):\n",
        "        # Perform the calculation of the model to determine the prediction\n",
        "        ## TODO: Execute the NN modules in sequence to build the neural network computation graph\n",
        "        x = self.linear2(self.act_fn(self.linear1(x)))\n",
        "        return x"
      ]
    },
    {
      "cell_type": "markdown",
      "metadata": {
        "id": "oeKgOn4POlE-"
      },
      "source": [
        "For the examples in this notebook, we will use a tiny neural network with two input neurons and four hidden neurons. As we perform binary classification, we will use a single output neuron. Note that we do not apply a sigmoid on the output yet. This is because other functions, especially the loss, are more efficient and precise to calculate on the original outputs instead of the sigmoid output. We will discuss the detailed reason later."
      ]
    },
    {
      "cell_type": "code",
      "execution_count": 45,
      "metadata": {
        "id": "7pBSs3TDOlE-",
        "outputId": "e6c98d24-6547-4caf-be8a-c4cd321ac970",
        "colab": {
          "base_uri": "https://localhost:8080/"
        }
      },
      "outputs": [
        {
          "output_type": "stream",
          "name": "stdout",
          "text": [
            "SimpleClassifier(\n",
            "  (linear1): Linear(in_features=2, out_features=4, bias=True)\n",
            "  (linear2): Linear(in_features=4, out_features=1, bias=True)\n",
            "  (act_fn): Tanh()\n",
            ")\n"
          ]
        }
      ],
      "source": [
        "model = SimpleClassifier(num_inputs=2, num_hidden=4, num_outputs=1)\n",
        "# Printing a module shows all its submodules\n",
        "print(model)"
      ]
    },
    {
      "cell_type": "markdown",
      "metadata": {
        "id": "jrAqAUgUOlE-"
      },
      "source": [
        "Printing the model lists all submodules it contains. The parameters of a module can be obtained by using its `parameters()` functions, or `named_parameters()` to get a name to each parameter object. For our small neural network, we have the following parameters:"
      ]
    },
    {
      "cell_type": "code",
      "execution_count": 46,
      "metadata": {
        "id": "EiHY825COlE_",
        "outputId": "98fba1ca-2c6f-4192-8b2c-7a9033a6678d",
        "colab": {
          "base_uri": "https://localhost:8080/"
        }
      },
      "outputs": [
        {
          "output_type": "stream",
          "name": "stdout",
          "text": [
            "Parameter linear1.weight, shape torch.Size([4, 2])\n",
            "Parameter linear1.bias, shape torch.Size([4])\n",
            "Parameter linear2.weight, shape torch.Size([1, 4])\n",
            "Parameter linear2.bias, shape torch.Size([1])\n"
          ]
        }
      ],
      "source": [
        "for name, param in model.named_parameters():\n",
        "    print(\"Parameter %s, shape %s\" % (name, str(param.shape)))"
      ]
    },
    {
      "cell_type": "markdown",
      "metadata": {
        "id": "kLwAbrenOlE_"
      },
      "source": [
        "Each linear layer has a weight matrix of the shape `[output, input]`, and a bias of the shape `[output]`. The tanh activation function does not have any parameters. Note that parameters are only registered for `nn.Module` objects that are direct object attributes, i.e. `self.a = ...`. If you define a list of modules, the parameters of those are not registered for the outer module and can cause some issues when you try to optimize your module. There are alternatives, like `nn.ModuleList`, `nn.ModuleDict` and `nn.Sequential`, that allow you to have different data structures of modules. We will use them in a few later tutorials and explain them there. "
      ]
    },
    {
      "cell_type": "markdown",
      "metadata": {
        "id": "JqJgVaLxOlE_"
      },
      "source": [
        "### The data\n",
        "\n",
        "PyTorch also provides a few functionalities to load the training and test data efficiently, summarized in the package `torch.utils.data`."
      ]
    },
    {
      "cell_type": "code",
      "execution_count": 47,
      "metadata": {
        "id": "QTg6J2WGOlE_"
      },
      "outputs": [],
      "source": [
        "import torch.utils.data as data"
      ]
    },
    {
      "cell_type": "markdown",
      "metadata": {
        "id": "ECkMmrJiOlE_"
      },
      "source": [
        "The data package defines two classes which are the standard interface for handling data in PyTorch: `data.Dataset`, and `data.DataLoader`. The dataset class provides an uniform interface to access the training/test data, while the data loader makes sure to efficiently load and stack the data points from the dataset into batches during training."
      ]
    },
    {
      "cell_type": "markdown",
      "metadata": {
        "id": "0jcmsxO2OlE_"
      },
      "source": [
        "#### The dataset class\n",
        "\n",
        "The dataset class summarizes the basic functionality of a dataset in a natural way. To define a dataset in PyTorch, we simply specify two functions: `__getitem__`, and `__len__`. The get-item function has to return the $i$-th data point in the dataset, while the len function returns the size of the dataset. For the XOR dataset, we can define the dataset class as follows:"
      ]
    },
    {
      "cell_type": "code",
      "execution_count": 48,
      "metadata": {
        "id": "5HURjs4GOlE_"
      },
      "outputs": [],
      "source": [
        "class XORDataset(data.Dataset):\n",
        "    \n",
        "    def __init__(self, size, std=0.1):\n",
        "        \"\"\"\n",
        "        Inputs:\n",
        "            size - Number of data points we want to generate\n",
        "            std - Standard deviation of the noise (see generate_continuous_xor function)\n",
        "        \"\"\"\n",
        "        super().__init__()\n",
        "        self.size = size\n",
        "        self.std = std\n",
        "        self.generate_continuous_xor()\n",
        "        \n",
        "    \n",
        "    def generate_continuous_xor(self):\n",
        "        # Each data point in the XOR dataset has two variables, x and y, that can be either 0 or 1\n",
        "        # The label is their XOR combination, i.e. 1 if only x or only y is 1 while the other is 0.\n",
        "        # If x=y, the label is 0.\n",
        "        data = torch.randint(low=0, high=2, size=(self.size, 2), dtype=torch.float32)\n",
        "        label = (data.sum(dim=1) == 1).to(torch.long)\n",
        "        # To make it slightly more challenging, we add a bit of gaussian noise to the data points.\n",
        "        data += self.std * torch.randn(data.shape)\n",
        "        \n",
        "        self.data = data\n",
        "        self.label = label\n",
        "        \n",
        "    \n",
        "    def __len__(self):\n",
        "        ## TODO: Return the number of data points the data has\n",
        "        return self.size\n",
        "    \n",
        "    \n",
        "    def __getitem__(self, idx):\n",
        "        ## TODO: Return the idx-th data point and label of the dataset\n",
        "        data_point = self.data[idx]\n",
        "        data_label = self.label[idx]\n",
        "        return data_point, data_label"
      ]
    },
    {
      "cell_type": "markdown",
      "metadata": {
        "id": "U2AkupoVOlE_"
      },
      "source": [
        "Let's try to create such a dataset and inspect it:"
      ]
    },
    {
      "cell_type": "code",
      "execution_count": 49,
      "metadata": {
        "id": "LCUvRCqoOlE_",
        "outputId": "8f61ae3c-bfc3-48b8-9325-2be1f0ee8676",
        "colab": {
          "base_uri": "https://localhost:8080/"
        }
      },
      "outputs": [
        {
          "output_type": "stream",
          "name": "stdout",
          "text": [
            "Size of dataset: 200\n",
            "Data point 0: (tensor([1.1397, 1.1080]), tensor(0))\n"
          ]
        }
      ],
      "source": [
        "dataset = XORDataset(size=200)\n",
        "print(\"Size of dataset:\", len(dataset))\n",
        "print(\"Data point 0:\", dataset[0])"
      ]
    },
    {
      "cell_type": "markdown",
      "metadata": {
        "id": "DBlsBA6UOlE_"
      },
      "source": [
        "To better relate to the dataset, we visualize the samples below. "
      ]
    },
    {
      "cell_type": "code",
      "execution_count": 50,
      "metadata": {
        "id": "LJ3M5eBAOlE_"
      },
      "outputs": [],
      "source": [
        "def visualize_samples(data, label):\n",
        "    if isinstance(data, torch.Tensor):\n",
        "        data = data.cpu().numpy()\n",
        "    if isinstance(label, torch.Tensor):\n",
        "        label = label.cpu().numpy()\n",
        "    data_0 = data[label == 0]\n",
        "    data_1 = data[label == 1]\n",
        "    \n",
        "    plt.figure(figsize=(4,4))\n",
        "    plt.scatter(data_0[:,0], data_0[:,1], edgecolor=\"#333\", label=\"Class 0\")\n",
        "    plt.scatter(data_1[:,0], data_1[:,1], edgecolor=\"#333\", label=\"Class 1\")\n",
        "    plt.title(\"Dataset samples\")\n",
        "    plt.ylabel(r\"$x_2$\")\n",
        "    plt.xlabel(r\"$x_1$\")\n",
        "    plt.legend()"
      ]
    },
    {
      "cell_type": "code",
      "execution_count": 51,
      "metadata": {
        "id": "cqCoH9C8OlE_",
        "outputId": "28e65272-d8ed-43b6-dc10-b249a2b88700",
        "colab": {
          "base_uri": "https://localhost:8080/",
          "height": 398
        }
      },
      "outputs": [
        {
          "output_type": "display_data",
          "data": {
            "text/plain": [
              "<Figure size 288x288 with 1 Axes>"
            ],
            "image/svg+xml": "<?xml version=\"1.0\" encoding=\"utf-8\" standalone=\"no\"?>\n<!DOCTYPE svg PUBLIC \"-//W3C//DTD SVG 1.1//EN\"\n  \"http://www.w3.org/Graphics/SVG/1.1/DTD/svg11.dtd\">\n<!-- Created with matplotlib (https://matplotlib.org/) -->\n<svg height=\"282.717813pt\" version=\"1.1\" viewBox=\"0 0 289.424844 282.717813\" width=\"289.424844pt\" xmlns=\"http://www.w3.org/2000/svg\" xmlns:xlink=\"http://www.w3.org/1999/xlink\">\n <defs>\n  <style type=\"text/css\">\n*{stroke-linecap:butt;stroke-linejoin:round;}\n  </style>\n </defs>\n <g id=\"figure_1\">\n  <g id=\"patch_1\">\n   <path d=\"M 0 282.717813 \nL 289.424844 282.717813 \nL 289.424844 0 \nL 0 0 \nz\n\" style=\"fill:#ffffff;\"/>\n  </g>\n  <g id=\"axes_1\">\n   <g id=\"patch_2\">\n    <path d=\"M 59.024844 239.758125 \nL 282.224844 239.758125 \nL 282.224844 22.318125 \nL 59.024844 22.318125 \nz\n\" style=\"fill:#eaeaf2;\"/>\n   </g>\n   <g id=\"matplotlib.axis_1\">\n    <g id=\"xtick_1\">\n     <g id=\"line2d_1\">\n      <path clip-path=\"url(#p087926bdee)\" d=\"M 103.727301 239.758125 \nL 103.727301 22.318125 \n\" style=\"fill:none;stroke:#ffffff;stroke-linecap:round;\"/>\n     </g>\n     <g id=\"text_1\">\n      <!-- 0.0 -->\n      <defs>\n       <path d=\"M 31.78125 66.40625 \nQ 24.171875 66.40625 20.328125 58.90625 \nQ 16.5 51.421875 16.5 36.375 \nQ 16.5 21.390625 20.328125 13.890625 \nQ 24.171875 6.390625 31.78125 6.390625 \nQ 39.453125 6.390625 43.28125 13.890625 \nQ 47.125 21.390625 47.125 36.375 \nQ 47.125 51.421875 43.28125 58.90625 \nQ 39.453125 66.40625 31.78125 66.40625 \nz\nM 31.78125 74.21875 \nQ 44.046875 74.21875 50.515625 64.515625 \nQ 56.984375 54.828125 56.984375 36.375 \nQ 56.984375 17.96875 50.515625 8.265625 \nQ 44.046875 -1.421875 31.78125 -1.421875 \nQ 19.53125 -1.421875 13.0625 8.265625 \nQ 6.59375 17.96875 6.59375 36.375 \nQ 6.59375 54.828125 13.0625 64.515625 \nQ 19.53125 74.21875 31.78125 74.21875 \nz\n\" id=\"DejaVuSans-48\"/>\n       <path d=\"M 10.6875 12.40625 \nL 21 12.40625 \nL 21 0 \nL 10.6875 0 \nz\n\" id=\"DejaVuSans-46\"/>\n      </defs>\n      <g style=\"fill:#262626;\" transform=\"translate(94.980582 257.616406)scale(0.11 -0.11)\">\n       <use xlink:href=\"#DejaVuSans-48\"/>\n       <use x=\"63.623047\" xlink:href=\"#DejaVuSans-46\"/>\n       <use x=\"95.410156\" xlink:href=\"#DejaVuSans-48\"/>\n      </g>\n     </g>\n    </g>\n    <g id=\"xtick_2\">\n     <g id=\"line2d_2\">\n      <path clip-path=\"url(#p087926bdee)\" d=\"M 172.268318 239.758125 \nL 172.268318 22.318125 \n\" style=\"fill:none;stroke:#ffffff;stroke-linecap:round;\"/>\n     </g>\n     <g id=\"text_2\">\n      <!-- 0.5 -->\n      <defs>\n       <path d=\"M 10.796875 72.90625 \nL 49.515625 72.90625 \nL 49.515625 64.59375 \nL 19.828125 64.59375 \nL 19.828125 46.734375 \nQ 21.96875 47.46875 24.109375 47.828125 \nQ 26.265625 48.1875 28.421875 48.1875 \nQ 40.625 48.1875 47.75 41.5 \nQ 54.890625 34.8125 54.890625 23.390625 \nQ 54.890625 11.625 47.5625 5.09375 \nQ 40.234375 -1.421875 26.90625 -1.421875 \nQ 22.3125 -1.421875 17.546875 -0.640625 \nQ 12.796875 0.140625 7.71875 1.703125 \nL 7.71875 11.625 \nQ 12.109375 9.234375 16.796875 8.0625 \nQ 21.484375 6.890625 26.703125 6.890625 \nQ 35.15625 6.890625 40.078125 11.328125 \nQ 45.015625 15.765625 45.015625 23.390625 \nQ 45.015625 31 40.078125 35.4375 \nQ 35.15625 39.890625 26.703125 39.890625 \nQ 22.75 39.890625 18.8125 39.015625 \nQ 14.890625 38.140625 10.796875 36.28125 \nz\n\" id=\"DejaVuSans-53\"/>\n      </defs>\n      <g style=\"fill:#262626;\" transform=\"translate(163.521599 257.616406)scale(0.11 -0.11)\">\n       <use xlink:href=\"#DejaVuSans-48\"/>\n       <use x=\"63.623047\" xlink:href=\"#DejaVuSans-46\"/>\n       <use x=\"95.410156\" xlink:href=\"#DejaVuSans-53\"/>\n      </g>\n     </g>\n    </g>\n    <g id=\"xtick_3\">\n     <g id=\"line2d_3\">\n      <path clip-path=\"url(#p087926bdee)\" d=\"M 240.809335 239.758125 \nL 240.809335 22.318125 \n\" style=\"fill:none;stroke:#ffffff;stroke-linecap:round;\"/>\n     </g>\n     <g id=\"text_3\">\n      <!-- 1.0 -->\n      <defs>\n       <path d=\"M 12.40625 8.296875 \nL 28.515625 8.296875 \nL 28.515625 63.921875 \nL 10.984375 60.40625 \nL 10.984375 69.390625 \nL 28.421875 72.90625 \nL 38.28125 72.90625 \nL 38.28125 8.296875 \nL 54.390625 8.296875 \nL 54.390625 0 \nL 12.40625 0 \nz\n\" id=\"DejaVuSans-49\"/>\n      </defs>\n      <g style=\"fill:#262626;\" transform=\"translate(232.062616 257.616406)scale(0.11 -0.11)\">\n       <use xlink:href=\"#DejaVuSans-49\"/>\n       <use x=\"63.623047\" xlink:href=\"#DejaVuSans-46\"/>\n       <use x=\"95.410156\" xlink:href=\"#DejaVuSans-48\"/>\n      </g>\n     </g>\n    </g>\n    <g id=\"text_4\">\n     <!-- $x_1$ -->\n     <defs>\n      <path d=\"M 60.015625 54.6875 \nL 34.90625 27.875 \nL 50.296875 0 \nL 39.984375 0 \nL 28.421875 21.6875 \nL 8.296875 0 \nL -2.59375 0 \nL 24.3125 28.8125 \nL 10.015625 54.6875 \nL 20.3125 54.6875 \nL 30.8125 34.90625 \nL 49.125 54.6875 \nz\n\" id=\"DejaVuSans-Oblique-120\"/>\n     </defs>\n     <g style=\"fill:#262626;\" transform=\"translate(164.204844 273.022188)scale(0.12 -0.12)\">\n      <use transform=\"translate(0 0.3125)\" xlink:href=\"#DejaVuSans-Oblique-120\"/>\n      <use transform=\"translate(59.179688 -16.09375)scale(0.7)\" xlink:href=\"#DejaVuSans-49\"/>\n     </g>\n    </g>\n   </g>\n   <g id=\"matplotlib.axis_2\">\n    <g id=\"ytick_1\">\n     <g id=\"line2d_4\">\n      <path clip-path=\"url(#p087926bdee)\" d=\"M 59.024844 226.638076 \nL 282.224844 226.638076 \n\" style=\"fill:none;stroke:#ffffff;stroke-linecap:round;\"/>\n     </g>\n     <g id=\"text_5\">\n      <!-- −0.2 -->\n      <defs>\n       <path d=\"M 10.59375 35.5 \nL 73.1875 35.5 \nL 73.1875 27.203125 \nL 10.59375 27.203125 \nz\n\" id=\"DejaVuSans-8722\"/>\n       <path d=\"M 19.1875 8.296875 \nL 53.609375 8.296875 \nL 53.609375 0 \nL 7.328125 0 \nL 7.328125 8.296875 \nQ 12.9375 14.109375 22.625 23.890625 \nQ 32.328125 33.6875 34.8125 36.53125 \nQ 39.546875 41.84375 41.421875 45.53125 \nQ 43.3125 49.21875 43.3125 52.78125 \nQ 43.3125 58.59375 39.234375 62.25 \nQ 35.15625 65.921875 28.609375 65.921875 \nQ 23.96875 65.921875 18.8125 64.3125 \nQ 13.671875 62.703125 7.8125 59.421875 \nL 7.8125 69.390625 \nQ 13.765625 71.78125 18.9375 73 \nQ 24.125 74.21875 28.421875 74.21875 \nQ 39.75 74.21875 46.484375 68.546875 \nQ 53.21875 62.890625 53.21875 53.421875 \nQ 53.21875 48.921875 51.53125 44.890625 \nQ 49.859375 40.875 45.40625 35.40625 \nQ 44.1875 33.984375 37.640625 27.21875 \nQ 31.109375 20.453125 19.1875 8.296875 \nz\n\" id=\"DejaVuSans-50\"/>\n      </defs>\n      <g style=\"fill:#262626;\" transform=\"translate(22.81375 230.817216)scale(0.11 -0.11)\">\n       <use xlink:href=\"#DejaVuSans-8722\"/>\n       <use x=\"83.789062\" xlink:href=\"#DejaVuSans-48\"/>\n       <use x=\"147.412109\" xlink:href=\"#DejaVuSans-46\"/>\n       <use x=\"179.199219\" xlink:href=\"#DejaVuSans-50\"/>\n      </g>\n     </g>\n    </g>\n    <g id=\"ytick_2\">\n     <g id=\"line2d_5\">\n      <path clip-path=\"url(#p087926bdee)\" d=\"M 59.024844 199.652881 \nL 282.224844 199.652881 \n\" style=\"fill:none;stroke:#ffffff;stroke-linecap:round;\"/>\n     </g>\n     <g id=\"text_6\">\n      <!-- 0.0 -->\n      <g style=\"fill:#262626;\" transform=\"translate(32.031406 203.832022)scale(0.11 -0.11)\">\n       <use xlink:href=\"#DejaVuSans-48\"/>\n       <use x=\"63.623047\" xlink:href=\"#DejaVuSans-46\"/>\n       <use x=\"95.410156\" xlink:href=\"#DejaVuSans-48\"/>\n      </g>\n     </g>\n    </g>\n    <g id=\"ytick_3\">\n     <g id=\"line2d_6\">\n      <path clip-path=\"url(#p087926bdee)\" d=\"M 59.024844 172.667686 \nL 282.224844 172.667686 \n\" style=\"fill:none;stroke:#ffffff;stroke-linecap:round;\"/>\n     </g>\n     <g id=\"text_7\">\n      <!-- 0.2 -->\n      <g style=\"fill:#262626;\" transform=\"translate(32.031406 176.846827)scale(0.11 -0.11)\">\n       <use xlink:href=\"#DejaVuSans-48\"/>\n       <use x=\"63.623047\" xlink:href=\"#DejaVuSans-46\"/>\n       <use x=\"95.410156\" xlink:href=\"#DejaVuSans-50\"/>\n      </g>\n     </g>\n    </g>\n    <g id=\"ytick_4\">\n     <g id=\"line2d_7\">\n      <path clip-path=\"url(#p087926bdee)\" d=\"M 59.024844 145.682491 \nL 282.224844 145.682491 \n\" style=\"fill:none;stroke:#ffffff;stroke-linecap:round;\"/>\n     </g>\n     <g id=\"text_8\">\n      <!-- 0.4 -->\n      <defs>\n       <path d=\"M 37.796875 64.3125 \nL 12.890625 25.390625 \nL 37.796875 25.390625 \nz\nM 35.203125 72.90625 \nL 47.609375 72.90625 \nL 47.609375 25.390625 \nL 58.015625 25.390625 \nL 58.015625 17.1875 \nL 47.609375 17.1875 \nL 47.609375 0 \nL 37.796875 0 \nL 37.796875 17.1875 \nL 4.890625 17.1875 \nL 4.890625 26.703125 \nz\n\" id=\"DejaVuSans-52\"/>\n      </defs>\n      <g style=\"fill:#262626;\" transform=\"translate(32.031406 149.861632)scale(0.11 -0.11)\">\n       <use xlink:href=\"#DejaVuSans-48\"/>\n       <use x=\"63.623047\" xlink:href=\"#DejaVuSans-46\"/>\n       <use x=\"95.410156\" xlink:href=\"#DejaVuSans-52\"/>\n      </g>\n     </g>\n    </g>\n    <g id=\"ytick_5\">\n     <g id=\"line2d_8\">\n      <path clip-path=\"url(#p087926bdee)\" d=\"M 59.024844 118.697296 \nL 282.224844 118.697296 \n\" style=\"fill:none;stroke:#ffffff;stroke-linecap:round;\"/>\n     </g>\n     <g id=\"text_9\">\n      <!-- 0.6 -->\n      <defs>\n       <path d=\"M 33.015625 40.375 \nQ 26.375 40.375 22.484375 35.828125 \nQ 18.609375 31.296875 18.609375 23.390625 \nQ 18.609375 15.53125 22.484375 10.953125 \nQ 26.375 6.390625 33.015625 6.390625 \nQ 39.65625 6.390625 43.53125 10.953125 \nQ 47.40625 15.53125 47.40625 23.390625 \nQ 47.40625 31.296875 43.53125 35.828125 \nQ 39.65625 40.375 33.015625 40.375 \nz\nM 52.59375 71.296875 \nL 52.59375 62.3125 \nQ 48.875 64.0625 45.09375 64.984375 \nQ 41.3125 65.921875 37.59375 65.921875 \nQ 27.828125 65.921875 22.671875 59.328125 \nQ 17.53125 52.734375 16.796875 39.40625 \nQ 19.671875 43.65625 24.015625 45.921875 \nQ 28.375 48.1875 33.59375 48.1875 \nQ 44.578125 48.1875 50.953125 41.515625 \nQ 57.328125 34.859375 57.328125 23.390625 \nQ 57.328125 12.15625 50.6875 5.359375 \nQ 44.046875 -1.421875 33.015625 -1.421875 \nQ 20.359375 -1.421875 13.671875 8.265625 \nQ 6.984375 17.96875 6.984375 36.375 \nQ 6.984375 53.65625 15.1875 63.9375 \nQ 23.390625 74.21875 37.203125 74.21875 \nQ 40.921875 74.21875 44.703125 73.484375 \nQ 48.484375 72.75 52.59375 71.296875 \nz\n\" id=\"DejaVuSans-54\"/>\n      </defs>\n      <g style=\"fill:#262626;\" transform=\"translate(32.031406 122.876437)scale(0.11 -0.11)\">\n       <use xlink:href=\"#DejaVuSans-48\"/>\n       <use x=\"63.623047\" xlink:href=\"#DejaVuSans-46\"/>\n       <use x=\"95.410156\" xlink:href=\"#DejaVuSans-54\"/>\n      </g>\n     </g>\n    </g>\n    <g id=\"ytick_6\">\n     <g id=\"line2d_9\">\n      <path clip-path=\"url(#p087926bdee)\" d=\"M 59.024844 91.712102 \nL 282.224844 91.712102 \n\" style=\"fill:none;stroke:#ffffff;stroke-linecap:round;\"/>\n     </g>\n     <g id=\"text_10\">\n      <!-- 0.8 -->\n      <defs>\n       <path d=\"M 31.78125 34.625 \nQ 24.75 34.625 20.71875 30.859375 \nQ 16.703125 27.09375 16.703125 20.515625 \nQ 16.703125 13.921875 20.71875 10.15625 \nQ 24.75 6.390625 31.78125 6.390625 \nQ 38.8125 6.390625 42.859375 10.171875 \nQ 46.921875 13.96875 46.921875 20.515625 \nQ 46.921875 27.09375 42.890625 30.859375 \nQ 38.875 34.625 31.78125 34.625 \nz\nM 21.921875 38.8125 \nQ 15.578125 40.375 12.03125 44.71875 \nQ 8.5 49.078125 8.5 55.328125 \nQ 8.5 64.0625 14.71875 69.140625 \nQ 20.953125 74.21875 31.78125 74.21875 \nQ 42.671875 74.21875 48.875 69.140625 \nQ 55.078125 64.0625 55.078125 55.328125 \nQ 55.078125 49.078125 51.53125 44.71875 \nQ 48 40.375 41.703125 38.8125 \nQ 48.828125 37.15625 52.796875 32.3125 \nQ 56.78125 27.484375 56.78125 20.515625 \nQ 56.78125 9.90625 50.3125 4.234375 \nQ 43.84375 -1.421875 31.78125 -1.421875 \nQ 19.734375 -1.421875 13.25 4.234375 \nQ 6.78125 9.90625 6.78125 20.515625 \nQ 6.78125 27.484375 10.78125 32.3125 \nQ 14.796875 37.15625 21.921875 38.8125 \nz\nM 18.3125 54.390625 \nQ 18.3125 48.734375 21.84375 45.5625 \nQ 25.390625 42.390625 31.78125 42.390625 \nQ 38.140625 42.390625 41.71875 45.5625 \nQ 45.3125 48.734375 45.3125 54.390625 \nQ 45.3125 60.0625 41.71875 63.234375 \nQ 38.140625 66.40625 31.78125 66.40625 \nQ 25.390625 66.40625 21.84375 63.234375 \nQ 18.3125 60.0625 18.3125 54.390625 \nz\n\" id=\"DejaVuSans-56\"/>\n      </defs>\n      <g style=\"fill:#262626;\" transform=\"translate(32.031406 95.891242)scale(0.11 -0.11)\">\n       <use xlink:href=\"#DejaVuSans-48\"/>\n       <use x=\"63.623047\" xlink:href=\"#DejaVuSans-46\"/>\n       <use x=\"95.410156\" xlink:href=\"#DejaVuSans-56\"/>\n      </g>\n     </g>\n    </g>\n    <g id=\"ytick_7\">\n     <g id=\"line2d_10\">\n      <path clip-path=\"url(#p087926bdee)\" d=\"M 59.024844 64.726907 \nL 282.224844 64.726907 \n\" style=\"fill:none;stroke:#ffffff;stroke-linecap:round;\"/>\n     </g>\n     <g id=\"text_11\">\n      <!-- 1.0 -->\n      <g style=\"fill:#262626;\" transform=\"translate(32.031406 68.906047)scale(0.11 -0.11)\">\n       <use xlink:href=\"#DejaVuSans-49\"/>\n       <use x=\"63.623047\" xlink:href=\"#DejaVuSans-46\"/>\n       <use x=\"95.410156\" xlink:href=\"#DejaVuSans-48\"/>\n      </g>\n     </g>\n    </g>\n    <g id=\"ytick_8\">\n     <g id=\"line2d_11\">\n      <path clip-path=\"url(#p087926bdee)\" d=\"M 59.024844 37.741712 \nL 282.224844 37.741712 \n\" style=\"fill:none;stroke:#ffffff;stroke-linecap:round;\"/>\n     </g>\n     <g id=\"text_12\">\n      <!-- 1.2 -->\n      <g style=\"fill:#262626;\" transform=\"translate(32.031406 41.920852)scale(0.11 -0.11)\">\n       <use xlink:href=\"#DejaVuSans-49\"/>\n       <use x=\"63.623047\" xlink:href=\"#DejaVuSans-46\"/>\n       <use x=\"95.410156\" xlink:href=\"#DejaVuSans-50\"/>\n      </g>\n     </g>\n    </g>\n    <g id=\"text_13\">\n     <!-- $x_2$ -->\n     <g style=\"fill:#262626;\" transform=\"translate(16.318125 137.458125)rotate(-90)scale(0.12 -0.12)\">\n      <use transform=\"translate(0 0.3125)\" xlink:href=\"#DejaVuSans-Oblique-120\"/>\n      <use transform=\"translate(59.179688 -16.09375)scale(0.7)\" xlink:href=\"#DejaVuSans-50\"/>\n     </g>\n    </g>\n   </g>\n   <g id=\"PathCollection_1\">\n    <defs>\n     <path d=\"M 0 3 \nC 0.795609 3 1.55874 2.683901 2.12132 2.12132 \nC 2.683901 1.55874 3 0.795609 3 0 \nC 3 -0.795609 2.683901 -1.55874 2.12132 -2.12132 \nC 1.55874 -2.683901 0.795609 -3 0 -3 \nC -0.795609 -3 -1.55874 -2.683901 -2.12132 -2.12132 \nC -2.683901 -1.55874 -3 -0.795609 -3 0 \nC -3 0.795609 -2.683901 1.55874 -2.12132 2.12132 \nC -1.55874 2.683901 -0.795609 3 0 3 \nz\n\" id=\"mbde7789bad\" style=\"stroke:#333333;\"/>\n    </defs>\n    <g clip-path=\"url(#p087926bdee)\">\n     <use style=\"fill:#4c72b0;stroke:#333333;\" x=\"259.955143\" xlink:href=\"#mbde7789bad\" y=\"50.150199\"/>\n     <use style=\"fill:#4c72b0;stroke:#333333;\" x=\"263.54335\" xlink:href=\"#mbde7789bad\" y=\"70.083577\"/>\n     <use style=\"fill:#4c72b0;stroke:#333333;\" x=\"115.232227\" xlink:href=\"#mbde7789bad\" y=\"207.544973\"/>\n     <use style=\"fill:#4c72b0;stroke:#333333;\" x=\"107.7334\" xlink:href=\"#mbde7789bad\" y=\"208.164142\"/>\n     <use style=\"fill:#4c72b0;stroke:#333333;\" x=\"131.770472\" xlink:href=\"#mbde7789bad\" y=\"207.178248\"/>\n     <use style=\"fill:#4c72b0;stroke:#333333;\" x=\"246.48209\" xlink:href=\"#mbde7789bad\" y=\"60.767869\"/>\n     <use style=\"fill:#4c72b0;stroke:#333333;\" x=\"248.292935\" xlink:href=\"#mbde7789bad\" y=\"72.667235\"/>\n     <use style=\"fill:#4c72b0;stroke:#333333;\" x=\"104.955865\" xlink:href=\"#mbde7789bad\" y=\"184.219779\"/>\n     <use style=\"fill:#4c72b0;stroke:#333333;\" x=\"252.157558\" xlink:href=\"#mbde7789bad\" y=\"52.701705\"/>\n     <use style=\"fill:#4c72b0;stroke:#333333;\" x=\"112.790686\" xlink:href=\"#mbde7789bad\" y=\"192.457284\"/>\n     <use style=\"fill:#4c72b0;stroke:#333333;\" x=\"260.159052\" xlink:href=\"#mbde7789bad\" y=\"39.216197\"/>\n     <use style=\"fill:#4c72b0;stroke:#333333;\" x=\"244.520936\" xlink:href=\"#mbde7789bad\" y=\"56.018748\"/>\n     <use style=\"fill:#4c72b0;stroke:#333333;\" x=\"237.047492\" xlink:href=\"#mbde7789bad\" y=\"64.193306\"/>\n     <use style=\"fill:#4c72b0;stroke:#333333;\" x=\"108.07745\" xlink:href=\"#mbde7789bad\" y=\"201.913362\"/>\n     <use style=\"fill:#4c72b0;stroke:#333333;\" x=\"95.78086\" xlink:href=\"#mbde7789bad\" y=\"188.609425\"/>\n     <use style=\"fill:#4c72b0;stroke:#333333;\" x=\"235.169458\" xlink:href=\"#mbde7789bad\" y=\"55.753902\"/>\n     <use style=\"fill:#4c72b0;stroke:#333333;\" x=\"243.998402\" xlink:href=\"#mbde7789bad\" y=\"53.082889\"/>\n     <use style=\"fill:#4c72b0;stroke:#333333;\" x=\"231.210832\" xlink:href=\"#mbde7789bad\" y=\"82.890482\"/>\n     <use style=\"fill:#4c72b0;stroke:#333333;\" x=\"88.656223\" xlink:href=\"#mbde7789bad\" y=\"212.229681\"/>\n     <use style=\"fill:#4c72b0;stroke:#333333;\" x=\"228.967673\" xlink:href=\"#mbde7789bad\" y=\"69.710619\"/>\n     <use style=\"fill:#4c72b0;stroke:#333333;\" x=\"249.876536\" xlink:href=\"#mbde7789bad\" y=\"66.345065\"/>\n     <use style=\"fill:#4c72b0;stroke:#333333;\" x=\"100.533581\" xlink:href=\"#mbde7789bad\" y=\"208.732369\"/>\n     <use style=\"fill:#4c72b0;stroke:#333333;\" x=\"247.433522\" xlink:href=\"#mbde7789bad\" y=\"70.081236\"/>\n     <use style=\"fill:#4c72b0;stroke:#333333;\" x=\"102.691397\" xlink:href=\"#mbde7789bad\" y=\"201.740994\"/>\n     <use style=\"fill:#4c72b0;stroke:#333333;\" x=\"222.551047\" xlink:href=\"#mbde7789bad\" y=\"64.078463\"/>\n     <use style=\"fill:#4c72b0;stroke:#333333;\" x=\"93.457868\" xlink:href=\"#mbde7789bad\" y=\"183.189404\"/>\n     <use style=\"fill:#4c72b0;stroke:#333333;\" x=\"231.199875\" xlink:href=\"#mbde7789bad\" y=\"74.031781\"/>\n     <use style=\"fill:#4c72b0;stroke:#333333;\" x=\"251.107342\" xlink:href=\"#mbde7789bad\" y=\"67.866941\"/>\n     <use style=\"fill:#4c72b0;stroke:#333333;\" x=\"244.963283\" xlink:href=\"#mbde7789bad\" y=\"50.449579\"/>\n     <use style=\"fill:#4c72b0;stroke:#333333;\" x=\"109.606913\" xlink:href=\"#mbde7789bad\" y=\"177.170685\"/>\n     <use style=\"fill:#4c72b0;stroke:#333333;\" x=\"103.064312\" xlink:href=\"#mbde7789bad\" y=\"193.534145\"/>\n     <use style=\"fill:#4c72b0;stroke:#333333;\" x=\"93.93135\" xlink:href=\"#mbde7789bad\" y=\"173.544518\"/>\n     <use style=\"fill:#4c72b0;stroke:#333333;\" x=\"117.244392\" xlink:href=\"#mbde7789bad\" y=\"227.719294\"/>\n     <use style=\"fill:#4c72b0;stroke:#333333;\" x=\"109.674316\" xlink:href=\"#mbde7789bad\" y=\"213.489576\"/>\n     <use style=\"fill:#4c72b0;stroke:#333333;\" x=\"99.887172\" xlink:href=\"#mbde7789bad\" y=\"199.033392\"/>\n     <use style=\"fill:#4c72b0;stroke:#333333;\" x=\"119.233916\" xlink:href=\"#mbde7789bad\" y=\"215.171401\"/>\n     <use style=\"fill:#4c72b0;stroke:#333333;\" x=\"234.613424\" xlink:href=\"#mbde7789bad\" y=\"74.772003\"/>\n     <use style=\"fill:#4c72b0;stroke:#333333;\" x=\"236.885131\" xlink:href=\"#mbde7789bad\" y=\"63.09075\"/>\n     <use style=\"fill:#4c72b0;stroke:#333333;\" x=\"243.009482\" xlink:href=\"#mbde7789bad\" y=\"70.063367\"/>\n     <use style=\"fill:#4c72b0;stroke:#333333;\" x=\"99.835803\" xlink:href=\"#mbde7789bad\" y=\"208.523452\"/>\n     <use style=\"fill:#4c72b0;stroke:#333333;\" x=\"227.685229\" xlink:href=\"#mbde7789bad\" y=\"94.825595\"/>\n     <use style=\"fill:#4c72b0;stroke:#333333;\" x=\"240.741665\" xlink:href=\"#mbde7789bad\" y=\"69.192451\"/>\n     <use style=\"fill:#4c72b0;stroke:#333333;\" x=\"117.32708\" xlink:href=\"#mbde7789bad\" y=\"218.547106\"/>\n     <use style=\"fill:#4c72b0;stroke:#333333;\" x=\"116.907943\" xlink:href=\"#mbde7789bad\" y=\"220.514316\"/>\n     <use style=\"fill:#4c72b0;stroke:#333333;\" x=\"96.200596\" xlink:href=\"#mbde7789bad\" y=\"214.327935\"/>\n     <use style=\"fill:#4c72b0;stroke:#333333;\" x=\"234.340734\" xlink:href=\"#mbde7789bad\" y=\"77.989017\"/>\n     <use style=\"fill:#4c72b0;stroke:#333333;\" x=\"222.161597\" xlink:href=\"#mbde7789bad\" y=\"51.099309\"/>\n     <use style=\"fill:#4c72b0;stroke:#333333;\" x=\"72.234302\" xlink:href=\"#mbde7789bad\" y=\"212.300678\"/>\n     <use style=\"fill:#4c72b0;stroke:#333333;\" x=\"228.518749\" xlink:href=\"#mbde7789bad\" y=\"76.134185\"/>\n     <use style=\"fill:#4c72b0;stroke:#333333;\" x=\"126.033232\" xlink:href=\"#mbde7789bad\" y=\"213.724878\"/>\n     <use style=\"fill:#4c72b0;stroke:#333333;\" x=\"247.055561\" xlink:href=\"#mbde7789bad\" y=\"40.591995\"/>\n     <use style=\"fill:#4c72b0;stroke:#333333;\" x=\"101.646661\" xlink:href=\"#mbde7789bad\" y=\"192.247941\"/>\n     <use style=\"fill:#4c72b0;stroke:#333333;\" x=\"255.130558\" xlink:href=\"#mbde7789bad\" y=\"87.377137\"/>\n     <use style=\"fill:#4c72b0;stroke:#333333;\" x=\"251.709769\" xlink:href=\"#mbde7789bad\" y=\"53.148434\"/>\n     <use style=\"fill:#4c72b0;stroke:#333333;\" x=\"87.841337\" xlink:href=\"#mbde7789bad\" y=\"179.304071\"/>\n     <use style=\"fill:#4c72b0;stroke:#333333;\" x=\"222.039698\" xlink:href=\"#mbde7789bad\" y=\"53.873729\"/>\n     <use style=\"fill:#4c72b0;stroke:#333333;\" x=\"227.788049\" xlink:href=\"#mbde7789bad\" y=\"39.593152\"/>\n     <use style=\"fill:#4c72b0;stroke:#333333;\" x=\"110.439215\" xlink:href=\"#mbde7789bad\" y=\"208.207494\"/>\n     <use style=\"fill:#4c72b0;stroke:#333333;\" x=\"86.927097\" xlink:href=\"#mbde7789bad\" y=\"203.394184\"/>\n     <use style=\"fill:#4c72b0;stroke:#333333;\" x=\"100.557647\" xlink:href=\"#mbde7789bad\" y=\"203.109845\"/>\n     <use style=\"fill:#4c72b0;stroke:#333333;\" x=\"82.631126\" xlink:href=\"#mbde7789bad\" y=\"203.24209\"/>\n     <use style=\"fill:#4c72b0;stroke:#333333;\" x=\"266.095836\" xlink:href=\"#mbde7789bad\" y=\"72.011304\"/>\n     <use style=\"fill:#4c72b0;stroke:#333333;\" x=\"260.391378\" xlink:href=\"#mbde7789bad\" y=\"61.242408\"/>\n     <use style=\"fill:#4c72b0;stroke:#333333;\" x=\"258.19324\" xlink:href=\"#mbde7789bad\" y=\"46.525847\"/>\n     <use style=\"fill:#4c72b0;stroke:#333333;\" x=\"92.090466\" xlink:href=\"#mbde7789bad\" y=\"216.629178\"/>\n     <use style=\"fill:#4c72b0;stroke:#333333;\" x=\"235.099158\" xlink:href=\"#mbde7789bad\" y=\"65.332469\"/>\n     <use style=\"fill:#4c72b0;stroke:#333333;\" x=\"231.319535\" xlink:href=\"#mbde7789bad\" y=\"65.759326\"/>\n     <use style=\"fill:#4c72b0;stroke:#333333;\" x=\"89.182412\" xlink:href=\"#mbde7789bad\" y=\"224.558287\"/>\n     <use style=\"fill:#4c72b0;stroke:#333333;\" x=\"115.031936\" xlink:href=\"#mbde7789bad\" y=\"210.146003\"/>\n     <use style=\"fill:#4c72b0;stroke:#333333;\" x=\"80.366797\" xlink:href=\"#mbde7789bad\" y=\"207.265247\"/>\n     <use style=\"fill:#4c72b0;stroke:#333333;\" x=\"102.276469\" xlink:href=\"#mbde7789bad\" y=\"191.22308\"/>\n     <use style=\"fill:#4c72b0;stroke:#333333;\" x=\"244.300947\" xlink:href=\"#mbde7789bad\" y=\"60.395788\"/>\n     <use style=\"fill:#4c72b0;stroke:#333333;\" x=\"231.909249\" xlink:href=\"#mbde7789bad\" y=\"93.908196\"/>\n     <use style=\"fill:#4c72b0;stroke:#333333;\" x=\"101.399401\" xlink:href=\"#mbde7789bad\" y=\"198.857159\"/>\n     <use style=\"fill:#4c72b0;stroke:#333333;\" x=\"135.010749\" xlink:href=\"#mbde7789bad\" y=\"210.325115\"/>\n     <use style=\"fill:#4c72b0;stroke:#333333;\" x=\"114.890857\" xlink:href=\"#mbde7789bad\" y=\"197.485024\"/>\n     <use style=\"fill:#4c72b0;stroke:#333333;\" x=\"244.022309\" xlink:href=\"#mbde7789bad\" y=\"44.483526\"/>\n     <use style=\"fill:#4c72b0;stroke:#333333;\" x=\"244.559404\" xlink:href=\"#mbde7789bad\" y=\"71.958426\"/>\n     <use style=\"fill:#4c72b0;stroke:#333333;\" x=\"103.452744\" xlink:href=\"#mbde7789bad\" y=\"211.160423\"/>\n     <use style=\"fill:#4c72b0;stroke:#333333;\" x=\"232.68778\" xlink:href=\"#mbde7789bad\" y=\"67.888084\"/>\n     <use style=\"fill:#4c72b0;stroke:#333333;\" x=\"210.678443\" xlink:href=\"#mbde7789bad\" y=\"82.766656\"/>\n     <use style=\"fill:#4c72b0;stroke:#333333;\" x=\"242.205581\" xlink:href=\"#mbde7789bad\" y=\"66.72284\"/>\n     <use style=\"fill:#4c72b0;stroke:#333333;\" x=\"94.987462\" xlink:href=\"#mbde7789bad\" y=\"196.346497\"/>\n     <use style=\"fill:#4c72b0;stroke:#333333;\" x=\"247.4053\" xlink:href=\"#mbde7789bad\" y=\"57.606523\"/>\n     <use style=\"fill:#4c72b0;stroke:#333333;\" x=\"104.976222\" xlink:href=\"#mbde7789bad\" y=\"215.468233\"/>\n     <use style=\"fill:#4c72b0;stroke:#333333;\" x=\"112.894653\" xlink:href=\"#mbde7789bad\" y=\"217.789782\"/>\n     <use style=\"fill:#4c72b0;stroke:#333333;\" x=\"125.453964\" xlink:href=\"#mbde7789bad\" y=\"204.882875\"/>\n     <use style=\"fill:#4c72b0;stroke:#333333;\" x=\"217.920754\" xlink:href=\"#mbde7789bad\" y=\"60.368348\"/>\n     <use style=\"fill:#4c72b0;stroke:#333333;\" x=\"230.127483\" xlink:href=\"#mbde7789bad\" y=\"54.503289\"/>\n     <use style=\"fill:#4c72b0;stroke:#333333;\" x=\"237.831334\" xlink:href=\"#mbde7789bad\" y=\"65.355534\"/>\n     <use style=\"fill:#4c72b0;stroke:#333333;\" x=\"93.556874\" xlink:href=\"#mbde7789bad\" y=\"194.960252\"/>\n     <use style=\"fill:#4c72b0;stroke:#333333;\" x=\"122.915368\" xlink:href=\"#mbde7789bad\" y=\"210.05275\"/>\n     <use style=\"fill:#4c72b0;stroke:#333333;\" x=\"98.296045\" xlink:href=\"#mbde7789bad\" y=\"212.831442\"/>\n     <use style=\"fill:#4c72b0;stroke:#333333;\" x=\"222.963522\" xlink:href=\"#mbde7789bad\" y=\"70.907751\"/>\n     <use style=\"fill:#4c72b0;stroke:#333333;\" x=\"108.485926\" xlink:href=\"#mbde7789bad\" y=\"198.643791\"/>\n     <use style=\"fill:#4c72b0;stroke:#333333;\" x=\"106.764153\" xlink:href=\"#mbde7789bad\" y=\"203.538001\"/>\n     <use style=\"fill:#4c72b0;stroke:#333333;\" x=\"96.061691\" xlink:href=\"#mbde7789bad\" y=\"203.453085\"/>\n     <use style=\"fill:#4c72b0;stroke:#333333;\" x=\"105.600001\" xlink:href=\"#mbde7789bad\" y=\"211.256002\"/>\n     <use style=\"fill:#4c72b0;stroke:#333333;\" x=\"220.342541\" xlink:href=\"#mbde7789bad\" y=\"54.964768\"/>\n     <use style=\"fill:#4c72b0;stroke:#333333;\" x=\"223.808612\" xlink:href=\"#mbde7789bad\" y=\"70.711255\"/>\n     <use style=\"fill:#4c72b0;stroke:#333333;\" x=\"78.886711\" xlink:href=\"#mbde7789bad\" y=\"217.354815\"/>\n     <use style=\"fill:#4c72b0;stroke:#333333;\" x=\"240.749983\" xlink:href=\"#mbde7789bad\" y=\"86.392215\"/>\n     <use style=\"fill:#4c72b0;stroke:#333333;\" x=\"116.628482\" xlink:href=\"#mbde7789bad\" y=\"207.672062\"/>\n     <use style=\"fill:#4c72b0;stroke:#333333;\" x=\"95.601495\" xlink:href=\"#mbde7789bad\" y=\"192.938404\"/>\n     <use style=\"fill:#4c72b0;stroke:#333333;\" x=\"229.499203\" xlink:href=\"#mbde7789bad\" y=\"60.991909\"/>\n     <use style=\"fill:#4c72b0;stroke:#333333;\" x=\"116.824581\" xlink:href=\"#mbde7789bad\" y=\"190.309425\"/>\n    </g>\n   </g>\n   <g id=\"PathCollection_2\">\n    <defs>\n     <path d=\"M 0 3 \nC 0.795609 3 1.55874 2.683901 2.12132 2.12132 \nC 2.683901 1.55874 3 0.795609 3 0 \nC 3 -0.795609 2.683901 -1.55874 2.12132 -2.12132 \nC 1.55874 -2.683901 0.795609 -3 0 -3 \nC -0.795609 -3 -1.55874 -2.683901 -2.12132 -2.12132 \nC -2.683901 -1.55874 -3 -0.795609 -3 0 \nC -3 0.795609 -2.683901 1.55874 -2.12132 2.12132 \nC -1.55874 2.683901 -0.795609 3 0 3 \nz\n\" id=\"mfb374004cb\" style=\"stroke:#333333;\"/>\n    </defs>\n    <g clip-path=\"url(#p087926bdee)\">\n     <use style=\"fill:#dd8452;stroke:#333333;\" x=\"93.277902\" xlink:href=\"#mfb374004cb\" y=\"78.132925\"/>\n     <use style=\"fill:#dd8452;stroke:#333333;\" x=\"224.883405\" xlink:href=\"#mfb374004cb\" y=\"214.329073\"/>\n     <use style=\"fill:#dd8452;stroke:#333333;\" x=\"102.612695\" xlink:href=\"#mfb374004cb\" y=\"51.479899\"/>\n     <use style=\"fill:#dd8452;stroke:#333333;\" x=\"251.149519\" xlink:href=\"#mfb374004cb\" y=\"228.558895\"/>\n     <use style=\"fill:#dd8452;stroke:#333333;\" x=\"219.877765\" xlink:href=\"#mfb374004cb\" y=\"189.117945\"/>\n     <use style=\"fill:#dd8452;stroke:#333333;\" x=\"234.810804\" xlink:href=\"#mfb374004cb\" y=\"176.860392\"/>\n     <use style=\"fill:#dd8452;stroke:#333333;\" x=\"72.554997\" xlink:href=\"#mfb374004cb\" y=\"51.302713\"/>\n     <use style=\"fill:#dd8452;stroke:#333333;\" x=\"122.814711\" xlink:href=\"#mfb374004cb\" y=\"52.247159\"/>\n     <use style=\"fill:#dd8452;stroke:#333333;\" x=\"104.94594\" xlink:href=\"#mfb374004cb\" y=\"86.634125\"/>\n     <use style=\"fill:#dd8452;stroke:#333333;\" x=\"103.249042\" xlink:href=\"#mfb374004cb\" y=\"48.883132\"/>\n     <use style=\"fill:#dd8452;stroke:#333333;\" x=\"82.415721\" xlink:href=\"#mfb374004cb\" y=\"45.891187\"/>\n     <use style=\"fill:#dd8452;stroke:#333333;\" x=\"257.646733\" xlink:href=\"#mfb374004cb\" y=\"188.709374\"/>\n     <use style=\"fill:#dd8452;stroke:#333333;\" x=\"221.345996\" xlink:href=\"#mfb374004cb\" y=\"184.434689\"/>\n     <use style=\"fill:#dd8452;stroke:#333333;\" x=\"219.440705\" xlink:href=\"#mfb374004cb\" y=\"188.233614\"/>\n     <use style=\"fill:#dd8452;stroke:#333333;\" x=\"114.219685\" xlink:href=\"#mfb374004cb\" y=\"65.664002\"/>\n     <use style=\"fill:#dd8452;stroke:#333333;\" x=\"238.38008\" xlink:href=\"#mfb374004cb\" y=\"216.600656\"/>\n     <use style=\"fill:#dd8452;stroke:#333333;\" x=\"261.675424\" xlink:href=\"#mfb374004cb\" y=\"203.765039\"/>\n     <use style=\"fill:#dd8452;stroke:#333333;\" x=\"253.214229\" xlink:href=\"#mfb374004cb\" y=\"201.385255\"/>\n     <use style=\"fill:#dd8452;stroke:#333333;\" x=\"228.257106\" xlink:href=\"#mfb374004cb\" y=\"205.302824\"/>\n     <use style=\"fill:#dd8452;stroke:#333333;\" x=\"227.484874\" xlink:href=\"#mfb374004cb\" y=\"219.878591\"/>\n     <use style=\"fill:#dd8452;stroke:#333333;\" x=\"89.820289\" xlink:href=\"#mfb374004cb\" y=\"76.334444\"/>\n     <use style=\"fill:#dd8452;stroke:#333333;\" x=\"240.036229\" xlink:href=\"#mfb374004cb\" y=\"195.815903\"/>\n     <use style=\"fill:#dd8452;stroke:#333333;\" x=\"117.115858\" xlink:href=\"#mfb374004cb\" y=\"61.621325\"/>\n     <use style=\"fill:#dd8452;stroke:#333333;\" x=\"237.004293\" xlink:href=\"#mfb374004cb\" y=\"182.384273\"/>\n     <use style=\"fill:#dd8452;stroke:#333333;\" x=\"75.289402\" xlink:href=\"#mfb374004cb\" y=\"63.430067\"/>\n     <use style=\"fill:#dd8452;stroke:#333333;\" x=\"101.705585\" xlink:href=\"#mfb374004cb\" y=\"72.370654\"/>\n     <use style=\"fill:#dd8452;stroke:#333333;\" x=\"228.373049\" xlink:href=\"#mfb374004cb\" y=\"211.712002\"/>\n     <use style=\"fill:#dd8452;stroke:#333333;\" x=\"238.031345\" xlink:href=\"#mfb374004cb\" y=\"199.905263\"/>\n     <use style=\"fill:#dd8452;stroke:#333333;\" x=\"110.369192\" xlink:href=\"#mfb374004cb\" y=\"60.889725\"/>\n     <use style=\"fill:#dd8452;stroke:#333333;\" x=\"248.864772\" xlink:href=\"#mfb374004cb\" y=\"187.457881\"/>\n     <use style=\"fill:#dd8452;stroke:#333333;\" x=\"118.102846\" xlink:href=\"#mfb374004cb\" y=\"82.484591\"/>\n     <use style=\"fill:#dd8452;stroke:#333333;\" x=\"104.136132\" xlink:href=\"#mfb374004cb\" y=\"77.418479\"/>\n     <use style=\"fill:#dd8452;stroke:#333333;\" x=\"232.653332\" xlink:href=\"#mfb374004cb\" y=\"184.823348\"/>\n     <use style=\"fill:#dd8452;stroke:#333333;\" x=\"236.421124\" xlink:href=\"#mfb374004cb\" y=\"183.758119\"/>\n     <use style=\"fill:#dd8452;stroke:#333333;\" x=\"91.037199\" xlink:href=\"#mfb374004cb\" y=\"62.308387\"/>\n     <use style=\"fill:#dd8452;stroke:#333333;\" x=\"97.326473\" xlink:href=\"#mfb374004cb\" y=\"65.862186\"/>\n     <use style=\"fill:#dd8452;stroke:#333333;\" x=\"124.350546\" xlink:href=\"#mfb374004cb\" y=\"47.114939\"/>\n     <use style=\"fill:#dd8452;stroke:#333333;\" x=\"245.561592\" xlink:href=\"#mfb374004cb\" y=\"182.156996\"/>\n     <use style=\"fill:#dd8452;stroke:#333333;\" x=\"115.851187\" xlink:href=\"#mfb374004cb\" y=\"64.613077\"/>\n     <use style=\"fill:#dd8452;stroke:#333333;\" x=\"234.024233\" xlink:href=\"#mfb374004cb\" y=\"188.821505\"/>\n     <use style=\"fill:#dd8452;stroke:#333333;\" x=\"112.060245\" xlink:href=\"#mfb374004cb\" y=\"75.858884\"/>\n     <use style=\"fill:#dd8452;stroke:#333333;\" x=\"114.1067\" xlink:href=\"#mfb374004cb\" y=\"56.738832\"/>\n     <use style=\"fill:#dd8452;stroke:#333333;\" x=\"113.026493\" xlink:href=\"#mfb374004cb\" y=\"60.109228\"/>\n     <use style=\"fill:#dd8452;stroke:#333333;\" x=\"228.597335\" xlink:href=\"#mfb374004cb\" y=\"227.846023\"/>\n     <use style=\"fill:#dd8452;stroke:#333333;\" x=\"120.934284\" xlink:href=\"#mfb374004cb\" y=\"58.487193\"/>\n     <use style=\"fill:#dd8452;stroke:#333333;\" x=\"111.850375\" xlink:href=\"#mfb374004cb\" y=\"54.816534\"/>\n     <use style=\"fill:#dd8452;stroke:#333333;\" x=\"217.13098\" xlink:href=\"#mfb374004cb\" y=\"185.839997\"/>\n     <use style=\"fill:#dd8452;stroke:#333333;\" x=\"243.580649\" xlink:href=\"#mfb374004cb\" y=\"213.588167\"/>\n     <use style=\"fill:#dd8452;stroke:#333333;\" x=\"107.761863\" xlink:href=\"#mfb374004cb\" y=\"69.572679\"/>\n     <use style=\"fill:#dd8452;stroke:#333333;\" x=\"115.542309\" xlink:href=\"#mfb374004cb\" y=\"74.004012\"/>\n     <use style=\"fill:#dd8452;stroke:#333333;\" x=\"223.948936\" xlink:href=\"#mfb374004cb\" y=\"198.455589\"/>\n     <use style=\"fill:#dd8452;stroke:#333333;\" x=\"233.531669\" xlink:href=\"#mfb374004cb\" y=\"204.254342\"/>\n     <use style=\"fill:#dd8452;stroke:#333333;\" x=\"112.757378\" xlink:href=\"#mfb374004cb\" y=\"68.704924\"/>\n     <use style=\"fill:#dd8452;stroke:#333333;\" x=\"69.170298\" xlink:href=\"#mfb374004cb\" y=\"75.712725\"/>\n     <use style=\"fill:#dd8452;stroke:#333333;\" x=\"88.274163\" xlink:href=\"#mfb374004cb\" y=\"86.680102\"/>\n     <use style=\"fill:#dd8452;stroke:#333333;\" x=\"110.630555\" xlink:href=\"#mfb374004cb\" y=\"67.06428\"/>\n     <use style=\"fill:#dd8452;stroke:#333333;\" x=\"104.676328\" xlink:href=\"#mfb374004cb\" y=\"42.649773\"/>\n     <use style=\"fill:#dd8452;stroke:#333333;\" x=\"100.527459\" xlink:href=\"#mfb374004cb\" y=\"62.252365\"/>\n     <use style=\"fill:#dd8452;stroke:#333333;\" x=\"98.397342\" xlink:href=\"#mfb374004cb\" y=\"53.626736\"/>\n     <use style=\"fill:#dd8452;stroke:#333333;\" x=\"261.901639\" xlink:href=\"#mfb374004cb\" y=\"205.500236\"/>\n     <use style=\"fill:#dd8452;stroke:#333333;\" x=\"81.360552\" xlink:href=\"#mfb374004cb\" y=\"89.091021\"/>\n     <use style=\"fill:#dd8452;stroke:#333333;\" x=\"262.623294\" xlink:href=\"#mfb374004cb\" y=\"188.585081\"/>\n     <use style=\"fill:#dd8452;stroke:#333333;\" x=\"249.519018\" xlink:href=\"#mfb374004cb\" y=\"175.733768\"/>\n     <use style=\"fill:#dd8452;stroke:#333333;\" x=\"257.99059\" xlink:href=\"#mfb374004cb\" y=\"171.231234\"/>\n     <use style=\"fill:#dd8452;stroke:#333333;\" x=\"223.426442\" xlink:href=\"#mfb374004cb\" y=\"229.874489\"/>\n     <use style=\"fill:#dd8452;stroke:#333333;\" x=\"104.690629\" xlink:href=\"#mfb374004cb\" y=\"48.155794\"/>\n     <use style=\"fill:#dd8452;stroke:#333333;\" x=\"226.098212\" xlink:href=\"#mfb374004cb\" y=\"182.668485\"/>\n     <use style=\"fill:#dd8452;stroke:#333333;\" x=\"229.694304\" xlink:href=\"#mfb374004cb\" y=\"190.28417\"/>\n     <use style=\"fill:#dd8452;stroke:#333333;\" x=\"91.090911\" xlink:href=\"#mfb374004cb\" y=\"53.798695\"/>\n     <use style=\"fill:#dd8452;stroke:#333333;\" x=\"126.546913\" xlink:href=\"#mfb374004cb\" y=\"55.592881\"/>\n     <use style=\"fill:#dd8452;stroke:#333333;\" x=\"272.079389\" xlink:href=\"#mfb374004cb\" y=\"186.871456\"/>\n     <use style=\"fill:#dd8452;stroke:#333333;\" x=\"107.931008\" xlink:href=\"#mfb374004cb\" y=\"61.84633\"/>\n     <use style=\"fill:#dd8452;stroke:#333333;\" x=\"108.673502\" xlink:href=\"#mfb374004cb\" y=\"32.201761\"/>\n     <use style=\"fill:#dd8452;stroke:#333333;\" x=\"108.77077\" xlink:href=\"#mfb374004cb\" y=\"71.096558\"/>\n     <use style=\"fill:#dd8452;stroke:#333333;\" x=\"243.917381\" xlink:href=\"#mfb374004cb\" y=\"209.33424\"/>\n     <use style=\"fill:#dd8452;stroke:#333333;\" x=\"228.718548\" xlink:href=\"#mfb374004cb\" y=\"192.473904\"/>\n     <use style=\"fill:#dd8452;stroke:#333333;\" x=\"252.04003\" xlink:href=\"#mfb374004cb\" y=\"188.748513\"/>\n     <use style=\"fill:#dd8452;stroke:#333333;\" x=\"103.13751\" xlink:href=\"#mfb374004cb\" y=\"59.940164\"/>\n     <use style=\"fill:#dd8452;stroke:#333333;\" x=\"218.819771\" xlink:href=\"#mfb374004cb\" y=\"216.507031\"/>\n     <use style=\"fill:#dd8452;stroke:#333333;\" x=\"269.706463\" xlink:href=\"#mfb374004cb\" y=\"215.576756\"/>\n     <use style=\"fill:#dd8452;stroke:#333333;\" x=\"231.779212\" xlink:href=\"#mfb374004cb\" y=\"212.611834\"/>\n     <use style=\"fill:#dd8452;stroke:#333333;\" x=\"129.482481\" xlink:href=\"#mfb374004cb\" y=\"51.953167\"/>\n     <use style=\"fill:#dd8452;stroke:#333333;\" x=\"92.785115\" xlink:href=\"#mfb374004cb\" y=\"65.705475\"/>\n     <use style=\"fill:#dd8452;stroke:#333333;\" x=\"231.630325\" xlink:href=\"#mfb374004cb\" y=\"200.87484\"/>\n     <use style=\"fill:#dd8452;stroke:#333333;\" x=\"93.219053\" xlink:href=\"#mfb374004cb\" y=\"72.971078\"/>\n     <use style=\"fill:#dd8452;stroke:#333333;\" x=\"122.409255\" xlink:href=\"#mfb374004cb\" y=\"49.243874\"/>\n     <use style=\"fill:#dd8452;stroke:#333333;\" x=\"111.851742\" xlink:href=\"#mfb374004cb\" y=\"63.729945\"/>\n     <use style=\"fill:#dd8452;stroke:#333333;\" x=\"115.4322\" xlink:href=\"#mfb374004cb\" y=\"58.665779\"/>\n     <use style=\"fill:#dd8452;stroke:#333333;\" x=\"261.952706\" xlink:href=\"#mfb374004cb\" y=\"212.992756\"/>\n     <use style=\"fill:#dd8452;stroke:#333333;\" x=\"245.729664\" xlink:href=\"#mfb374004cb\" y=\"211.562081\"/>\n     <use style=\"fill:#dd8452;stroke:#333333;\" x=\"89.934048\" xlink:href=\"#mfb374004cb\" y=\"72.292451\"/>\n     <use style=\"fill:#dd8452;stroke:#333333;\" x=\"247.071788\" xlink:href=\"#mfb374004cb\" y=\"170.524532\"/>\n     <use style=\"fill:#dd8452;stroke:#333333;\" x=\"90.556837\" xlink:href=\"#mfb374004cb\" y=\"46.763333\"/>\n     <use style=\"fill:#dd8452;stroke:#333333;\" x=\"235.64841\" xlink:href=\"#mfb374004cb\" y=\"201.559458\"/>\n    </g>\n   </g>\n   <g id=\"patch_3\">\n    <path d=\"M 59.024844 239.758125 \nL 59.024844 22.318125 \n\" style=\"fill:none;stroke:#ffffff;stroke-linecap:square;stroke-linejoin:miter;stroke-width:1.25;\"/>\n   </g>\n   <g id=\"patch_4\">\n    <path d=\"M 282.224844 239.758125 \nL 282.224844 22.318125 \n\" style=\"fill:none;stroke:#ffffff;stroke-linecap:square;stroke-linejoin:miter;stroke-width:1.25;\"/>\n   </g>\n   <g id=\"patch_5\">\n    <path d=\"M 59.024844 239.758125 \nL 282.224844 239.758125 \n\" style=\"fill:none;stroke:#ffffff;stroke-linecap:square;stroke-linejoin:miter;stroke-width:1.25;\"/>\n   </g>\n   <g id=\"patch_6\">\n    <path d=\"M 59.024844 22.318125 \nL 282.224844 22.318125 \n\" style=\"fill:none;stroke:#ffffff;stroke-linecap:square;stroke-linejoin:miter;stroke-width:1.25;\"/>\n   </g>\n   <g id=\"text_14\">\n    <!-- Dataset samples -->\n    <defs>\n     <path d=\"M 19.671875 64.796875 \nL 19.671875 8.109375 \nL 31.59375 8.109375 \nQ 46.6875 8.109375 53.6875 14.9375 \nQ 60.6875 21.78125 60.6875 36.53125 \nQ 60.6875 51.171875 53.6875 57.984375 \nQ 46.6875 64.796875 31.59375 64.796875 \nz\nM 9.8125 72.90625 \nL 30.078125 72.90625 \nQ 51.265625 72.90625 61.171875 64.09375 \nQ 71.09375 55.28125 71.09375 36.53125 \nQ 71.09375 17.671875 61.125 8.828125 \nQ 51.171875 0 30.078125 0 \nL 9.8125 0 \nz\n\" id=\"DejaVuSans-68\"/>\n     <path d=\"M 34.28125 27.484375 \nQ 23.390625 27.484375 19.1875 25 \nQ 14.984375 22.515625 14.984375 16.5 \nQ 14.984375 11.71875 18.140625 8.90625 \nQ 21.296875 6.109375 26.703125 6.109375 \nQ 34.1875 6.109375 38.703125 11.40625 \nQ 43.21875 16.703125 43.21875 25.484375 \nL 43.21875 27.484375 \nz\nM 52.203125 31.203125 \nL 52.203125 0 \nL 43.21875 0 \nL 43.21875 8.296875 \nQ 40.140625 3.328125 35.546875 0.953125 \nQ 30.953125 -1.421875 24.3125 -1.421875 \nQ 15.921875 -1.421875 10.953125 3.296875 \nQ 6 8.015625 6 15.921875 \nQ 6 25.140625 12.171875 29.828125 \nQ 18.359375 34.515625 30.609375 34.515625 \nL 43.21875 34.515625 \nL 43.21875 35.40625 \nQ 43.21875 41.609375 39.140625 45 \nQ 35.0625 48.390625 27.6875 48.390625 \nQ 23 48.390625 18.546875 47.265625 \nQ 14.109375 46.140625 10.015625 43.890625 \nL 10.015625 52.203125 \nQ 14.9375 54.109375 19.578125 55.046875 \nQ 24.21875 56 28.609375 56 \nQ 40.484375 56 46.34375 49.84375 \nQ 52.203125 43.703125 52.203125 31.203125 \nz\n\" id=\"DejaVuSans-97\"/>\n     <path d=\"M 18.3125 70.21875 \nL 18.3125 54.6875 \nL 36.8125 54.6875 \nL 36.8125 47.703125 \nL 18.3125 47.703125 \nL 18.3125 18.015625 \nQ 18.3125 11.328125 20.140625 9.421875 \nQ 21.96875 7.515625 27.59375 7.515625 \nL 36.8125 7.515625 \nL 36.8125 0 \nL 27.59375 0 \nQ 17.1875 0 13.234375 3.875 \nQ 9.28125 7.765625 9.28125 18.015625 \nL 9.28125 47.703125 \nL 2.6875 47.703125 \nL 2.6875 54.6875 \nL 9.28125 54.6875 \nL 9.28125 70.21875 \nz\n\" id=\"DejaVuSans-116\"/>\n     <path d=\"M 44.28125 53.078125 \nL 44.28125 44.578125 \nQ 40.484375 46.53125 36.375 47.5 \nQ 32.28125 48.484375 27.875 48.484375 \nQ 21.1875 48.484375 17.84375 46.4375 \nQ 14.5 44.390625 14.5 40.28125 \nQ 14.5 37.15625 16.890625 35.375 \nQ 19.28125 33.59375 26.515625 31.984375 \nL 29.59375 31.296875 \nQ 39.15625 29.25 43.1875 25.515625 \nQ 47.21875 21.78125 47.21875 15.09375 \nQ 47.21875 7.46875 41.1875 3.015625 \nQ 35.15625 -1.421875 24.609375 -1.421875 \nQ 20.21875 -1.421875 15.453125 -0.5625 \nQ 10.6875 0.296875 5.421875 2 \nL 5.421875 11.28125 \nQ 10.40625 8.6875 15.234375 7.390625 \nQ 20.0625 6.109375 24.8125 6.109375 \nQ 31.15625 6.109375 34.5625 8.28125 \nQ 37.984375 10.453125 37.984375 14.40625 \nQ 37.984375 18.0625 35.515625 20.015625 \nQ 33.0625 21.96875 24.703125 23.78125 \nL 21.578125 24.515625 \nQ 13.234375 26.265625 9.515625 29.90625 \nQ 5.8125 33.546875 5.8125 39.890625 \nQ 5.8125 47.609375 11.28125 51.796875 \nQ 16.75 56 26.8125 56 \nQ 31.78125 56 36.171875 55.265625 \nQ 40.578125 54.546875 44.28125 53.078125 \nz\n\" id=\"DejaVuSans-115\"/>\n     <path d=\"M 56.203125 29.59375 \nL 56.203125 25.203125 \nL 14.890625 25.203125 \nQ 15.484375 15.921875 20.484375 11.0625 \nQ 25.484375 6.203125 34.421875 6.203125 \nQ 39.59375 6.203125 44.453125 7.46875 \nQ 49.3125 8.734375 54.109375 11.28125 \nL 54.109375 2.78125 \nQ 49.265625 0.734375 44.1875 -0.34375 \nQ 39.109375 -1.421875 33.890625 -1.421875 \nQ 20.796875 -1.421875 13.15625 6.1875 \nQ 5.515625 13.8125 5.515625 26.8125 \nQ 5.515625 40.234375 12.765625 48.109375 \nQ 20.015625 56 32.328125 56 \nQ 43.359375 56 49.78125 48.890625 \nQ 56.203125 41.796875 56.203125 29.59375 \nz\nM 47.21875 32.234375 \nQ 47.125 39.59375 43.09375 43.984375 \nQ 39.0625 48.390625 32.421875 48.390625 \nQ 24.90625 48.390625 20.390625 44.140625 \nQ 15.875 39.890625 15.1875 32.171875 \nz\n\" id=\"DejaVuSans-101\"/>\n     <path id=\"DejaVuSans-32\"/>\n     <path d=\"M 52 44.1875 \nQ 55.375 50.25 60.0625 53.125 \nQ 64.75 56 71.09375 56 \nQ 79.640625 56 84.28125 50.015625 \nQ 88.921875 44.046875 88.921875 33.015625 \nL 88.921875 0 \nL 79.890625 0 \nL 79.890625 32.71875 \nQ 79.890625 40.578125 77.09375 44.375 \nQ 74.3125 48.1875 68.609375 48.1875 \nQ 61.625 48.1875 57.5625 43.546875 \nQ 53.515625 38.921875 53.515625 30.90625 \nL 53.515625 0 \nL 44.484375 0 \nL 44.484375 32.71875 \nQ 44.484375 40.625 41.703125 44.40625 \nQ 38.921875 48.1875 33.109375 48.1875 \nQ 26.21875 48.1875 22.15625 43.53125 \nQ 18.109375 38.875 18.109375 30.90625 \nL 18.109375 0 \nL 9.078125 0 \nL 9.078125 54.6875 \nL 18.109375 54.6875 \nL 18.109375 46.1875 \nQ 21.1875 51.21875 25.484375 53.609375 \nQ 29.78125 56 35.6875 56 \nQ 41.65625 56 45.828125 52.96875 \nQ 50 49.953125 52 44.1875 \nz\n\" id=\"DejaVuSans-109\"/>\n     <path d=\"M 18.109375 8.203125 \nL 18.109375 -20.796875 \nL 9.078125 -20.796875 \nL 9.078125 54.6875 \nL 18.109375 54.6875 \nL 18.109375 46.390625 \nQ 20.953125 51.265625 25.265625 53.625 \nQ 29.59375 56 35.59375 56 \nQ 45.5625 56 51.78125 48.09375 \nQ 58.015625 40.1875 58.015625 27.296875 \nQ 58.015625 14.40625 51.78125 6.484375 \nQ 45.5625 -1.421875 35.59375 -1.421875 \nQ 29.59375 -1.421875 25.265625 0.953125 \nQ 20.953125 3.328125 18.109375 8.203125 \nz\nM 48.6875 27.296875 \nQ 48.6875 37.203125 44.609375 42.84375 \nQ 40.53125 48.484375 33.40625 48.484375 \nQ 26.265625 48.484375 22.1875 42.84375 \nQ 18.109375 37.203125 18.109375 27.296875 \nQ 18.109375 17.390625 22.1875 11.75 \nQ 26.265625 6.109375 33.40625 6.109375 \nQ 40.53125 6.109375 44.609375 11.75 \nQ 48.6875 17.390625 48.6875 27.296875 \nz\n\" id=\"DejaVuSans-112\"/>\n     <path d=\"M 9.421875 75.984375 \nL 18.40625 75.984375 \nL 18.40625 0 \nL 9.421875 0 \nz\n\" id=\"DejaVuSans-108\"/>\n    </defs>\n    <g style=\"fill:#262626;\" transform=\"translate(120.282031 16.318125)scale(0.12 -0.12)\">\n     <use xlink:href=\"#DejaVuSans-68\"/>\n     <use x=\"77.001953\" xlink:href=\"#DejaVuSans-97\"/>\n     <use x=\"138.28125\" xlink:href=\"#DejaVuSans-116\"/>\n     <use x=\"177.490234\" xlink:href=\"#DejaVuSans-97\"/>\n     <use x=\"238.769531\" xlink:href=\"#DejaVuSans-115\"/>\n     <use x=\"290.869141\" xlink:href=\"#DejaVuSans-101\"/>\n     <use x=\"352.392578\" xlink:href=\"#DejaVuSans-116\"/>\n     <use x=\"391.601562\" xlink:href=\"#DejaVuSans-32\"/>\n     <use x=\"423.388672\" xlink:href=\"#DejaVuSans-115\"/>\n     <use x=\"475.488281\" xlink:href=\"#DejaVuSans-97\"/>\n     <use x=\"536.767578\" xlink:href=\"#DejaVuSans-109\"/>\n     <use x=\"634.179688\" xlink:href=\"#DejaVuSans-112\"/>\n     <use x=\"697.65625\" xlink:href=\"#DejaVuSans-108\"/>\n     <use x=\"725.439453\" xlink:href=\"#DejaVuSans-101\"/>\n     <use x=\"786.962891\" xlink:href=\"#DejaVuSans-115\"/>\n    </g>\n   </g>\n   <g id=\"legend_1\">\n    <g id=\"patch_7\">\n     <path d=\"M 199.891562 148.834063 \nL 274.524844 148.834063 \nQ 276.724844 148.834063 276.724844 146.634063 \nL 276.724844 115.442187 \nQ 276.724844 113.242188 274.524844 113.242188 \nL 199.891562 113.242188 \nQ 197.691562 113.242188 197.691562 115.442187 \nL 197.691562 146.634063 \nQ 197.691562 148.834063 199.891562 148.834063 \nz\n\" style=\"fill:#eaeaf2;opacity:0.8;stroke:#cccccc;stroke-linejoin:miter;\"/>\n    </g>\n    <g id=\"PathCollection_3\">\n     <g>\n      <use style=\"fill:#4c72b0;stroke:#333333;\" x=\"213.091562\" xlink:href=\"#mbde7789bad\" y=\"123.112969\"/>\n     </g>\n    </g>\n    <g id=\"text_15\">\n     <!-- Class 0 -->\n     <defs>\n      <path d=\"M 64.40625 67.28125 \nL 64.40625 56.890625 \nQ 59.421875 61.53125 53.78125 63.8125 \nQ 48.140625 66.109375 41.796875 66.109375 \nQ 29.296875 66.109375 22.65625 58.46875 \nQ 16.015625 50.828125 16.015625 36.375 \nQ 16.015625 21.96875 22.65625 14.328125 \nQ 29.296875 6.6875 41.796875 6.6875 \nQ 48.140625 6.6875 53.78125 8.984375 \nQ 59.421875 11.28125 64.40625 15.921875 \nL 64.40625 5.609375 \nQ 59.234375 2.09375 53.4375 0.328125 \nQ 47.65625 -1.421875 41.21875 -1.421875 \nQ 24.65625 -1.421875 15.125 8.703125 \nQ 5.609375 18.84375 5.609375 36.375 \nQ 5.609375 53.953125 15.125 64.078125 \nQ 24.65625 74.21875 41.21875 74.21875 \nQ 47.75 74.21875 53.53125 72.484375 \nQ 59.328125 70.75 64.40625 67.28125 \nz\n\" id=\"DejaVuSans-67\"/>\n     </defs>\n     <g style=\"fill:#262626;\" transform=\"translate(232.891562 126.000469)scale(0.11 -0.11)\">\n      <use xlink:href=\"#DejaVuSans-67\"/>\n      <use x=\"69.824219\" xlink:href=\"#DejaVuSans-108\"/>\n      <use x=\"97.607422\" xlink:href=\"#DejaVuSans-97\"/>\n      <use x=\"158.886719\" xlink:href=\"#DejaVuSans-115\"/>\n      <use x=\"210.986328\" xlink:href=\"#DejaVuSans-115\"/>\n      <use x=\"263.085938\" xlink:href=\"#DejaVuSans-32\"/>\n      <use x=\"294.873047\" xlink:href=\"#DejaVuSans-48\"/>\n     </g>\n    </g>\n    <g id=\"PathCollection_4\">\n     <g>\n      <use style=\"fill:#dd8452;stroke:#333333;\" x=\"213.091562\" xlink:href=\"#mfb374004cb\" y=\"139.258906\"/>\n     </g>\n    </g>\n    <g id=\"text_16\">\n     <!-- Class 1 -->\n     <g style=\"fill:#262626;\" transform=\"translate(232.891562 142.146406)scale(0.11 -0.11)\">\n      <use xlink:href=\"#DejaVuSans-67\"/>\n      <use x=\"69.824219\" xlink:href=\"#DejaVuSans-108\"/>\n      <use x=\"97.607422\" xlink:href=\"#DejaVuSans-97\"/>\n      <use x=\"158.886719\" xlink:href=\"#DejaVuSans-115\"/>\n      <use x=\"210.986328\" xlink:href=\"#DejaVuSans-115\"/>\n      <use x=\"263.085938\" xlink:href=\"#DejaVuSans-32\"/>\n      <use x=\"294.873047\" xlink:href=\"#DejaVuSans-49\"/>\n     </g>\n    </g>\n   </g>\n  </g>\n </g>\n <defs>\n  <clipPath id=\"p087926bdee\">\n   <rect height=\"217.44\" width=\"223.2\" x=\"59.024844\" y=\"22.318125\"/>\n  </clipPath>\n </defs>\n</svg>\n",
            "application/pdf": "[encoded data removed]"
          },
          "metadata": {}
        }
      ],
      "source": [
        "visualize_samples(dataset.data, dataset.label)\n",
        "plt.show()"
      ]
    },
    {
      "cell_type": "markdown",
      "metadata": {
        "id": "O4fEGMChOlE_"
      },
      "source": [
        "#### The data loader class\n",
        "\n",
        "The class `torch.utils.data.DataLoader` represents a Python iterable over a dataset with support for automatic batching, multi-process data loading and many more features. The data loader communicates with the dataset using the function `__getitem__`, and stacks its outputs as tensors over the first dimension to form a batch.\n",
        "In contrast to the dataset class, we usually don't have to define our own data loader class, but can just create an object of it with the dataset as input. Additionally, we can configure our data loader with the following input arguments (only a selection, see full list [here](https://pytorch.org/docs/stable/data.html#torch.utils.data.DataLoader)):\n",
        "\n",
        "* `batch_size`: Number of samples to stack per batch\n",
        "* `shuffle`: If True, the data is returned in a random order. This is important during training for introducing stochasticity. \n",
        "* `num_workers`: Number of subprocesses to use for data loading. The default, 0, means that the data will be loaded in the main process which can slow down training for datasets where loading a data point takes a considerable amount of time (e.g. large images). More workers are recommended for those, but can cause issues on Windows computers. For tiny datasets as ours, 0 workers are usually faster.\n",
        "* `pin_memory`: If True, the data loader will copy Tensors into CUDA pinned memory before returning them. This can save some time for large data points on GPUs. Usually a good practice to use for a training set, but not necessarily for validation and test to save memory on the GPU.\n",
        "* `drop_last`: If True, the last batch is dropped in case it is smaller than the specified batch size. This occurs when the dataset size is not a multiple of the batch size. Only potentially helpful during training to keep a consistent batch size.\n",
        "\n",
        "Let's create a simple data loader below:"
      ]
    },
    {
      "cell_type": "code",
      "execution_count": 52,
      "metadata": {
        "id": "hG3igzxVOlFA"
      },
      "outputs": [],
      "source": [
        "data_loader = data.DataLoader(dataset, batch_size=8, shuffle=True)"
      ]
    },
    {
      "cell_type": "code",
      "execution_count": 53,
      "metadata": {
        "id": "XpICE8lFOlFA",
        "outputId": "da3270ef-97f5-4e62-941f-0181e907c622",
        "colab": {
          "base_uri": "https://localhost:8080/"
        }
      },
      "outputs": [
        {
          "output_type": "stream",
          "name": "stdout",
          "text": [
            "Data inputs torch.Size([8, 2]) \n",
            " tensor([[ 1.0303,  1.1058],\n",
            "        [ 0.9093, -0.0894],\n",
            "        [ 0.9300,  0.8654],\n",
            "        [ 0.8732, -0.2240],\n",
            "        [ 0.0089,  0.8376],\n",
            "        [-0.0106,  0.0625],\n",
            "        [ 0.9722,  0.1280],\n",
            "        [ 0.9548,  0.9256]])\n",
            "Data labels torch.Size([8]) \n",
            " tensor([0, 1, 0, 1, 1, 0, 1, 0])\n"
          ]
        }
      ],
      "source": [
        "# next(iter(...)) catches the first batch of the data loader\n",
        "# If shuffle is True, this will return a different batch every time we run this cell\n",
        "# For iterating over the whole dataset, we can simple use \"for batch in data_loader: ...\"\n",
        "data_inputs, data_labels = next(iter(data_loader))\n",
        "\n",
        "# The shape of the outputs are [batch_size, d_1,...,d_N] where d_1,...,d_N are the \n",
        "# dimensions of the data point returned from the dataset class\n",
        "print(\"Data inputs\", data_inputs.shape, \"\\n\", data_inputs)\n",
        "print(\"Data labels\", data_labels.shape, \"\\n\", data_labels)"
      ]
    },
    {
      "cell_type": "markdown",
      "metadata": {
        "id": "WrZduxwyOlFA"
      },
      "source": [
        "### Optimization\n",
        "\n",
        "After defining the model and the dataset, it is time to prepare the optimization of the model. During training, we will perform the following steps:\n",
        "\n",
        "1. Get a batch from the data loader\n",
        "2. Obtain the predictions from the model for the batch\n",
        "3. Calculate the loss based on the difference between predictions and labels\n",
        "4. Backpropagation: calculate the gradients for every parameter with respect to the loss\n",
        "5. Update the parameters of the model in the direction of the gradients\n",
        "\n",
        "We have seen how we can do step 1, 2 and 4 in PyTorch. Now, we will look at step 3 and 5."
      ]
    },
    {
      "cell_type": "markdown",
      "metadata": {
        "id": "B8W1Fg_AOlFB"
      },
      "source": [
        "#### Loss modules\n",
        "\n",
        "We can calculate the loss for a batch by simply performing a few tensor operations as those are automatically added to the computation graph. For instance, for binary classification, we can use Binary Cross Entropy (BCE) which is defined as follows:\n",
        "\n",
        "$$\\mathcal{L}_{BCE} = \\sum_i y_i \\log x_i + (1 - y_i) \\log (1 - x_i)$$\n",
        "\n",
        "where $y$ are our labels, and $x$ our predictions, both in the range of $[0,1]$. However, PyTorch already provides a list of predefined loss functions which we can use (see [here](https://pytorch.org/docs/stable/nn.html#loss-functions) for a full list). For instance, for BCE, PyTorch has two modules: `nn.BCELoss()`, `nn.BCEWithLogitsLoss()`. While `nn.BCELoss` expects the inputs $x$ to be in the range $[0,1]$, i.e. the output of a sigmoid, `nn.BCEWithLogitsLoss` combines a sigmoid layer and the BCE loss in a single class. This version is numerically more stable than using a plain Sigmoid followed by a BCE loss because of the logarithms applied in the loss function. Hence, it is adviced to use loss functions applied on \"logits\" where possible (remember to not apply a sigmoid on the output of the model in this case!). For our model defined above, we therefore use the module `nn.BCEWithLogitsLoss`. "
      ]
    },
    {
      "cell_type": "code",
      "execution_count": 54,
      "metadata": {
        "id": "mfr8LmdkOlFB"
      },
      "outputs": [],
      "source": [
        "loss_module = nn.BCEWithLogitsLoss()"
      ]
    },
    {
      "cell_type": "markdown",
      "metadata": {
        "id": "fEb8bhilOlFB"
      },
      "source": [
        "#### Stochastic Gradient Descent\n",
        "\n",
        "For updating the parameters, PyTorch provides the package `torch.optim` that has most popular optimizers implemented. We will discuss the specific optimizers and their differences later in the course, but will for now use the simplest of them: `torch.optim.SGD`. Stochastic Gradient Descent updates parameters by multiplying the gradients with a small constant, called learning rate, and subtracting those from the parameters (hence minimizing the loss). Therefore, we slowly move towards the direction of minimizing the loss. A good default value of the learning rate for a small network as ours is 0.1. "
      ]
    },
    {
      "cell_type": "code",
      "execution_count": 55,
      "metadata": {
        "id": "S3gXQEUUOlFB"
      },
      "outputs": [],
      "source": [
        "# Input to the optimizer are the parameters of the model: model.parameters()\n",
        "optimizer = torch.optim.SGD(model.parameters(), lr=0.1)"
      ]
    },
    {
      "cell_type": "markdown",
      "metadata": {
        "id": "FW2lrn8VOlFB"
      },
      "source": [
        "The optimizer provides two useful functions: `optimizer.step()`, and `optimizer.zero_grad()`. The step function updates the parameters based on the gradients as explained above. The function `optimizer.zero_grad()` sets the gradients of all parameters to zero. While this function seems less relevant at first, it is a crucial pre-step before performing backpropagation. If we would call the `backward` function on the loss while the parameter gradients are non-zero from the previous batch, the new gradients would actually be added to the previous ones instead of overwriting them. This is done because a parameter might occur multiple times in a computation graph, and we need to sum the gradients in this case instead of replacing them. Hence, remember to call `optimizer.zero_grad()` before calculating the gradients of a batch."
      ]
    },
    {
      "cell_type": "markdown",
      "metadata": {
        "id": "sLJYAviJOlFB"
      },
      "source": [
        "### Training\n",
        "\n",
        "Finally, we are ready to train our model. As a first step, we create a slightly larger dataset and specify a data loader with a larger batch size. "
      ]
    },
    {
      "cell_type": "code",
      "execution_count": 56,
      "metadata": {
        "id": "jvlRpoMgOlFC"
      },
      "outputs": [],
      "source": [
        "train_dataset = XORDataset(size=1000)\n",
        "train_data_loader = data.DataLoader(train_dataset, batch_size=128, shuffle=True)"
      ]
    },
    {
      "cell_type": "markdown",
      "metadata": {
        "id": "IUkt7xovOlFC"
      },
      "source": [
        "Now, we can write a small training function. Remember our five steps: load a batch, obtain the predictions, calculate the loss, backpropagate, and update. Additionally, we have to push all data and model parameters to the device of our choice (GPU if available). For the tiny neural network we have, communicating the data to the GPU actually takes much more time than we could save from running the operation on GPU. For large networks, the communication time is significantly smaller than the actual runtime making a GPU crucial in these cases. Still, to practice, we will push the data to GPU here. "
      ]
    },
    {
      "cell_type": "code",
      "execution_count": 57,
      "metadata": {
        "id": "MCYAiLdFOlFC",
        "outputId": "abf8d998-2b86-472d-96cf-50b3a4ad61e8",
        "colab": {
          "base_uri": "https://localhost:8080/"
        }
      },
      "outputs": [
        {
          "output_type": "execute_result",
          "data": {
            "text/plain": [
              "SimpleClassifier(\n",
              "  (linear1): Linear(in_features=2, out_features=4, bias=True)\n",
              "  (linear2): Linear(in_features=4, out_features=1, bias=True)\n",
              "  (act_fn): Tanh()\n",
              ")"
            ]
          },
          "metadata": {},
          "execution_count": 57
        }
      ],
      "source": [
        "# Push model to device. Has to be only done once\n",
        "model.to(device)"
      ]
    },
    {
      "cell_type": "markdown",
      "metadata": {
        "id": "xmO2VhN3OlFC"
      },
      "source": [
        "In addition, we set our model to training mode. This is done by calling `model.train()`. There exist certain modules that need to perform a different forward step during training than during testing (e.g. BatchNorm and Dropout), and we can switch between them using `model.train()` and `model.eval()`."
      ]
    },
    {
      "cell_type": "code",
      "execution_count": 59,
      "metadata": {
        "id": "CNmg0Ts0OlFC"
      },
      "outputs": [],
      "source": [
        "def train_model(model, optimizer, data_loader, loss_module, num_epochs=100):\n",
        "    # Set model to train mode\n",
        "    model.train() \n",
        "    \n",
        "    # Training loop\n",
        "    for epoch in tqdm(range(num_epochs)):\n",
        "        for data_inputs, data_labels in data_loader:\n",
        "            \n",
        "            ## TODO: Step 1 - Move input data to device\n",
        "            data_inputs, data_labels = data_inputs.to(device), data_labels.to(device)\n",
        "            \n",
        "            ## TODO: Step 2 - Run the model on the input data\n",
        "            preds = model(data_inputs)\n",
        "            preds = preds.squeeze(dim=1)\n",
        "            \n",
        "            ## TODO: Step 3 - Calculate the loss using the module loss_module\n",
        "            loss = loss_module(preds, data_labels.float())\n",
        "            \n",
        "            ## TODO: Step 4 - Perform backpropagation\n",
        "            optimizer.zero_grad()\n",
        "            loss.backward()\n",
        "            \n",
        "            ## TODO: Step 5 - Update parameters\n",
        "            optimizer.step()"
      ]
    },
    {
      "cell_type": "code",
      "execution_count": 60,
      "metadata": {
        "id": "-fd7zBneOlFC",
        "outputId": "e2dd1917-e40f-4607-acde-e5f16ae09597",
        "colab": {
          "base_uri": "https://localhost:8080/",
          "height": 49,
          "referenced_widgets": [
            "ed7bc65b6d3e44de9d92dd95c922626e",
            "cf2b653394bc4422b7c5c5eb79527de9",
            "3abfe8288e154c298c9fca55a017df9c",
            "75499603733d4a9381f54e8092c2cbd0",
            "a6421743e6b648a59a15395d90bc6f6c",
            "c6fd8c40c7db482aaf2d11e2a7d67576",
            "23b3d40772d94217bcb792bf76f4fc24",
            "51b14c0588fe43b99a3ed3b82958cdb1",
            "19d6907bde3b4c0496eb6f3252c2305c",
            "4b980ff32d54401c974fb91ab2751af0",
            "7886d7d5e1a3462c9b8949958a1855a0"
          ]
        }
      },
      "outputs": [
        {
          "output_type": "display_data",
          "data": {
            "text/plain": [
              "  0%|          | 0/100 [00:00<?, ?it/s]"
            ],
            "application/vnd.jupyter.widget-view+json": {
              "version_major": 2,
              "version_minor": 0,
              "model_id": "ed7bc65b6d3e44de9d92dd95c922626e"
            }
          },
          "metadata": {}
        }
      ],
      "source": [
        "train_model(model, optimizer, train_data_loader, loss_module)"
      ]
    },
    {
      "cell_type": "markdown",
      "metadata": {
        "id": "roigK3HbOlFD"
      },
      "source": [
        "#### Saving a model\n",
        "\n",
        "After finish training a model, we save the model to disk so that we can load the same weights at a later time. For this, we extract the so-called `state_dict` from the model which contains all learnable parameters. For our simple model, the state dict contains the following entries:"
      ]
    },
    {
      "cell_type": "code",
      "execution_count": 61,
      "metadata": {
        "id": "Kb2t3icgOlFD",
        "outputId": "7e7718cb-e9a6-49cd-f97e-fd1e9d0fecd6",
        "colab": {
          "base_uri": "https://localhost:8080/"
        }
      },
      "outputs": [
        {
          "output_type": "stream",
          "name": "stdout",
          "text": [
            "OrderedDict([('linear1.weight', tensor([[-1.1938, -0.8232],\n",
            "        [ 2.7483, -2.2088],\n",
            "        [-1.4383, -1.2043],\n",
            "        [ 1.5873, -2.2626]])), ('linear1.bias', tensor([-0.2813,  1.0723, -0.0942, -0.6392])), ('linear2.weight', tensor([[-1.2250, -2.9932, -1.7158,  2.8046]])), ('linear2.bias', tensor([0.3300]))])\n"
          ]
        }
      ],
      "source": [
        "state_dict = model.state_dict()\n",
        "print(state_dict)"
      ]
    },
    {
      "cell_type": "markdown",
      "metadata": {
        "id": "gViSP4-1OlFD"
      },
      "source": [
        "To save the state dictionary, we can use `torch.save`:"
      ]
    },
    {
      "cell_type": "code",
      "execution_count": 62,
      "metadata": {
        "id": "LWK5pHcLOlFE"
      },
      "outputs": [],
      "source": [
        "# torch.save(object, filename). For the filename, any extension can be used\n",
        "torch.save(state_dict, \"our_model.tar\")"
      ]
    },
    {
      "cell_type": "markdown",
      "metadata": {
        "id": "wwCQufsYOlFE"
      },
      "source": [
        "To load a model from a state dict, we use the function `torch.load` to load the state dict from the disk, and the module function `load_state_dict` to overwrite our parameters with the new values:"
      ]
    },
    {
      "cell_type": "code",
      "execution_count": 63,
      "metadata": {
        "id": "bPYPlqc2OlFE",
        "outputId": "b0b6231d-6a49-47a8-e0ab-316b53340322",
        "colab": {
          "base_uri": "https://localhost:8080/"
        }
      },
      "outputs": [
        {
          "output_type": "stream",
          "name": "stdout",
          "text": [
            "Original model\n",
            " OrderedDict([('linear1.weight', tensor([[-1.1938, -0.8232],\n",
            "        [ 2.7483, -2.2088],\n",
            "        [-1.4383, -1.2043],\n",
            "        [ 1.5873, -2.2626]])), ('linear1.bias', tensor([-0.2813,  1.0723, -0.0942, -0.6392])), ('linear2.weight', tensor([[-1.2250, -2.9932, -1.7158,  2.8046]])), ('linear2.bias', tensor([0.3300]))])\n",
            "\n",
            "Loaded model\n",
            " OrderedDict([('linear1.weight', tensor([[-1.1938, -0.8232],\n",
            "        [ 2.7483, -2.2088],\n",
            "        [-1.4383, -1.2043],\n",
            "        [ 1.5873, -2.2626]])), ('linear1.bias', tensor([-0.2813,  1.0723, -0.0942, -0.6392])), ('linear2.weight', tensor([[-1.2250, -2.9932, -1.7158,  2.8046]])), ('linear2.bias', tensor([0.3300]))])\n"
          ]
        }
      ],
      "source": [
        "# Load state dict from the disk (make sure it is the same name as above)\n",
        "state_dict = torch.load(\"our_model.tar\")\n",
        "\n",
        "# Create a new model and load the state\n",
        "new_model = SimpleClassifier(num_inputs=2, num_hidden=4, num_outputs=1)\n",
        "new_model.load_state_dict(state_dict)\n",
        "\n",
        "# Verify that the parameters are the same\n",
        "print(\"Original model\\n\", model.state_dict())\n",
        "print(\"\\nLoaded model\\n\", new_model.state_dict())"
      ]
    },
    {
      "cell_type": "markdown",
      "metadata": {
        "id": "QgMFbbYOOlFE"
      },
      "source": [
        "A detailed tutorial on saving and loading models in PyTorch can be found [here](https://pytorch.org/tutorials/beginner/saving_loading_models.html)."
      ]
    },
    {
      "cell_type": "markdown",
      "metadata": {
        "id": "t-KiWeELOlFE"
      },
      "source": [
        "### Evaluation\n",
        "\n",
        "Once we have trained a model, it is time to evaluate it on a held-out test set. As our dataset consist of randomly generated data points, we need to first create a test set with a corresponding data loader."
      ]
    },
    {
      "cell_type": "code",
      "execution_count": 64,
      "metadata": {
        "id": "Pn7W4U6EOlFE"
      },
      "outputs": [],
      "source": [
        "test_dataset = XORDataset(size=500)\n",
        "# drop_last -> Don't drop the last batch although it is smaller than 128\n",
        "test_data_loader = data.DataLoader(test_dataset, batch_size=128, shuffle=False, drop_last=False) "
      ]
    },
    {
      "cell_type": "markdown",
      "metadata": {
        "id": "dqd_kFoSOlFF"
      },
      "source": [
        "As metric, we will use accuracy which is calculated as follows:\n",
        "\n",
        "$$acc = \\frac{\\#\\text{correct predictions}}{\\#\\text{all predictions}} = \\frac{TP+TN}{TP+TN+FP+FN}$$\n",
        "\n",
        "where TP are the true positives, TN true negatives, FP false positives, and FN the fale negatives. \n",
        "\n",
        "When evaluating the model, we don't need to keep track of the computation graph as we don't intend to calculate the gradients. This reduces the required memory and speed up the model. In PyTorch, we can deactivate the computation graph using `with torch.no_grad(): ...`. Remember to additionally set the model to eval mode."
      ]
    },
    {
      "cell_type": "code",
      "execution_count": 65,
      "metadata": {
        "id": "r0hf86UHOlFF"
      },
      "outputs": [],
      "source": [
        "def eval_model(model, data_loader):\n",
        "    model.eval() # Set model to eval mode\n",
        "    true_preds, num_preds = 0., 0.\n",
        "    \n",
        "    with torch.no_grad(): # Deactivate gradients for the following code\n",
        "        for data_inputs, data_labels in data_loader:\n",
        "            \n",
        "            ## TODO: Step 1 - Move data to device\n",
        "            data_inputs, data_labels = data_inputs.to(device), data_labels.to(device)\n",
        "            \n",
        "            ## TODO: Step 2 - Run the model on the input data\n",
        "            preds = model(data_inputs)\n",
        "            preds = preds.squeeze(dim=1)\n",
        "            ## TODO: Step 3 - Determine binary predictions of the model\n",
        "            pred_labels = torch.sigmoid(preds)\n",
        "            pred_labels = (pred_labels>=0.5).long()\n",
        "            \n",
        "            ## TODO: Step 4 - Keep records of predictions for the accuracy metric (true_preds=TP+TN, num_preds=TP+TN+FP+FN)\n",
        "            true_preds += (pred_labels == data_labels).sum()\n",
        "            num_preds += data_labels.shape[0]\n",
        "            \n",
        "    acc = true_preds / num_preds\n",
        "    print(\"Accuracy of the model: %4.2f%%\" % (100.0*acc))"
      ]
    },
    {
      "cell_type": "code",
      "execution_count": 66,
      "metadata": {
        "id": "t7MoHcCvOlFF",
        "outputId": "537b7deb-547f-4bb3-8f17-51660298cdd5",
        "colab": {
          "base_uri": "https://localhost:8080/"
        }
      },
      "outputs": [
        {
          "output_type": "stream",
          "name": "stdout",
          "text": [
            "Accuracy of the model: 99.80%\n"
          ]
        }
      ],
      "source": [
        "eval_model(model, test_data_loader)"
      ]
    },
    {
      "cell_type": "markdown",
      "metadata": {
        "id": "Js04LIC4OlFF"
      },
      "source": [
        "If we trained our model correctly, we should see a score close to 100% accuracy. However, this is only possible because of our simple task, and unfortunately, we usually don't get such high scores on test sets of more complex tasks."
      ]
    },
    {
      "cell_type": "markdown",
      "metadata": {
        "id": "IOCIS8KpOlFF"
      },
      "source": [
        "#### Visualizing classification boundaries\n",
        "\n",
        "To visualize what our model has learned, we can perform a prediction for every data point in a range of $[-0.5, 1.5]$, and visualize the predicted class as in the sample figure at the beginning of this section. This shows where the model has created decision boundaries, and which points would be classified as $0$, and which as $1$. We therefore get a background image out of blue (class 0) and orange (class 1). The spots where the model is uncertain we will see a blurry overlap. The specific code is less relevant compared to the output figure which should hopefully show us a clear separation of classes:"
      ]
    },
    {
      "cell_type": "code",
      "execution_count": 67,
      "metadata": {
        "id": "4WKqdMzrOlFG",
        "outputId": "3cebc3b5-98d9-4e3e-8a66-293a97ba1125",
        "colab": {
          "base_uri": "https://localhost:8080/",
          "height": 454
        }
      },
      "outputs": [
        {
          "output_type": "stream",
          "name": "stderr",
          "text": [
            "/usr/local/lib/python3.7/dist-packages/torch/functional.py:478: UserWarning: torch.meshgrid: in an upcoming release, it will be required to pass the indexing argument. (Triggered internally at  ../aten/src/ATen/native/TensorShape.cpp:2894.)\n",
            "  return _VF.meshgrid(tensors, **kwargs)  # type: ignore[attr-defined]\n"
          ]
        },
        {
          "output_type": "display_data",
          "data": {
            "text/plain": [
              "<Figure size 288x288 with 1 Axes>"
            ],
            "image/svg+xml": "<?xml version=\"1.0\" encoding=\"utf-8\" standalone=\"no\"?>\n<!DOCTYPE svg PUBLIC \"-//W3C//DTD SVG 1.1//EN\"\n  \"http://www.w3.org/Graphics/SVG/1.1/DTD/svg11.dtd\">\n<!-- Created with matplotlib (https://matplotlib.org/) -->\n<svg height=\"282.717813pt\" version=\"1.1\" viewBox=\"0 0 299.410312 282.717813\" width=\"299.410312pt\" xmlns=\"http://www.w3.org/2000/svg\" xmlns:xlink=\"http://www.w3.org/1999/xlink\">\n <defs>\n  <style type=\"text/css\">\n*{stroke-linecap:butt;stroke-linejoin:round;}\n  </style>\n </defs>\n <g id=\"figure_1\">\n  <g id=\"patch_1\">\n   <path d=\"M 0 282.717813 \nL 299.410312 282.717813 \nL 299.410312 0 \nL 0 0 \nz\n\" style=\"fill:#ffffff;\"/>\n  </g>\n  <g id=\"axes_1\">\n   <g id=\"patch_2\">\n    <path d=\"M 66.023594 239.758125 \nL 283.463594 239.758125 \nL 283.463594 22.318125 \nL 66.023594 22.318125 \nz\n\" style=\"fill:#eaeaf2;\"/>\n   </g>\n   <g clip-path=\"url(#pf6ac980fc2)\">\n    <image height=\"218\" id=\"imagef02c79570b\" transform=\"scale(1 -1)translate(0 -218)\" width=\"218\" x=\"66.023594\" xlink:href=\"data:image/png;base64,\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\" y=\"-21.758125\"/>\n   </g>\n   <g id=\"matplotlib.axis_1\">\n    <g id=\"xtick_1\">\n     <g id=\"text_1\">\n      <!-- −0.5 -->\n      <defs>\n       <path d=\"M 10.59375 35.5 \nL 73.1875 35.5 \nL 73.1875 27.203125 \nL 10.59375 27.203125 \nz\n\" id=\"DejaVuSans-8722\"/>\n       <path d=\"M 31.78125 66.40625 \nQ 24.171875 66.40625 20.328125 58.90625 \nQ 16.5 51.421875 16.5 36.375 \nQ 16.5 21.390625 20.328125 13.890625 \nQ 24.171875 6.390625 31.78125 6.390625 \nQ 39.453125 6.390625 43.28125 13.890625 \nQ 47.125 21.390625 47.125 36.375 \nQ 47.125 51.421875 43.28125 58.90625 \nQ 39.453125 66.40625 31.78125 66.40625 \nz\nM 31.78125 74.21875 \nQ 44.046875 74.21875 50.515625 64.515625 \nQ 56.984375 54.828125 56.984375 36.375 \nQ 56.984375 17.96875 50.515625 8.265625 \nQ 44.046875 -1.421875 31.78125 -1.421875 \nQ 19.53125 -1.421875 13.0625 8.265625 \nQ 6.59375 17.96875 6.59375 36.375 \nQ 6.59375 54.828125 13.0625 64.515625 \nQ 19.53125 74.21875 31.78125 74.21875 \nz\n\" id=\"DejaVuSans-48\"/>\n       <path d=\"M 10.6875 12.40625 \nL 21 12.40625 \nL 21 0 \nL 10.6875 0 \nz\n\" id=\"DejaVuSans-46\"/>\n       <path d=\"M 10.796875 72.90625 \nL 49.515625 72.90625 \nL 49.515625 64.59375 \nL 19.828125 64.59375 \nL 19.828125 46.734375 \nQ 21.96875 47.46875 24.109375 47.828125 \nQ 26.265625 48.1875 28.421875 48.1875 \nQ 40.625 48.1875 47.75 41.5 \nQ 54.890625 34.8125 54.890625 23.390625 \nQ 54.890625 11.625 47.5625 5.09375 \nQ 40.234375 -1.421875 26.90625 -1.421875 \nQ 22.3125 -1.421875 17.546875 -0.640625 \nQ 12.796875 0.140625 7.71875 1.703125 \nL 7.71875 11.625 \nQ 12.109375 9.234375 16.796875 8.0625 \nQ 21.484375 6.890625 26.703125 6.890625 \nQ 35.15625 6.890625 40.078125 11.328125 \nQ 45.015625 15.765625 45.015625 23.390625 \nQ 45.015625 31 40.078125 35.4375 \nQ 35.15625 39.890625 26.703125 39.890625 \nQ 22.75 39.890625 18.8125 39.015625 \nQ 14.890625 38.140625 10.796875 36.28125 \nz\n\" id=\"DejaVuSans-53\"/>\n      </defs>\n      <g style=\"fill:#262626;\" transform=\"translate(52.668047 257.616406)scale(0.11 -0.11)\">\n       <use xlink:href=\"#DejaVuSans-8722\"/>\n       <use x=\"83.789062\" xlink:href=\"#DejaVuSans-48\"/>\n       <use x=\"147.412109\" xlink:href=\"#DejaVuSans-46\"/>\n       <use x=\"179.199219\" xlink:href=\"#DejaVuSans-53\"/>\n      </g>\n     </g>\n    </g>\n    <g id=\"xtick_2\">\n     <g id=\"text_2\">\n      <!-- 0.0 -->\n      <g style=\"fill:#262626;\" transform=\"translate(111.636875 257.616406)scale(0.11 -0.11)\">\n       <use xlink:href=\"#DejaVuSans-48\"/>\n       <use x=\"63.623047\" xlink:href=\"#DejaVuSans-46\"/>\n       <use x=\"95.410156\" xlink:href=\"#DejaVuSans-48\"/>\n      </g>\n     </g>\n    </g>\n    <g id=\"xtick_3\">\n     <g id=\"text_3\">\n      <!-- 0.5 -->\n      <g style=\"fill:#262626;\" transform=\"translate(165.996875 257.616406)scale(0.11 -0.11)\">\n       <use xlink:href=\"#DejaVuSans-48\"/>\n       <use x=\"63.623047\" xlink:href=\"#DejaVuSans-46\"/>\n       <use x=\"95.410156\" xlink:href=\"#DejaVuSans-53\"/>\n      </g>\n     </g>\n    </g>\n    <g id=\"xtick_4\">\n     <g id=\"text_4\">\n      <!-- 1.0 -->\n      <defs>\n       <path d=\"M 12.40625 8.296875 \nL 28.515625 8.296875 \nL 28.515625 63.921875 \nL 10.984375 60.40625 \nL 10.984375 69.390625 \nL 28.421875 72.90625 \nL 38.28125 72.90625 \nL 38.28125 8.296875 \nL 54.390625 8.296875 \nL 54.390625 0 \nL 12.40625 0 \nz\n\" id=\"DejaVuSans-49\"/>\n      </defs>\n      <g style=\"fill:#262626;\" transform=\"translate(220.356875 257.616406)scale(0.11 -0.11)\">\n       <use xlink:href=\"#DejaVuSans-49\"/>\n       <use x=\"63.623047\" xlink:href=\"#DejaVuSans-46\"/>\n       <use x=\"95.410156\" xlink:href=\"#DejaVuSans-48\"/>\n      </g>\n     </g>\n    </g>\n    <g id=\"xtick_5\">\n     <g id=\"text_5\">\n      <!-- 1.5 -->\n      <g style=\"fill:#262626;\" transform=\"translate(274.716875 257.616406)scale(0.11 -0.11)\">\n       <use xlink:href=\"#DejaVuSans-49\"/>\n       <use x=\"63.623047\" xlink:href=\"#DejaVuSans-46\"/>\n       <use x=\"95.410156\" xlink:href=\"#DejaVuSans-53\"/>\n      </g>\n     </g>\n    </g>\n    <g id=\"text_6\">\n     <!-- $x_1$ -->\n     <defs>\n      <path d=\"M 60.015625 54.6875 \nL 34.90625 27.875 \nL 50.296875 0 \nL 39.984375 0 \nL 28.421875 21.6875 \nL 8.296875 0 \nL -2.59375 0 \nL 24.3125 28.8125 \nL 10.015625 54.6875 \nL 20.3125 54.6875 \nL 30.8125 34.90625 \nL 49.125 54.6875 \nz\n\" id=\"DejaVuSans-Oblique-120\"/>\n     </defs>\n     <g style=\"fill:#262626;\" transform=\"translate(168.323594 273.022188)scale(0.12 -0.12)\">\n      <use transform=\"translate(0 0.3125)\" xlink:href=\"#DejaVuSans-Oblique-120\"/>\n      <use transform=\"translate(59.179688 -16.09375)scale(0.7)\" xlink:href=\"#DejaVuSans-49\"/>\n     </g>\n    </g>\n   </g>\n   <g id=\"matplotlib.axis_2\">\n    <g id=\"ytick_1\">\n     <g id=\"text_7\">\n      <!-- −0.50 -->\n      <g style=\"fill:#262626;\" transform=\"translate(22.81375 243.937266)scale(0.11 -0.11)\">\n       <use xlink:href=\"#DejaVuSans-8722\"/>\n       <use x=\"83.789062\" xlink:href=\"#DejaVuSans-48\"/>\n       <use x=\"147.412109\" xlink:href=\"#DejaVuSans-46\"/>\n       <use x=\"179.199219\" xlink:href=\"#DejaVuSans-53\"/>\n       <use x=\"242.822266\" xlink:href=\"#DejaVuSans-48\"/>\n      </g>\n     </g>\n    </g>\n    <g id=\"ytick_2\">\n     <g id=\"text_8\">\n      <!-- −0.25 -->\n      <defs>\n       <path d=\"M 19.1875 8.296875 \nL 53.609375 8.296875 \nL 53.609375 0 \nL 7.328125 0 \nL 7.328125 8.296875 \nQ 12.9375 14.109375 22.625 23.890625 \nQ 32.328125 33.6875 34.8125 36.53125 \nQ 39.546875 41.84375 41.421875 45.53125 \nQ 43.3125 49.21875 43.3125 52.78125 \nQ 43.3125 58.59375 39.234375 62.25 \nQ 35.15625 65.921875 28.609375 65.921875 \nQ 23.96875 65.921875 18.8125 64.3125 \nQ 13.671875 62.703125 7.8125 59.421875 \nL 7.8125 69.390625 \nQ 13.765625 71.78125 18.9375 73 \nQ 24.125 74.21875 28.421875 74.21875 \nQ 39.75 74.21875 46.484375 68.546875 \nQ 53.21875 62.890625 53.21875 53.421875 \nQ 53.21875 48.921875 51.53125 44.890625 \nQ 49.859375 40.875 45.40625 35.40625 \nQ 44.1875 33.984375 37.640625 27.21875 \nQ 31.109375 20.453125 19.1875 8.296875 \nz\n\" id=\"DejaVuSans-50\"/>\n      </defs>\n      <g style=\"fill:#262626;\" transform=\"translate(22.81375 216.757266)scale(0.11 -0.11)\">\n       <use xlink:href=\"#DejaVuSans-8722\"/>\n       <use x=\"83.789062\" xlink:href=\"#DejaVuSans-48\"/>\n       <use x=\"147.412109\" xlink:href=\"#DejaVuSans-46\"/>\n       <use x=\"179.199219\" xlink:href=\"#DejaVuSans-50\"/>\n       <use x=\"242.822266\" xlink:href=\"#DejaVuSans-53\"/>\n      </g>\n     </g>\n    </g>\n    <g id=\"ytick_3\">\n     <g id=\"text_9\">\n      <!-- 0.00 -->\n      <g style=\"fill:#262626;\" transform=\"translate(32.031406 189.577266)scale(0.11 -0.11)\">\n       <use xlink:href=\"#DejaVuSans-48\"/>\n       <use x=\"63.623047\" xlink:href=\"#DejaVuSans-46\"/>\n       <use x=\"95.410156\" xlink:href=\"#DejaVuSans-48\"/>\n       <use x=\"159.033203\" xlink:href=\"#DejaVuSans-48\"/>\n      </g>\n     </g>\n    </g>\n    <g id=\"ytick_4\">\n     <g id=\"text_10\">\n      <!-- 0.25 -->\n      <g style=\"fill:#262626;\" transform=\"translate(32.031406 162.397266)scale(0.11 -0.11)\">\n       <use xlink:href=\"#DejaVuSans-48\"/>\n       <use x=\"63.623047\" xlink:href=\"#DejaVuSans-46\"/>\n       <use x=\"95.410156\" xlink:href=\"#DejaVuSans-50\"/>\n       <use x=\"159.033203\" xlink:href=\"#DejaVuSans-53\"/>\n      </g>\n     </g>\n    </g>\n    <g id=\"ytick_5\">\n     <g id=\"text_11\">\n      <!-- 0.50 -->\n      <g style=\"fill:#262626;\" transform=\"translate(32.031406 135.217266)scale(0.11 -0.11)\">\n       <use xlink:href=\"#DejaVuSans-48\"/>\n       <use x=\"63.623047\" xlink:href=\"#DejaVuSans-46\"/>\n       <use x=\"95.410156\" xlink:href=\"#DejaVuSans-53\"/>\n       <use x=\"159.033203\" xlink:href=\"#DejaVuSans-48\"/>\n      </g>\n     </g>\n    </g>\n    <g id=\"ytick_6\">\n     <g id=\"text_12\">\n      <!-- 0.75 -->\n      <defs>\n       <path d=\"M 8.203125 72.90625 \nL 55.078125 72.90625 \nL 55.078125 68.703125 \nL 28.609375 0 \nL 18.3125 0 \nL 43.21875 64.59375 \nL 8.203125 64.59375 \nz\n\" id=\"DejaVuSans-55\"/>\n      </defs>\n      <g style=\"fill:#262626;\" transform=\"translate(32.031406 108.037266)scale(0.11 -0.11)\">\n       <use xlink:href=\"#DejaVuSans-48\"/>\n       <use x=\"63.623047\" xlink:href=\"#DejaVuSans-46\"/>\n       <use x=\"95.410156\" xlink:href=\"#DejaVuSans-55\"/>\n       <use x=\"159.033203\" xlink:href=\"#DejaVuSans-53\"/>\n      </g>\n     </g>\n    </g>\n    <g id=\"ytick_7\">\n     <g id=\"text_13\">\n      <!-- 1.00 -->\n      <g style=\"fill:#262626;\" transform=\"translate(32.031406 80.857266)scale(0.11 -0.11)\">\n       <use xlink:href=\"#DejaVuSans-49\"/>\n       <use x=\"63.623047\" xlink:href=\"#DejaVuSans-46\"/>\n       <use x=\"95.410156\" xlink:href=\"#DejaVuSans-48\"/>\n       <use x=\"159.033203\" xlink:href=\"#DejaVuSans-48\"/>\n      </g>\n     </g>\n    </g>\n    <g id=\"ytick_8\">\n     <g id=\"text_14\">\n      <!-- 1.25 -->\n      <g style=\"fill:#262626;\" transform=\"translate(32.031406 53.677266)scale(0.11 -0.11)\">\n       <use xlink:href=\"#DejaVuSans-49\"/>\n       <use x=\"63.623047\" xlink:href=\"#DejaVuSans-46\"/>\n       <use x=\"95.410156\" xlink:href=\"#DejaVuSans-50\"/>\n       <use x=\"159.033203\" xlink:href=\"#DejaVuSans-53\"/>\n      </g>\n     </g>\n    </g>\n    <g id=\"ytick_9\">\n     <g id=\"text_15\">\n      <!-- 1.50 -->\n      <g style=\"fill:#262626;\" transform=\"translate(32.031406 26.497266)scale(0.11 -0.11)\">\n       <use xlink:href=\"#DejaVuSans-49\"/>\n       <use x=\"63.623047\" xlink:href=\"#DejaVuSans-46\"/>\n       <use x=\"95.410156\" xlink:href=\"#DejaVuSans-53\"/>\n       <use x=\"159.033203\" xlink:href=\"#DejaVuSans-48\"/>\n      </g>\n     </g>\n    </g>\n    <g id=\"text_16\">\n     <!-- $x_2$ -->\n     <g style=\"fill:#262626;\" transform=\"translate(16.318125 137.458125)rotate(-90)scale(0.12 -0.12)\">\n      <use transform=\"translate(0 0.3125)\" xlink:href=\"#DejaVuSans-Oblique-120\"/>\n      <use transform=\"translate(59.179688 -16.09375)scale(0.7)\" xlink:href=\"#DejaVuSans-50\"/>\n     </g>\n    </g>\n   </g>\n   <g id=\"PathCollection_1\">\n    <defs>\n     <path d=\"M 0 3 \nC 0.795609 3 1.55874 2.683901 2.12132 2.12132 \nC 2.683901 1.55874 3 0.795609 3 0 \nC 3 -0.795609 2.683901 -1.55874 2.12132 -2.12132 \nC 1.55874 -2.683901 0.795609 -3 0 -3 \nC -0.795609 -3 -1.55874 -2.683901 -2.12132 -2.12132 \nC -2.683901 -1.55874 -3 -0.795609 -3 0 \nC -3 0.795609 -2.683901 1.55874 -2.12132 2.12132 \nC -1.55874 2.683901 -0.795609 3 0 3 \nz\n\" id=\"m4e63d32d16\" style=\"stroke:#333333;\"/>\n    </defs>\n    <g clip-path=\"url(#pf6ac980fc2)\">\n     <use style=\"fill:#4c72b0;stroke:#333333;\" x=\"244.288168\" xlink:href=\"#m4e63d32d16\" y=\"64.932576\"/>\n     <use style=\"fill:#4c72b0;stroke:#333333;\" x=\"247.133981\" xlink:href=\"#m4e63d32d16\" y=\"80.994397\"/>\n     <use style=\"fill:#4c72b0;stroke:#333333;\" x=\"129.508171\" xlink:href=\"#m4e63d32d16\" y=\"191.757377\"/>\n     <use style=\"fill:#4c72b0;stroke:#333333;\" x=\"123.560838\" xlink:href=\"#m4e63d32d16\" y=\"192.256288\"/>\n     <use style=\"fill:#4c72b0;stroke:#333333;\" x=\"142.624682\" xlink:href=\"#m4e63d32d16\" y=\"191.461879\"/>\n     <use style=\"fill:#4c72b0;stroke:#333333;\" x=\"233.602666\" xlink:href=\"#m4e63d32d16\" y=\"73.488031\"/>\n     <use style=\"fill:#4c72b0;stroke:#333333;\" x=\"235.03885\" xlink:href=\"#m4e63d32d16\" y=\"83.076244\"/>\n     <use style=\"fill:#4c72b0;stroke:#333333;\" x=\"121.35797\" xlink:href=\"#m4e63d32d16\" y=\"172.962515\"/>\n     <use style=\"fill:#4c72b0;stroke:#333333;\" x=\"238.103889\" xlink:href=\"#m4e63d32d16\" y=\"66.988516\"/>\n     <use style=\"fill:#4c72b0;stroke:#333333;\" x=\"127.57178\" xlink:href=\"#m4e63d32d16\" y=\"179.600091\"/>\n     <use style=\"fill:#4c72b0;stroke:#333333;\" x=\"244.449888\" xlink:href=\"#m4e63d32d16\" y=\"56.122229\"/>\n     <use style=\"fill:#4c72b0;stroke:#333333;\" x=\"232.047271\" xlink:href=\"#m4e63d32d16\" y=\"69.661307\"/>\n     <use style=\"fill:#4c72b0;stroke:#333333;\" x=\"226.120069\" xlink:href=\"#m4e63d32d16\" y=\"76.248163\"/>\n     <use style=\"fill:#4c72b0;stroke:#333333;\" x=\"123.833705\" xlink:href=\"#m4e63d32d16\" y=\"187.219565\"/>\n     <use style=\"fill:#4c72b0;stroke:#333333;\" x=\"114.081258\" xlink:href=\"#m4e63d32d16\" y=\"176.499583\"/>\n     <use style=\"fill:#4c72b0;stroke:#333333;\" x=\"224.630598\" xlink:href=\"#m4e63d32d16\" y=\"69.447901\"/>\n     <use style=\"fill:#4c72b0;stroke:#333333;\" x=\"231.632848\" xlink:href=\"#m4e63d32d16\" y=\"67.295665\"/>\n     <use style=\"fill:#4c72b0;stroke:#333333;\" x=\"221.491004\" xlink:href=\"#m4e63d32d16\" y=\"91.313883\"/>\n     <use style=\"fill:#4c72b0;stroke:#333333;\" x=\"108.430696\" xlink:href=\"#m4e63d32d16\" y=\"195.532199\"/>\n     <use style=\"fill:#4c72b0;stroke:#333333;\" x=\"219.711951\" xlink:href=\"#m4e63d32d16\" y=\"80.693877\"/>\n     <use style=\"fill:#4c72b0;stroke:#333333;\" x=\"236.294807\" xlink:href=\"#m4e63d32d16\" y=\"77.981996\"/>\n     <use style=\"fill:#4c72b0;stroke:#333333;\" x=\"117.850649\" xlink:href=\"#m4e63d32d16\" y=\"192.714151\"/>\n     <use style=\"fill:#4c72b0;stroke:#333333;\" x=\"234.357248\" xlink:href=\"#m4e63d32d16\" y=\"80.992511\"/>\n     <use style=\"fill:#4c72b0;stroke:#333333;\" x=\"119.562017\" xlink:href=\"#m4e63d32d16\" y=\"187.080674\"/>\n     <use style=\"fill:#4c72b0;stroke:#333333;\" x=\"214.622914\" xlink:href=\"#m4e63d32d16\" y=\"76.155625\"/>\n     <use style=\"fill:#4c72b0;stroke:#333333;\" x=\"112.238888\" xlink:href=\"#m4e63d32d16\" y=\"172.132264\"/>\n     <use style=\"fill:#4c72b0;stroke:#333333;\" x=\"221.482314\" xlink:href=\"#m4e63d32d16\" y=\"84.175762\"/>\n     <use style=\"fill:#4c72b0;stroke:#333333;\" x=\"237.270961\" xlink:href=\"#m4e63d32d16\" y=\"79.208287\"/>\n     <use style=\"fill:#4c72b0;stroke:#333333;\" x=\"232.398097\" xlink:href=\"#m4e63d32d16\" y=\"65.173809\"/>\n     <use style=\"fill:#4c72b0;stroke:#333333;\" x=\"125.046724\" xlink:href=\"#m4e63d32d16\" y=\"167.282529\"/>\n     <use style=\"fill:#4c72b0;stroke:#333333;\" x=\"119.857776\" xlink:href=\"#m4e63d32d16\" y=\"180.467799\"/>\n     <use style=\"fill:#4c72b0;stroke:#333333;\" x=\"112.614408\" xlink:href=\"#m4e63d32d16\" y=\"164.360655\"/>\n     <use style=\"fill:#4c72b0;stroke:#333333;\" x=\"131.104022\" xlink:href=\"#m4e63d32d16\" y=\"208.013344\"/>\n     <use style=\"fill:#4c72b0;stroke:#333333;\" x=\"125.100182\" xlink:href=\"#m4e63d32d16\" y=\"196.54739\"/>\n     <use style=\"fill:#4c72b0;stroke:#333333;\" x=\"117.33798\" xlink:href=\"#m4e63d32d16\" y=\"184.898956\"/>\n     <use style=\"fill:#4c72b0;stroke:#333333;\" x=\"132.681917\" xlink:href=\"#m4e63d32d16\" y=\"197.902563\"/>\n     <use style=\"fill:#4c72b0;stroke:#333333;\" x=\"224.189606\" xlink:href=\"#m4e63d32d16\" y=\"84.772214\"/>\n     <use style=\"fill:#4c72b0;stroke:#333333;\" x=\"225.991301\" xlink:href=\"#m4e63d32d16\" y=\"75.359751\"/>\n     <use style=\"fill:#4c72b0;stroke:#333333;\" x=\"230.848535\" xlink:href=\"#m4e63d32d16\" y=\"80.978112\"/>\n     <use style=\"fill:#4c72b0;stroke:#333333;\" x=\"117.29724\" xlink:href=\"#m4e63d32d16\" y=\"192.545811\"/>\n     <use style=\"fill:#4c72b0;stroke:#333333;\" x=\"218.694842\" xlink:href=\"#m4e63d32d16\" y=\"100.930901\"/>\n     <use style=\"fill:#4c72b0;stroke:#333333;\" x=\"229.049925\" xlink:href=\"#m4e63d32d16\" y=\"80.27635\"/>\n     <use style=\"fill:#4c72b0;stroke:#333333;\" x=\"131.169602\" xlink:href=\"#m4e63d32d16\" y=\"200.622622\"/>\n     <use style=\"fill:#4c72b0;stroke:#333333;\" x=\"130.837184\" xlink:href=\"#m4e63d32d16\" y=\"202.207751\"/>\n     <use style=\"fill:#4c72b0;stroke:#333333;\" x=\"114.414151\" xlink:href=\"#m4e63d32d16\" y=\"197.22292\"/>\n     <use style=\"fill:#4c72b0;stroke:#333333;\" x=\"223.973336\" xlink:href=\"#m4e63d32d16\" y=\"87.364405\"/>\n     <use style=\"fill:#4c72b0;stroke:#333333;\" x=\"214.314041\" xlink:href=\"#m4e63d32d16\" y=\"65.697345\"/>\n     <use style=\"fill:#4c72b0;stroke:#333333;\" x=\"95.406441\" xlink:href=\"#m4e63d32d16\" y=\"195.589406\"/>\n     <use style=\"fill:#4c72b0;stroke:#333333;\" x=\"219.355909\" xlink:href=\"#m4e63d32d16\" y=\"85.869827\"/>\n     <use style=\"fill:#4c72b0;stroke:#333333;\" x=\"138.074466\" xlink:href=\"#m4e63d32d16\" y=\"196.736991\"/>\n     <use style=\"fill:#4c72b0;stroke:#333333;\" x=\"234.057486\" xlink:href=\"#m4e63d32d16\" y=\"57.230812\"/>\n     <use style=\"fill:#4c72b0;stroke:#333333;\" x=\"118.733434\" xlink:href=\"#m4e63d32d16\" y=\"179.431408\"/>\n     <use style=\"fill:#4c72b0;stroke:#333333;\" x=\"240.461781\" xlink:href=\"#m4e63d32d16\" y=\"94.929118\"/>\n     <use style=\"fill:#4c72b0;stroke:#333333;\" x=\"237.748748\" xlink:href=\"#m4e63d32d16\" y=\"67.348479\"/>\n     <use style=\"fill:#4c72b0;stroke:#333333;\" x=\"107.784408\" xlink:href=\"#m4e63d32d16\" y=\"169.001559\"/>\n     <use style=\"fill:#4c72b0;stroke:#333333;\" x=\"214.217362\" xlink:href=\"#m4e63d32d16\" y=\"67.932904\"/>\n     <use style=\"fill:#4c72b0;stroke:#333333;\" x=\"218.776389\" xlink:href=\"#m4e63d32d16\" y=\"56.425969\"/>\n     <use style=\"fill:#4c72b0;stroke:#333333;\" x=\"125.706824\" xlink:href=\"#m4e63d32d16\" y=\"192.29122\"/>\n     <use style=\"fill:#4c72b0;stroke:#333333;\" x=\"107.059322\" xlink:href=\"#m4e63d32d16\" y=\"188.412774\"/>\n     <use style=\"fill:#4c72b0;stroke:#333333;\" x=\"117.869736\" xlink:href=\"#m4e63d32d16\" y=\"188.183661\"/>\n     <use style=\"fill:#4c72b0;stroke:#333333;\" x=\"103.652181\" xlink:href=\"#m4e63d32d16\" y=\"188.29022\"/>\n     <use style=\"fill:#4c72b0;stroke:#333333;\" x=\"249.158362\" xlink:href=\"#m4e63d32d16\" y=\"82.547711\"/>\n     <use style=\"fill:#4c72b0;stroke:#333333;\" x=\"244.634147\" xlink:href=\"#m4e63d32d16\" y=\"73.870403\"/>\n     <use style=\"fill:#4c72b0;stroke:#333333;\" x=\"242.8908\" xlink:href=\"#m4e63d32d16\" y=\"62.012163\"/>\n     <use style=\"fill:#4c72b0;stroke:#333333;\" x=\"111.1544\" xlink:href=\"#m4e63d32d16\" y=\"199.077204\"/>\n     <use style=\"fill:#4c72b0;stroke:#333333;\" x=\"224.574842\" xlink:href=\"#m4e63d32d16\" y=\"77.166072\"/>\n     <use style=\"fill:#4c72b0;stroke:#333333;\" x=\"221.577217\" xlink:href=\"#m4e63d32d16\" y=\"77.510023\"/>\n     <use style=\"fill:#4c72b0;stroke:#333333;\" x=\"108.848017\" xlink:href=\"#m4e63d32d16\" y=\"205.466283\"/>\n     <use style=\"fill:#4c72b0;stroke:#333333;\" x=\"129.34932\" xlink:href=\"#m4e63d32d16\" y=\"193.853222\"/>\n     <use style=\"fill:#4c72b0;stroke:#333333;\" x=\"101.856337\" xlink:href=\"#m4e63d32d16\" y=\"191.53198\"/>\n     <use style=\"fill:#4c72b0;stroke:#333333;\" x=\"119.232936\" xlink:href=\"#m4e63d32d16\" y=\"178.6056\"/>\n     <use style=\"fill:#4c72b0;stroke:#333333;\" x=\"231.872798\" xlink:href=\"#m4e63d32d16\" y=\"73.188217\"/>\n     <use style=\"fill:#4c72b0;stroke:#333333;\" x=\"222.04492\" xlink:href=\"#m4e63d32d16\" y=\"100.191683\"/>\n     <use style=\"fill:#4c72b0;stroke:#333333;\" x=\"118.537332\" xlink:href=\"#m4e63d32d16\" y=\"184.756952\"/>\n     <use style=\"fill:#4c72b0;stroke:#333333;\" x=\"145.194551\" xlink:href=\"#m4e63d32d16\" y=\"193.997546\"/>\n     <use style=\"fill:#4c72b0;stroke:#333333;\" x=\"129.237429\" xlink:href=\"#m4e63d32d16\" y=\"183.651319\"/>\n     <use style=\"fill:#4c72b0;stroke:#333333;\" x=\"231.651809\" xlink:href=\"#m4e63d32d16\" y=\"60.366512\"/>\n     <use style=\"fill:#4c72b0;stroke:#333333;\" x=\"232.07778\" xlink:href=\"#m4e63d32d16\" y=\"82.505104\"/>\n     <use style=\"fill:#4c72b0;stroke:#333333;\" x=\"120.165842\" xlink:href=\"#m4e63d32d16\" y=\"194.670616\"/>\n     <use style=\"fill:#4c72b0;stroke:#333333;\" x=\"222.662375\" xlink:href=\"#m4e63d32d16\" y=\"79.225323\"/>\n     <use style=\"fill:#4c72b0;stroke:#333333;\" x=\"205.206731\" xlink:href=\"#m4e63d32d16\" y=\"91.214107\"/>\n     <use style=\"fill:#4c72b0;stroke:#333333;\" x=\"230.210959\" xlink:href=\"#m4e63d32d16\" y=\"78.286398\"/>\n     <use style=\"fill:#4c72b0;stroke:#333333;\" x=\"113.452012\" xlink:href=\"#m4e63d32d16\" y=\"182.733923\"/>\n     <use style=\"fill:#4c72b0;stroke:#333333;\" x=\"234.334866\" xlink:href=\"#m4e63d32d16\" y=\"70.940696\"/>\n     <use style=\"fill:#4c72b0;stroke:#333333;\" x=\"121.374115\" xlink:href=\"#m4e63d32d16\" y=\"198.141743\"/>\n     <use style=\"fill:#4c72b0;stroke:#333333;\" x=\"127.654237\" xlink:href=\"#m4e63d32d16\" y=\"200.01239\"/>\n     <use style=\"fill:#4c72b0;stroke:#333333;\" x=\"137.615048\" xlink:href=\"#m4e63d32d16\" y=\"189.612325\"/>\n     <use style=\"fill:#4c72b0;stroke:#333333;\" x=\"210.95062\" xlink:href=\"#m4e63d32d16\" y=\"73.166107\"/>\n     <use style=\"fill:#4c72b0;stroke:#333333;\" x=\"220.631799\" xlink:href=\"#m4e63d32d16\" y=\"68.440188\"/>\n     <use style=\"fill:#4c72b0;stroke:#333333;\" x=\"226.741736\" xlink:href=\"#m4e63d32d16\" y=\"77.184658\"/>\n     <use style=\"fill:#4c72b0;stroke:#333333;\" x=\"112.31741\" xlink:href=\"#m4e63d32d16\" y=\"181.616921\"/>\n     <use style=\"fill:#4c72b0;stroke:#333333;\" x=\"135.601683\" xlink:href=\"#m4e63d32d16\" y=\"193.778082\"/>\n     <use style=\"fill:#4c72b0;stroke:#333333;\" x=\"116.076055\" xlink:href=\"#m4e63d32d16\" y=\"196.017082\"/>\n     <use style=\"fill:#4c72b0;stroke:#333333;\" x=\"214.950048\" xlink:href=\"#m4e63d32d16\" y=\"81.658496\"/>\n     <use style=\"fill:#4c72b0;stroke:#333333;\" x=\"124.157667\" xlink:href=\"#m4e63d32d16\" y=\"184.585026\"/>\n     <use style=\"fill:#4c72b0;stroke:#333333;\" x=\"122.792127\" xlink:href=\"#m4e63d32d16\" y=\"188.528658\"/>\n     <use style=\"fill:#4c72b0;stroke:#333333;\" x=\"114.303985\" xlink:href=\"#m4e63d32d16\" y=\"188.460235\"/>\n     <use style=\"fill:#4c72b0;stroke:#333333;\" x=\"121.868835\" xlink:href=\"#m4e63d32d16\" y=\"194.747632\"/>\n     <use style=\"fill:#4c72b0;stroke:#333333;\" x=\"212.871344\" xlink:href=\"#m4e63d32d16\" y=\"68.812036\"/>\n     <use style=\"fill:#4c72b0;stroke:#333333;\" x=\"215.620291\" xlink:href=\"#m4e63d32d16\" y=\"81.500165\"/>\n     <use style=\"fill:#4c72b0;stroke:#333333;\" x=\"100.682479\" xlink:href=\"#m4e63d32d16\" y=\"199.661904\"/>\n     <use style=\"fill:#4c72b0;stroke:#333333;\" x=\"229.056521\" xlink:href=\"#m4e63d32d16\" y=\"94.135493\"/>\n     <use style=\"fill:#4c72b0;stroke:#333333;\" x=\"130.615543\" xlink:href=\"#m4e63d32d16\" y=\"191.859782\"/>\n     <use style=\"fill:#4c72b0;stroke:#333333;\" x=\"113.939003\" xlink:href=\"#m4e63d32d16\" y=\"179.987766\"/>\n     <use style=\"fill:#4c72b0;stroke:#333333;\" x=\"220.133509\" xlink:href=\"#m4e63d32d16\" y=\"73.668557\"/>\n     <use style=\"fill:#4c72b0;stroke:#333333;\" x=\"130.77107\" xlink:href=\"#m4e63d32d16\" y=\"177.8694\"/>\n    </g>\n   </g>\n   <g id=\"PathCollection_2\">\n    <defs>\n     <path d=\"M 0 3 \nC 0.795609 3 1.55874 2.683901 2.12132 2.12132 \nC 2.683901 1.55874 3 0.795609 3 0 \nC 3 -0.795609 2.683901 -1.55874 2.12132 -2.12132 \nC 1.55874 -2.683901 0.795609 -3 0 -3 \nC -0.795609 -3 -1.55874 -2.683901 -2.12132 -2.12132 \nC -2.683901 -1.55874 -3 -0.795609 -3 0 \nC -3 0.795609 -2.683901 1.55874 -2.12132 2.12132 \nC -1.55874 2.683901 -0.795609 3 0 3 \nz\n\" id=\"mddd4380bd4\" style=\"stroke:#333333;\"/>\n    </defs>\n    <g clip-path=\"url(#pf6ac980fc2)\">\n     <use style=\"fill:#dd8452;stroke:#333333;\" x=\"112.096157\" xlink:href=\"#mddd4380bd4\" y=\"87.480362\"/>\n     <use style=\"fill:#dd8452;stroke:#333333;\" x=\"216.472711\" xlink:href=\"#mddd4380bd4\" y=\"197.223837\"/>\n     <use style=\"fill:#dd8452;stroke:#333333;\" x=\"119.499598\" xlink:href=\"#mddd4380bd4\" y=\"66.004015\"/>\n     <use style=\"fill:#dd8452;stroke:#333333;\" x=\"237.304412\" xlink:href=\"#mddd4380bd4\" y=\"208.689873\"/>\n     <use style=\"fill:#dd8452;stroke:#333333;\" x=\"212.502729\" xlink:href=\"#mddd4380bd4\" y=\"176.909335\"/>\n     <use style=\"fill:#dd8452;stroke:#333333;\" x=\"224.346149\" xlink:href=\"#mddd4380bd4\" y=\"167.032503\"/>\n     <use style=\"fill:#dd8452;stroke:#333333;\" x=\"95.660785\" xlink:href=\"#mddd4380bd4\" y=\"65.861243\"/>\n     <use style=\"fill:#dd8452;stroke:#333333;\" x=\"135.521852\" xlink:href=\"#mddd4380bd4\" y=\"66.622254\"/>\n     <use style=\"fill:#dd8452;stroke:#333333;\" x=\"121.350098\" xlink:href=\"#mddd4380bd4\" y=\"94.330417\"/>\n     <use style=\"fill:#dd8452;stroke:#333333;\" x=\"120.004286\" xlink:href=\"#mddd4380bd4\" y=\"63.911605\"/>\n     <use style=\"fill:#dd8452;stroke:#333333;\" x=\"103.481343\" xlink:href=\"#mddd4380bd4\" y=\"61.50077\"/>\n     <use style=\"fill:#dd8452;stroke:#333333;\" x=\"242.457364\" xlink:href=\"#mddd4380bd4\" y=\"176.580119\"/>\n     <use style=\"fill:#dd8452;stroke:#333333;\" x=\"213.667186\" xlink:href=\"#mddd4380bd4\" y=\"173.135684\"/>\n     <use style=\"fill:#dd8452;stroke:#333333;\" x=\"212.156096\" xlink:href=\"#mddd4380bd4\" y=\"176.196763\"/>\n     <use style=\"fill:#dd8452;stroke:#333333;\" x=\"128.705121\" xlink:href=\"#mddd4380bd4\" y=\"77.433213\"/>\n     <use style=\"fill:#dd8452;stroke:#333333;\" x=\"227.176947\" xlink:href=\"#mddd4380bd4\" y=\"199.054222\"/>\n     <use style=\"fill:#dd8452;stroke:#333333;\" x=\"245.652526\" xlink:href=\"#mddd4380bd4\" y=\"188.7116\"/>\n     <use style=\"fill:#dd8452;stroke:#333333;\" x=\"238.941937\" xlink:href=\"#mddd4380bd4\" y=\"186.794029\"/>\n     <use style=\"fill:#dd8452;stroke:#333333;\" x=\"219.148399\" xlink:href=\"#mddd4380bd4\" y=\"189.950709\"/>\n     <use style=\"fill:#dd8452;stroke:#333333;\" x=\"218.535941\" xlink:href=\"#mddd4380bd4\" y=\"201.6955\"/>\n     <use style=\"fill:#dd8452;stroke:#333333;\" x=\"109.353919\" xlink:href=\"#mddd4380bd4\" y=\"86.031191\"/>\n     <use style=\"fill:#dd8452;stroke:#333333;\" x=\"228.490442\" xlink:href=\"#mddd4380bd4\" y=\"182.306384\"/>\n     <use style=\"fill:#dd8452;stroke:#333333;\" x=\"131.002081\" xlink:href=\"#mddd4380bd4\" y=\"74.175724\"/>\n     <use style=\"fill:#dd8452;stroke:#333333;\" x=\"226.085809\" xlink:href=\"#mddd4380bd4\" y=\"171.48351\"/>\n     <use style=\"fill:#dd8452;stroke:#333333;\" x=\"97.829446\" xlink:href=\"#mddd4380bd4\" y=\"75.633164\"/>\n     <use style=\"fill:#dd8452;stroke:#333333;\" x=\"118.780167\" xlink:href=\"#mddd4380bd4\" y=\"82.837267\"/>\n     <use style=\"fill:#dd8452;stroke:#333333;\" x=\"219.240354\" xlink:href=\"#mddd4380bd4\" y=\"195.115065\"/>\n     <use style=\"fill:#dd8452;stroke:#333333;\" x=\"226.900365\" xlink:href=\"#mddd4380bd4\" y=\"185.601488\"/>\n     <use style=\"fill:#dd8452;stroke:#333333;\" x=\"125.651289\" xlink:href=\"#mddd4380bd4\" y=\"73.586219\"/>\n     <use style=\"fill:#dd8452;stroke:#333333;\" x=\"235.492375\" xlink:href=\"#mddd4380bd4\" y=\"175.571697\"/>\n     <use style=\"fill:#dd8452;stroke:#333333;\" x=\"131.784863\" xlink:href=\"#mddd4380bd4\" y=\"90.986826\"/>\n     <use style=\"fill:#dd8452;stroke:#333333;\" x=\"120.707838\" xlink:href=\"#mddd4380bd4\" y=\"86.904679\"/>\n     <use style=\"fill:#dd8452;stroke:#333333;\" x=\"222.635054\" xlink:href=\"#mddd4380bd4\" y=\"173.448855\"/>\n     <use style=\"fill:#dd8452;stroke:#333333;\" x=\"225.623296\" xlink:href=\"#mddd4380bd4\" y=\"172.59052\"/>\n     <use style=\"fill:#dd8452;stroke:#333333;\" x=\"110.319052\" xlink:href=\"#mddd4380bd4\" y=\"74.729342\"/>\n     <use style=\"fill:#dd8452;stroke:#333333;\" x=\"115.307086\" xlink:href=\"#mddd4380bd4\" y=\"77.592905\"/>\n     <use style=\"fill:#dd8452;stroke:#333333;\" x=\"136.739925\" xlink:href=\"#mddd4380bd4\" y=\"62.486839\"/>\n     <use style=\"fill:#dd8452;stroke:#333333;\" x=\"232.872618\" xlink:href=\"#mddd4380bd4\" y=\"171.300376\"/>\n     <use style=\"fill:#dd8452;stroke:#333333;\" x=\"129.999068\" xlink:href=\"#mddd4380bd4\" y=\"76.586404\"/>\n     <use style=\"fill:#dd8452;stroke:#333333;\" x=\"223.722318\" xlink:href=\"#mddd4380bd4\" y=\"176.670472\"/>\n     <use style=\"fill:#dd8452;stroke:#333333;\" x=\"126.992467\" xlink:href=\"#mddd4380bd4\" y=\"85.647996\"/>\n     <use style=\"fill:#dd8452;stroke:#333333;\" x=\"128.615513\" xlink:href=\"#mddd4380bd4\" y=\"70.241533\"/>\n     <use style=\"fill:#dd8452;stroke:#333333;\" x=\"127.758799\" xlink:href=\"#mddd4380bd4\" y=\"72.957314\"/>\n     <use style=\"fill:#dd8452;stroke:#333333;\" x=\"219.418236\" xlink:href=\"#mddd4380bd4\" y=\"208.115459\"/>\n     <use style=\"fill:#dd8452;stroke:#333333;\" x=\"134.030482\" xlink:href=\"#mddd4380bd4\" y=\"71.650319\"/>\n     <use style=\"fill:#dd8452;stroke:#333333;\" x=\"126.826018\" xlink:href=\"#mddd4380bd4\" y=\"68.692592\"/>\n     <use style=\"fill:#dd8452;stroke:#333333;\" x=\"210.324249\" xlink:href=\"#mddd4380bd4\" y=\"174.268046\"/>\n     <use style=\"fill:#dd8452;stroke:#333333;\" x=\"231.301528\" xlink:href=\"#mddd4380bd4\" y=\"196.626833\"/>\n     <use style=\"fill:#dd8452;stroke:#333333;\" x=\"123.583412\" xlink:href=\"#mddd4380bd4\" y=\"80.582728\"/>\n     <use style=\"fill:#dd8452;stroke:#333333;\" x=\"129.754097\" xlink:href=\"#mddd4380bd4\" y=\"84.153386\"/>\n     <use style=\"fill:#dd8452;stroke:#333333;\" x=\"215.731582\" xlink:href=\"#mddd4380bd4\" y=\"184.433377\"/>\n     <use style=\"fill:#dd8452;stroke:#333333;\" x=\"223.331664\" xlink:href=\"#mddd4380bd4\" y=\"189.105868\"/>\n     <use style=\"fill:#dd8452;stroke:#333333;\" x=\"127.545364\" xlink:href=\"#mddd4380bd4\" y=\"79.883512\"/>\n     <use style=\"fill:#dd8452;stroke:#333333;\" x=\"92.976375\" xlink:href=\"#mddd4380bd4\" y=\"85.530225\"/>\n     <use style=\"fill:#dd8452;stroke:#333333;\" x=\"108.127683\" xlink:href=\"#mddd4380bd4\" y=\"94.367465\"/>\n     <use style=\"fill:#dd8452;stroke:#333333;\" x=\"125.858576\" xlink:href=\"#mddd4380bd4\" y=\"78.561522\"/>\n     <use style=\"fill:#dd8452;stroke:#333333;\" x=\"121.136269\" xlink:href=\"#mddd4380bd4\" y=\"58.888918\"/>\n     <use style=\"fill:#dd8452;stroke:#333333;\" x=\"117.845794\" xlink:href=\"#mddd4380bd4\" y=\"74.684201\"/>\n     <use style=\"fill:#dd8452;stroke:#333333;\" x=\"116.156394\" xlink:href=\"#mddd4380bd4\" y=\"67.733883\"/>\n     <use style=\"fill:#dd8452;stroke:#333333;\" x=\"245.831937\" xlink:href=\"#mddd4380bd4\" y=\"190.109778\"/>\n     <use style=\"fill:#dd8452;stroke:#333333;\" x=\"102.644486\" xlink:href=\"#mddd4380bd4\" y=\"96.310124\"/>\n     <use style=\"fill:#dd8452;stroke:#333333;\" x=\"246.404283\" xlink:href=\"#mddd4380bd4\" y=\"176.479967\"/>\n     <use style=\"fill:#dd8452;stroke:#333333;\" x=\"236.011259\" xlink:href=\"#mddd4380bd4\" y=\"166.124698\"/>\n     <use style=\"fill:#dd8452;stroke:#333333;\" x=\"242.730077\" xlink:href=\"#mddd4380bd4\" y=\"162.496667\"/>\n     <use style=\"fill:#dd8452;stroke:#333333;\" x=\"215.317191\" xlink:href=\"#mddd4380bd4\" y=\"209.749946\"/>\n     <use style=\"fill:#dd8452;stroke:#333333;\" x=\"121.147611\" xlink:href=\"#mddd4380bd4\" y=\"63.325534\"/>\n     <use style=\"fill:#dd8452;stroke:#333333;\" x=\"217.436177\" xlink:href=\"#mddd4380bd4\" y=\"171.712521\"/>\n     <use style=\"fill:#dd8452;stroke:#333333;\" x=\"220.288244\" xlink:href=\"#mddd4380bd4\" y=\"177.849051\"/>\n     <use style=\"fill:#dd8452;stroke:#333333;\" x=\"110.361651\" xlink:href=\"#mddd4380bd4\" y=\"67.872443\"/>\n     <use style=\"fill:#dd8452;stroke:#333333;\" x=\"138.481868\" xlink:href=\"#mddd4380bd4\" y=\"69.318154\"/>\n     <use style=\"fill:#dd8452;stroke:#333333;\" x=\"253.903928\" xlink:href=\"#mddd4380bd4\" y=\"175.09917\"/>\n     <use style=\"fill:#dd8452;stroke:#333333;\" x=\"123.717562\" xlink:href=\"#mddd4380bd4\" y=\"74.357028\"/>\n     <use style=\"fill:#dd8452;stroke:#333333;\" x=\"124.306434\" xlink:href=\"#mddd4380bd4\" y=\"50.470171\"/>\n     <use style=\"fill:#dd8452;stroke:#333333;\" x=\"124.383578\" xlink:href=\"#mddd4380bd4\" y=\"81.810632\"/>\n     <use style=\"fill:#dd8452;stroke:#333333;\" x=\"231.568591\" xlink:href=\"#mddd4380bd4\" y=\"193.199124\"/>\n     <use style=\"fill:#dd8452;stroke:#333333;\" x=\"219.51437\" xlink:href=\"#mddd4380bd4\" y=\"179.613484\"/>\n     <use style=\"fill:#dd8452;stroke:#333333;\" x=\"238.010678\" xlink:href=\"#mddd4380bd4\" y=\"176.611656\"/>\n     <use style=\"fill:#dd8452;stroke:#333333;\" x=\"119.91583\" xlink:href=\"#mddd4380bd4\" y=\"72.821087\"/>\n     <use style=\"fill:#dd8452;stroke:#333333;\" x=\"211.663632\" xlink:href=\"#mddd4380bd4\" y=\"198.978781\"/>\n     <use style=\"fill:#dd8452;stroke:#333333;\" x=\"252.021957\" xlink:href=\"#mddd4380bd4\" y=\"198.229188\"/>\n     <use style=\"fill:#dd8452;stroke:#333333;\" x=\"221.941788\" xlink:href=\"#mddd4380bd4\" y=\"195.840128\"/>\n     <use style=\"fill:#dd8452;stroke:#333333;\" x=\"140.810072\" xlink:href=\"#mddd4380bd4\" y=\"66.385363\"/>\n     <use style=\"fill:#dd8452;stroke:#333333;\" x=\"111.705327\" xlink:href=\"#mddd4380bd4\" y=\"77.466631\"/>\n     <use style=\"fill:#dd8452;stroke:#333333;\" x=\"221.823705\" xlink:href=\"#mddd4380bd4\" y=\"186.382749\"/>\n     <use style=\"fill:#dd8452;stroke:#333333;\" x=\"112.049484\" xlink:href=\"#mddd4380bd4\" y=\"83.321073\"/>\n     <use style=\"fill:#dd8452;stroke:#333333;\" x=\"135.200284\" xlink:href=\"#mddd4380bd4\" y=\"64.202282\"/>\n     <use style=\"fill:#dd8452;stroke:#333333;\" x=\"126.827102\" xlink:href=\"#mddd4380bd4\" y=\"75.874798\"/>\n     <use style=\"fill:#dd8452;stroke:#333333;\" x=\"129.666769\" xlink:href=\"#mddd4380bd4\" y=\"71.794219\"/>\n     <use style=\"fill:#dd8452;stroke:#333333;\" x=\"245.872438\" xlink:href=\"#mddd4380bd4\" y=\"196.147065\"/>\n     <use style=\"fill:#dd8452;stroke:#333333;\" x=\"233.005916\" xlink:href=\"#mddd4380bd4\" y=\"194.994263\"/>\n     <use style=\"fill:#dd8452;stroke:#333333;\" x=\"109.444141\" xlink:href=\"#mddd4380bd4\" y=\"82.774253\"/>\n     <use style=\"fill:#dd8452;stroke:#333333;\" x=\"234.070356\" xlink:href=\"#mddd4380bd4\" y=\"161.927225\"/>\n     <use style=\"fill:#dd8452;stroke:#333333;\" x=\"109.938076\" xlink:href=\"#mddd4380bd4\" y=\"62.203524\"/>\n     <use style=\"fill:#dd8452;stroke:#333333;\" x=\"225.010455\" xlink:href=\"#mddd4380bd4\" y=\"186.934397\"/>\n    </g>\n   </g>\n   <g id=\"patch_3\">\n    <path d=\"M 66.023594 239.758125 \nL 66.023594 22.318125 \n\" style=\"fill:none;stroke:#ffffff;stroke-linecap:square;stroke-linejoin:miter;stroke-width:1.25;\"/>\n   </g>\n   <g id=\"patch_4\">\n    <path d=\"M 283.463594 239.758125 \nL 283.463594 22.318125 \n\" style=\"fill:none;stroke:#ffffff;stroke-linecap:square;stroke-linejoin:miter;stroke-width:1.25;\"/>\n   </g>\n   <g id=\"patch_5\">\n    <path d=\"M 66.023594 239.758125 \nL 283.463594 239.758125 \n\" style=\"fill:none;stroke:#ffffff;stroke-linecap:square;stroke-linejoin:miter;stroke-width:1.25;\"/>\n   </g>\n   <g id=\"patch_6\">\n    <path d=\"M 66.023594 22.318125 \nL 283.463594 22.318125 \n\" style=\"fill:none;stroke:#ffffff;stroke-linecap:square;stroke-linejoin:miter;stroke-width:1.25;\"/>\n   </g>\n   <g id=\"text_17\">\n    <!-- Dataset samples -->\n    <defs>\n     <path d=\"M 19.671875 64.796875 \nL 19.671875 8.109375 \nL 31.59375 8.109375 \nQ 46.6875 8.109375 53.6875 14.9375 \nQ 60.6875 21.78125 60.6875 36.53125 \nQ 60.6875 51.171875 53.6875 57.984375 \nQ 46.6875 64.796875 31.59375 64.796875 \nz\nM 9.8125 72.90625 \nL 30.078125 72.90625 \nQ 51.265625 72.90625 61.171875 64.09375 \nQ 71.09375 55.28125 71.09375 36.53125 \nQ 71.09375 17.671875 61.125 8.828125 \nQ 51.171875 0 30.078125 0 \nL 9.8125 0 \nz\n\" id=\"DejaVuSans-68\"/>\n     <path d=\"M 34.28125 27.484375 \nQ 23.390625 27.484375 19.1875 25 \nQ 14.984375 22.515625 14.984375 16.5 \nQ 14.984375 11.71875 18.140625 8.90625 \nQ 21.296875 6.109375 26.703125 6.109375 \nQ 34.1875 6.109375 38.703125 11.40625 \nQ 43.21875 16.703125 43.21875 25.484375 \nL 43.21875 27.484375 \nz\nM 52.203125 31.203125 \nL 52.203125 0 \nL 43.21875 0 \nL 43.21875 8.296875 \nQ 40.140625 3.328125 35.546875 0.953125 \nQ 30.953125 -1.421875 24.3125 -1.421875 \nQ 15.921875 -1.421875 10.953125 3.296875 \nQ 6 8.015625 6 15.921875 \nQ 6 25.140625 12.171875 29.828125 \nQ 18.359375 34.515625 30.609375 34.515625 \nL 43.21875 34.515625 \nL 43.21875 35.40625 \nQ 43.21875 41.609375 39.140625 45 \nQ 35.0625 48.390625 27.6875 48.390625 \nQ 23 48.390625 18.546875 47.265625 \nQ 14.109375 46.140625 10.015625 43.890625 \nL 10.015625 52.203125 \nQ 14.9375 54.109375 19.578125 55.046875 \nQ 24.21875 56 28.609375 56 \nQ 40.484375 56 46.34375 49.84375 \nQ 52.203125 43.703125 52.203125 31.203125 \nz\n\" id=\"DejaVuSans-97\"/>\n     <path d=\"M 18.3125 70.21875 \nL 18.3125 54.6875 \nL 36.8125 54.6875 \nL 36.8125 47.703125 \nL 18.3125 47.703125 \nL 18.3125 18.015625 \nQ 18.3125 11.328125 20.140625 9.421875 \nQ 21.96875 7.515625 27.59375 7.515625 \nL 36.8125 7.515625 \nL 36.8125 0 \nL 27.59375 0 \nQ 17.1875 0 13.234375 3.875 \nQ 9.28125 7.765625 9.28125 18.015625 \nL 9.28125 47.703125 \nL 2.6875 47.703125 \nL 2.6875 54.6875 \nL 9.28125 54.6875 \nL 9.28125 70.21875 \nz\n\" id=\"DejaVuSans-116\"/>\n     <path d=\"M 44.28125 53.078125 \nL 44.28125 44.578125 \nQ 40.484375 46.53125 36.375 47.5 \nQ 32.28125 48.484375 27.875 48.484375 \nQ 21.1875 48.484375 17.84375 46.4375 \nQ 14.5 44.390625 14.5 40.28125 \nQ 14.5 37.15625 16.890625 35.375 \nQ 19.28125 33.59375 26.515625 31.984375 \nL 29.59375 31.296875 \nQ 39.15625 29.25 43.1875 25.515625 \nQ 47.21875 21.78125 47.21875 15.09375 \nQ 47.21875 7.46875 41.1875 3.015625 \nQ 35.15625 -1.421875 24.609375 -1.421875 \nQ 20.21875 -1.421875 15.453125 -0.5625 \nQ 10.6875 0.296875 5.421875 2 \nL 5.421875 11.28125 \nQ 10.40625 8.6875 15.234375 7.390625 \nQ 20.0625 6.109375 24.8125 6.109375 \nQ 31.15625 6.109375 34.5625 8.28125 \nQ 37.984375 10.453125 37.984375 14.40625 \nQ 37.984375 18.0625 35.515625 20.015625 \nQ 33.0625 21.96875 24.703125 23.78125 \nL 21.578125 24.515625 \nQ 13.234375 26.265625 9.515625 29.90625 \nQ 5.8125 33.546875 5.8125 39.890625 \nQ 5.8125 47.609375 11.28125 51.796875 \nQ 16.75 56 26.8125 56 \nQ 31.78125 56 36.171875 55.265625 \nQ 40.578125 54.546875 44.28125 53.078125 \nz\n\" id=\"DejaVuSans-115\"/>\n     <path d=\"M 56.203125 29.59375 \nL 56.203125 25.203125 \nL 14.890625 25.203125 \nQ 15.484375 15.921875 20.484375 11.0625 \nQ 25.484375 6.203125 34.421875 6.203125 \nQ 39.59375 6.203125 44.453125 7.46875 \nQ 49.3125 8.734375 54.109375 11.28125 \nL 54.109375 2.78125 \nQ 49.265625 0.734375 44.1875 -0.34375 \nQ 39.109375 -1.421875 33.890625 -1.421875 \nQ 20.796875 -1.421875 13.15625 6.1875 \nQ 5.515625 13.8125 5.515625 26.8125 \nQ 5.515625 40.234375 12.765625 48.109375 \nQ 20.015625 56 32.328125 56 \nQ 43.359375 56 49.78125 48.890625 \nQ 56.203125 41.796875 56.203125 29.59375 \nz\nM 47.21875 32.234375 \nQ 47.125 39.59375 43.09375 43.984375 \nQ 39.0625 48.390625 32.421875 48.390625 \nQ 24.90625 48.390625 20.390625 44.140625 \nQ 15.875 39.890625 15.1875 32.171875 \nz\n\" id=\"DejaVuSans-101\"/>\n     <path id=\"DejaVuSans-32\"/>\n     <path d=\"M 52 44.1875 \nQ 55.375 50.25 60.0625 53.125 \nQ 64.75 56 71.09375 56 \nQ 79.640625 56 84.28125 50.015625 \nQ 88.921875 44.046875 88.921875 33.015625 \nL 88.921875 0 \nL 79.890625 0 \nL 79.890625 32.71875 \nQ 79.890625 40.578125 77.09375 44.375 \nQ 74.3125 48.1875 68.609375 48.1875 \nQ 61.625 48.1875 57.5625 43.546875 \nQ 53.515625 38.921875 53.515625 30.90625 \nL 53.515625 0 \nL 44.484375 0 \nL 44.484375 32.71875 \nQ 44.484375 40.625 41.703125 44.40625 \nQ 38.921875 48.1875 33.109375 48.1875 \nQ 26.21875 48.1875 22.15625 43.53125 \nQ 18.109375 38.875 18.109375 30.90625 \nL 18.109375 0 \nL 9.078125 0 \nL 9.078125 54.6875 \nL 18.109375 54.6875 \nL 18.109375 46.1875 \nQ 21.1875 51.21875 25.484375 53.609375 \nQ 29.78125 56 35.6875 56 \nQ 41.65625 56 45.828125 52.96875 \nQ 50 49.953125 52 44.1875 \nz\n\" id=\"DejaVuSans-109\"/>\n     <path d=\"M 18.109375 8.203125 \nL 18.109375 -20.796875 \nL 9.078125 -20.796875 \nL 9.078125 54.6875 \nL 18.109375 54.6875 \nL 18.109375 46.390625 \nQ 20.953125 51.265625 25.265625 53.625 \nQ 29.59375 56 35.59375 56 \nQ 45.5625 56 51.78125 48.09375 \nQ 58.015625 40.1875 58.015625 27.296875 \nQ 58.015625 14.40625 51.78125 6.484375 \nQ 45.5625 -1.421875 35.59375 -1.421875 \nQ 29.59375 -1.421875 25.265625 0.953125 \nQ 20.953125 3.328125 18.109375 8.203125 \nz\nM 48.6875 27.296875 \nQ 48.6875 37.203125 44.609375 42.84375 \nQ 40.53125 48.484375 33.40625 48.484375 \nQ 26.265625 48.484375 22.1875 42.84375 \nQ 18.109375 37.203125 18.109375 27.296875 \nQ 18.109375 17.390625 22.1875 11.75 \nQ 26.265625 6.109375 33.40625 6.109375 \nQ 40.53125 6.109375 44.609375 11.75 \nQ 48.6875 17.390625 48.6875 27.296875 \nz\n\" id=\"DejaVuSans-112\"/>\n     <path d=\"M 9.421875 75.984375 \nL 18.40625 75.984375 \nL 18.40625 0 \nL 9.421875 0 \nz\n\" id=\"DejaVuSans-108\"/>\n    </defs>\n    <g style=\"fill:#262626;\" transform=\"translate(124.400781 16.318125)scale(0.12 -0.12)\">\n     <use xlink:href=\"#DejaVuSans-68\"/>\n     <use x=\"77.001953\" xlink:href=\"#DejaVuSans-97\"/>\n     <use x=\"138.28125\" xlink:href=\"#DejaVuSans-116\"/>\n     <use x=\"177.490234\" xlink:href=\"#DejaVuSans-97\"/>\n     <use x=\"238.769531\" xlink:href=\"#DejaVuSans-115\"/>\n     <use x=\"290.869141\" xlink:href=\"#DejaVuSans-101\"/>\n     <use x=\"352.392578\" xlink:href=\"#DejaVuSans-116\"/>\n     <use x=\"391.601562\" xlink:href=\"#DejaVuSans-32\"/>\n     <use x=\"423.388672\" xlink:href=\"#DejaVuSans-115\"/>\n     <use x=\"475.488281\" xlink:href=\"#DejaVuSans-97\"/>\n     <use x=\"536.767578\" xlink:href=\"#DejaVuSans-109\"/>\n     <use x=\"634.179688\" xlink:href=\"#DejaVuSans-112\"/>\n     <use x=\"697.65625\" xlink:href=\"#DejaVuSans-108\"/>\n     <use x=\"725.439453\" xlink:href=\"#DejaVuSans-101\"/>\n     <use x=\"786.962891\" xlink:href=\"#DejaVuSans-115\"/>\n    </g>\n   </g>\n   <g id=\"legend_1\">\n    <g id=\"patch_7\">\n     <path d=\"M 201.130312 148.834063 \nL 275.763594 148.834063 \nQ 277.963594 148.834063 277.963594 146.634063 \nL 277.963594 115.442187 \nQ 277.963594 113.242188 275.763594 113.242188 \nL 201.130312 113.242188 \nQ 198.930312 113.242188 198.930312 115.442187 \nL 198.930312 146.634063 \nQ 198.930312 148.834063 201.130312 148.834063 \nz\n\" style=\"fill:#eaeaf2;opacity:0.8;stroke:#cccccc;stroke-linejoin:miter;\"/>\n    </g>\n    <g id=\"PathCollection_3\">\n     <g>\n      <use style=\"fill:#4c72b0;stroke:#333333;\" x=\"214.330312\" xlink:href=\"#m4e63d32d16\" y=\"123.112969\"/>\n     </g>\n    </g>\n    <g id=\"text_18\">\n     <!-- Class 0 -->\n     <defs>\n      <path d=\"M 64.40625 67.28125 \nL 64.40625 56.890625 \nQ 59.421875 61.53125 53.78125 63.8125 \nQ 48.140625 66.109375 41.796875 66.109375 \nQ 29.296875 66.109375 22.65625 58.46875 \nQ 16.015625 50.828125 16.015625 36.375 \nQ 16.015625 21.96875 22.65625 14.328125 \nQ 29.296875 6.6875 41.796875 6.6875 \nQ 48.140625 6.6875 53.78125 8.984375 \nQ 59.421875 11.28125 64.40625 15.921875 \nL 64.40625 5.609375 \nQ 59.234375 2.09375 53.4375 0.328125 \nQ 47.65625 -1.421875 41.21875 -1.421875 \nQ 24.65625 -1.421875 15.125 8.703125 \nQ 5.609375 18.84375 5.609375 36.375 \nQ 5.609375 53.953125 15.125 64.078125 \nQ 24.65625 74.21875 41.21875 74.21875 \nQ 47.75 74.21875 53.53125 72.484375 \nQ 59.328125 70.75 64.40625 67.28125 \nz\n\" id=\"DejaVuSans-67\"/>\n     </defs>\n     <g style=\"fill:#262626;\" transform=\"translate(234.130312 126.000469)scale(0.11 -0.11)\">\n      <use xlink:href=\"#DejaVuSans-67\"/>\n      <use x=\"69.824219\" xlink:href=\"#DejaVuSans-108\"/>\n      <use x=\"97.607422\" xlink:href=\"#DejaVuSans-97\"/>\n      <use x=\"158.886719\" xlink:href=\"#DejaVuSans-115\"/>\n      <use x=\"210.986328\" xlink:href=\"#DejaVuSans-115\"/>\n      <use x=\"263.085938\" xlink:href=\"#DejaVuSans-32\"/>\n      <use x=\"294.873047\" xlink:href=\"#DejaVuSans-48\"/>\n     </g>\n    </g>\n    <g id=\"PathCollection_4\">\n     <g>\n      <use style=\"fill:#dd8452;stroke:#333333;\" x=\"214.330312\" xlink:href=\"#mddd4380bd4\" y=\"139.258906\"/>\n     </g>\n    </g>\n    <g id=\"text_19\">\n     <!-- Class 1 -->\n     <g style=\"fill:#262626;\" transform=\"translate(234.130312 142.146406)scale(0.11 -0.11)\">\n      <use xlink:href=\"#DejaVuSans-67\"/>\n      <use x=\"69.824219\" xlink:href=\"#DejaVuSans-108\"/>\n      <use x=\"97.607422\" xlink:href=\"#DejaVuSans-97\"/>\n      <use x=\"158.886719\" xlink:href=\"#DejaVuSans-115\"/>\n      <use x=\"210.986328\" xlink:href=\"#DejaVuSans-115\"/>\n      <use x=\"263.085938\" xlink:href=\"#DejaVuSans-32\"/>\n      <use x=\"294.873047\" xlink:href=\"#DejaVuSans-49\"/>\n     </g>\n    </g>\n   </g>\n  </g>\n </g>\n <defs>\n  <clipPath id=\"pf6ac980fc2\">\n   <rect height=\"217.44\" width=\"217.44\" x=\"66.023594\" y=\"22.318125\"/>\n  </clipPath>\n </defs>\n</svg>\n",
            "application/pdf": "[encoded data removed]"
          },
          "metadata": {}
        }
      ],
      "source": [
        "@torch.no_grad() # Decorator, same effect as \"with torch.no_grad(): ...\" over the whole function.\n",
        "def visualize_classification(model, data, label):\n",
        "    if isinstance(data, torch.Tensor):\n",
        "        data = data.cpu().numpy()\n",
        "    if isinstance(label, torch.Tensor):\n",
        "        label = label.cpu().numpy()\n",
        "    data_0 = data[label == 0]\n",
        "    data_1 = data[label == 1]\n",
        "    \n",
        "    plt.figure(figsize=(4,4))\n",
        "    plt.scatter(data_0[:,0], data_0[:,1], edgecolor=\"#333\", label=\"Class 0\")\n",
        "    plt.scatter(data_1[:,0], data_1[:,1], edgecolor=\"#333\", label=\"Class 1\")\n",
        "    plt.title(\"Dataset samples\")\n",
        "    plt.ylabel(r\"$x_2$\")\n",
        "    plt.xlabel(r\"$x_1$\")\n",
        "    plt.legend()\n",
        "    \n",
        "    # Let's make use of a lot of operations we have learned above\n",
        "    model.to(device)\n",
        "    c0 = torch.Tensor(to_rgba(\"C0\")).to(device)\n",
        "    c1 = torch.Tensor(to_rgba(\"C1\")).to(device)\n",
        "    x1 = torch.arange(-0.5, 1.5, step=0.01, device=device)\n",
        "    x2 = torch.arange(-0.5, 1.5, step=0.01, device=device)\n",
        "    xx1, xx2 = torch.meshgrid(x1, x2) # Meshgrid function as in numpy\n",
        "    model_inputs = torch.stack([xx1, xx2], dim=-1)\n",
        "    preds = model(model_inputs)\n",
        "    preds = torch.sigmoid(preds)\n",
        "    output_image = preds * c0[None,None] + (1 - preds) * c1[None,None] # Specifying \"None\" in a dimension creates a new one\n",
        "    output_image = output_image.cpu().numpy() # Convert to numpy array. This only works for tensors on CPU, hence first push to CPU\n",
        "    plt.imshow(output_image, origin='upper', extent=(-0.5, 1.5, -0.5, 1.5))\n",
        "    plt.grid(False)\n",
        "\n",
        "visualize_classification(model, dataset.data, dataset.label)\n",
        "plt.show()"
      ]
    },
    {
      "cell_type": "markdown",
      "metadata": {
        "id": "2ZBIIeF5OlFG"
      },
      "source": [
        "The decision boundaries might not look exactly as in the figure in the preamble of this section which can be caused by running it on CPU or a different GPU architecture. Nevertheless, the result on the accuracy metric should be the approximately the same. "
      ]
    },
    {
      "cell_type": "markdown",
      "metadata": {
        "id": "Nk_3wP5jOlFG"
      },
      "source": [
        "## Additional features we didn't get to discuss yet\n",
        "\n",
        "Finally, you are all set to start with your own PyTorch project! In summary, we have looked at how we can build neural networks in PyTorch, and train and test them on data. However, there is still much more to PyTorch we haven't discussed yet. In the comming series of Jupyter notebooks, we will discover more and more functionalities of PyTorch, so that you also get familiar to PyTorch concepts beyond the basics. If you are already interested in learning more of PyTorch, we recommend the official [tutorial website](https://pytorch.org/tutorials/) that contains many tutorials on various topics. Especially logging with Tensorboard ([tutorial here](https://pytorch.org/tutorials/intermediate/tensorboard_tutorial.html)) is a good practice that we will explore from Tutorial 5 on. "
      ]
    }
  ],
  "metadata": {
    "kernelspec": {
      "display_name": "Python 3",
      "language": "python",
      "name": "python3"
    },
    "language_info": {
      "codemirror_mode": {
        "name": "ipython",
        "version": 3
      },
      "file_extension": ".py",
      "mimetype": "text/x-python",
      "name": "python",
      "nbconvert_exporter": "python",
      "pygments_lexer": "ipython3",
      "version": "3.7.3"
    },
    "colab": {
      "provenance": []
    },
    "widgets": {
      "application/vnd.jupyter.widget-state+json": {
        "ed7bc65b6d3e44de9d92dd95c922626e": {
          "model_module": "@jupyter-widgets/controls",
          "model_name": "HBoxModel",
          "model_module_version": "1.5.0",
          "state": {
            "_dom_classes": [],
            "_model_module": "@jupyter-widgets/controls",
            "_model_module_version": "1.5.0",
            "_model_name": "HBoxModel",
            "_view_count": null,
            "_view_module": "@jupyter-widgets/controls",
            "_view_module_version": "1.5.0",
            "_view_name": "HBoxView",
            "box_style": "",
            "children": [
              "IPY_MODEL_cf2b653394bc4422b7c5c5eb79527de9",
              "IPY_MODEL_3abfe8288e154c298c9fca55a017df9c",
              "IPY_MODEL_75499603733d4a9381f54e8092c2cbd0"
            ],
            "layout": "IPY_MODEL_a6421743e6b648a59a15395d90bc6f6c"
          }
        },
        "cf2b653394bc4422b7c5c5eb79527de9": {
          "model_module": "@jupyter-widgets/controls",
          "model_name": "HTMLModel",
          "model_module_version": "1.5.0",
          "state": {
            "_dom_classes": [],
            "_model_module": "@jupyter-widgets/controls",
            "_model_module_version": "1.5.0",
            "_model_name": "HTMLModel",
            "_view_count": null,
            "_view_module": "@jupyter-widgets/controls",
            "_view_module_version": "1.5.0",
            "_view_name": "HTMLView",
            "description": "",
            "description_tooltip": null,
            "layout": "IPY_MODEL_c6fd8c40c7db482aaf2d11e2a7d67576",
            "placeholder": "​",
            "style": "IPY_MODEL_23b3d40772d94217bcb792bf76f4fc24",
            "value": "100%"
          }
        },
        "3abfe8288e154c298c9fca55a017df9c": {
          "model_module": "@jupyter-widgets/controls",
          "model_name": "FloatProgressModel",
          "model_module_version": "1.5.0",
          "state": {
            "_dom_classes": [],
            "_model_module": "@jupyter-widgets/controls",
            "_model_module_version": "1.5.0",
            "_model_name": "FloatProgressModel",
            "_view_count": null,
            "_view_module": "@jupyter-widgets/controls",
            "_view_module_version": "1.5.0",
            "_view_name": "ProgressView",
            "bar_style": "success",
            "description": "",
            "description_tooltip": null,
            "layout": "IPY_MODEL_51b14c0588fe43b99a3ed3b82958cdb1",
            "max": 100,
            "min": 0,
            "orientation": "horizontal",
            "style": "IPY_MODEL_19d6907bde3b4c0496eb6f3252c2305c",
            "value": 100
          }
        },
        "75499603733d4a9381f54e8092c2cbd0": {
          "model_module": "@jupyter-widgets/controls",
          "model_name": "HTMLModel",
          "model_module_version": "1.5.0",
          "state": {
            "_dom_classes": [],
            "_model_module": "@jupyter-widgets/controls",
            "_model_module_version": "1.5.0",
            "_model_name": "HTMLModel",
            "_view_count": null,
            "_view_module": "@jupyter-widgets/controls",
            "_view_module_version": "1.5.0",
            "_view_name": "HTMLView",
            "description": "",
            "description_tooltip": null,
            "layout": "IPY_MODEL_4b980ff32d54401c974fb91ab2751af0",
            "placeholder": "​",
            "style": "IPY_MODEL_7886d7d5e1a3462c9b8949958a1855a0",
            "value": " 100/100 [00:01&lt;00:00, 85.06it/s]"
          }
        },
        "a6421743e6b648a59a15395d90bc6f6c": {
          "model_module": "@jupyter-widgets/base",
          "model_name": "LayoutModel",
          "model_module_version": "1.2.0",
          "state": {
            "_model_module": "@jupyter-widgets/base",
            "_model_module_version": "1.2.0",
            "_model_name": "LayoutModel",
            "_view_count": null,
            "_view_module": "@jupyter-widgets/base",
            "_view_module_version": "1.2.0",
            "_view_name": "LayoutView",
            "align_content": null,
            "align_items": null,
            "align_self": null,
            "border": null,
            "bottom": null,
            "display": null,
            "flex": null,
            "flex_flow": null,
            "grid_area": null,
            "grid_auto_columns": null,
            "grid_auto_flow": null,
            "grid_auto_rows": null,
            "grid_column": null,
            "grid_gap": null,
            "grid_row": null,
            "grid_template_areas": null,
            "grid_template_columns": null,
            "grid_template_rows": null,
            "height": null,
            "justify_content": null,
            "justify_items": null,
            "left": null,
            "margin": null,
            "max_height": null,
            "max_width": null,
            "min_height": null,
            "min_width": null,
            "object_fit": null,
            "object_position": null,
            "order": null,
            "overflow": null,
            "overflow_x": null,
            "overflow_y": null,
            "padding": null,
            "right": null,
            "top": null,
            "visibility": null,
            "width": null
          }
        },
        "c6fd8c40c7db482aaf2d11e2a7d67576": {
          "model_module": "@jupyter-widgets/base",
          "model_name": "LayoutModel",
          "model_module_version": "1.2.0",
          "state": {
            "_model_module": "@jupyter-widgets/base",
            "_model_module_version": "1.2.0",
            "_model_name": "LayoutModel",
            "_view_count": null,
            "_view_module": "@jupyter-widgets/base",
            "_view_module_version": "1.2.0",
            "_view_name": "LayoutView",
            "align_content": null,
            "align_items": null,
            "align_self": null,
            "border": null,
            "bottom": null,
            "display": null,
            "flex": null,
            "flex_flow": null,
            "grid_area": null,
            "grid_auto_columns": null,
            "grid_auto_flow": null,
            "grid_auto_rows": null,
            "grid_column": null,
            "grid_gap": null,
            "grid_row": null,
            "grid_template_areas": null,
            "grid_template_columns": null,
            "grid_template_rows": null,
            "height": null,
            "justify_content": null,
            "justify_items": null,
            "left": null,
            "margin": null,
            "max_height": null,
            "max_width": null,
            "min_height": null,
            "min_width": null,
            "object_fit": null,
            "object_position": null,
            "order": null,
            "overflow": null,
            "overflow_x": null,
            "overflow_y": null,
            "padding": null,
            "right": null,
            "top": null,
            "visibility": null,
            "width": null
          }
        },
        "23b3d40772d94217bcb792bf76f4fc24": {
          "model_module": "@jupyter-widgets/controls",
          "model_name": "DescriptionStyleModel",
          "model_module_version": "1.5.0",
          "state": {
            "_model_module": "@jupyter-widgets/controls",
            "_model_module_version": "1.5.0",
            "_model_name": "DescriptionStyleModel",
            "_view_count": null,
            "_view_module": "@jupyter-widgets/base",
            "_view_module_version": "1.2.0",
            "_view_name": "StyleView",
            "description_width": ""
          }
        },
        "51b14c0588fe43b99a3ed3b82958cdb1": {
          "model_module": "@jupyter-widgets/base",
          "model_name": "LayoutModel",
          "model_module_version": "1.2.0",
          "state": {
            "_model_module": "@jupyter-widgets/base",
            "_model_module_version": "1.2.0",
            "_model_name": "LayoutModel",
            "_view_count": null,
            "_view_module": "@jupyter-widgets/base",
            "_view_module_version": "1.2.0",
            "_view_name": "LayoutView",
            "align_content": null,
            "align_items": null,
            "align_self": null,
            "border": null,
            "bottom": null,
            "display": null,
            "flex": null,
            "flex_flow": null,
            "grid_area": null,
            "grid_auto_columns": null,
            "grid_auto_flow": null,
            "grid_auto_rows": null,
            "grid_column": null,
            "grid_gap": null,
            "grid_row": null,
            "grid_template_areas": null,
            "grid_template_columns": null,
            "grid_template_rows": null,
            "height": null,
            "justify_content": null,
            "justify_items": null,
            "left": null,
            "margin": null,
            "max_height": null,
            "max_width": null,
            "min_height": null,
            "min_width": null,
            "object_fit": null,
            "object_position": null,
            "order": null,
            "overflow": null,
            "overflow_x": null,
            "overflow_y": null,
            "padding": null,
            "right": null,
            "top": null,
            "visibility": null,
            "width": null
          }
        },
        "19d6907bde3b4c0496eb6f3252c2305c": {
          "model_module": "@jupyter-widgets/controls",
          "model_name": "ProgressStyleModel",
          "model_module_version": "1.5.0",
          "state": {
            "_model_module": "@jupyter-widgets/controls",
            "_model_module_version": "1.5.0",
            "_model_name": "ProgressStyleModel",
            "_view_count": null,
            "_view_module": "@jupyter-widgets/base",
            "_view_module_version": "1.2.0",
            "_view_name": "StyleView",
            "bar_color": null,
            "description_width": ""
          }
        },
        "4b980ff32d54401c974fb91ab2751af0": {
          "model_module": "@jupyter-widgets/base",
          "model_name": "LayoutModel",
          "model_module_version": "1.2.0",
          "state": {
            "_model_module": "@jupyter-widgets/base",
            "_model_module_version": "1.2.0",
            "_model_name": "LayoutModel",
            "_view_count": null,
            "_view_module": "@jupyter-widgets/base",
            "_view_module_version": "1.2.0",
            "_view_name": "LayoutView",
            "align_content": null,
            "align_items": null,
            "align_self": null,
            "border": null,
            "bottom": null,
            "display": null,
            "flex": null,
            "flex_flow": null,
            "grid_area": null,
            "grid_auto_columns": null,
            "grid_auto_flow": null,
            "grid_auto_rows": null,
            "grid_column": null,
            "grid_gap": null,
            "grid_row": null,
            "grid_template_areas": null,
            "grid_template_columns": null,
            "grid_template_rows": null,
            "height": null,
            "justify_content": null,
            "justify_items": null,
            "left": null,
            "margin": null,
            "max_height": null,
            "max_width": null,
            "min_height": null,
            "min_width": null,
            "object_fit": null,
            "object_position": null,
            "order": null,
            "overflow": null,
            "overflow_x": null,
            "overflow_y": null,
            "padding": null,
            "right": null,
            "top": null,
            "visibility": null,
            "width": null
          }
        },
        "7886d7d5e1a3462c9b8949958a1855a0": {
          "model_module": "@jupyter-widgets/controls",
          "model_name": "DescriptionStyleModel",
          "model_module_version": "1.5.0",
          "state": {
            "_model_module": "@jupyter-widgets/controls",
            "_model_module_version": "1.5.0",
            "_model_name": "DescriptionStyleModel",
            "_view_count": null,
            "_view_module": "@jupyter-widgets/base",
            "_view_module_version": "1.2.0",
            "_view_name": "StyleView",
            "description_width": ""
          }
        }
      }
    }
  },
  "nbformat": 4,
  "nbformat_minor": 0
}